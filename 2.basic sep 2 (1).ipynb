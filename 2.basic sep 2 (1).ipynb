{
 "cells": [
  {
   "cell_type": "markdown",
   "id": "6e35d59d-ffef-48d0-9f4a-698b49beec37",
   "metadata": {},
   "source": [
    "# OOPS"
   ]
  },
  {
   "cell_type": "code",
   "execution_count": 2,
   "id": "9f4e518d-400e-45d0-9a4a-63276ef41640",
   "metadata": {},
   "outputs": [
    {
     "name": "stdout",
     "output_type": "stream",
     "text": [
      "<class 'int'>\n"
     ]
    }
   ],
   "source": [
    "a=1\n",
    "print(type(a))"
   ]
  },
  {
   "cell_type": "code",
   "execution_count": 3,
   "id": "157dd73d-3203-421e-9b88-6d7206a4b197",
   "metadata": {},
   "outputs": [
    {
     "name": "stdout",
     "output_type": "stream",
     "text": [
      "<class 'str'>\n"
     ]
    }
   ],
   "source": [
    "print(type('samarth'))"
   ]
  },
  {
   "cell_type": "code",
   "execution_count": 4,
   "id": "328963d2-f858-4829-82c5-59f0b44e0780",
   "metadata": {},
   "outputs": [],
   "source": [
    "class test:\n",
    "    pass"
   ]
  },
  {
   "cell_type": "code",
   "execution_count": 5,
   "id": "3b6ab6d4-9668-4a7a-a9cd-ef2839004054",
   "metadata": {},
   "outputs": [
    {
     "data": {
      "text/plain": [
       "type"
      ]
     },
     "execution_count": 5,
     "metadata": {},
     "output_type": "execute_result"
    }
   ],
   "source": [
    "type(test)"
   ]
  },
  {
   "cell_type": "code",
   "execution_count": 6,
   "id": "f40b3aae-0862-4f1e-82e5-5e65fffa2474",
   "metadata": {},
   "outputs": [],
   "source": [
    "a=test()"
   ]
  },
  {
   "cell_type": "code",
   "execution_count": 9,
   "id": "573d4ee3-c340-4292-8446-545080192862",
   "metadata": {},
   "outputs": [
    {
     "name": "stdout",
     "output_type": "stream",
     "text": [
      "<class '__main__.test'>\n"
     ]
    }
   ],
   "source": [
    "print(type(a))"
   ]
  },
  {
   "cell_type": "code",
   "execution_count": 15,
   "id": "00c6e702-f435-4a21-84ee-77e5aacf5b8d",
   "metadata": {},
   "outputs": [],
   "source": [
    "class pwskills:\n",
    "    def welcome_msg(self):\n",
    "        print('welcome to pw skills')"
   ]
  },
  {
   "cell_type": "code",
   "execution_count": 12,
   "id": "2dddb9da-6f05-4529-a4cf-dc78bb11eccd",
   "metadata": {},
   "outputs": [
    {
     "name": "stdout",
     "output_type": "stream",
     "text": [
      "<class '__main__.pwskills'>\n"
     ]
    }
   ],
   "source": [
    "print(pwskills)"
   ]
  },
  {
   "cell_type": "code",
   "execution_count": 16,
   "id": "9cbede59-698a-4902-984e-046d2a0fef0e",
   "metadata": {},
   "outputs": [],
   "source": [
    "rohan=pwskills()"
   ]
  },
  {
   "cell_type": "code",
   "execution_count": 17,
   "id": "28805fd5-5154-4e64-b31d-97776685e741",
   "metadata": {},
   "outputs": [
    {
     "name": "stdout",
     "output_type": "stream",
     "text": [
      "welcome to pw skills\n"
     ]
    }
   ],
   "source": [
    "rohan.welcome_msg()"
   ]
  },
  {
   "cell_type": "code",
   "execution_count": 18,
   "id": "53bbb25d-213f-4d0c-b860-749c1b216412",
   "metadata": {},
   "outputs": [],
   "source": [
    "sohan=pwskills()"
   ]
  },
  {
   "cell_type": "code",
   "execution_count": 20,
   "id": "c48577b9-73c7-478a-aef4-e30e4c01f051",
   "metadata": {},
   "outputs": [
    {
     "name": "stdout",
     "output_type": "stream",
     "text": [
      "welcome to pw skills\n"
     ]
    }
   ],
   "source": [
    "sohan.welcome_msg()"
   ]
  },
  {
   "cell_type": "code",
   "execution_count": 51,
   "id": "8b613925-1976-451b-8ab2-a715f99cd864",
   "metadata": {},
   "outputs": [],
   "source": [
    "class pwskills1:\n",
    "    def  __init__(self,phone_no,email_id,stud_id):\n",
    "        self.phone_no=phone_no\n",
    "        self.email_id=email_id\n",
    "        self.stud_id=stud_id\n",
    "        \n",
    "    def return_student_details(self):\n",
    "        return self.phone_no,self.email_id,self.stud_id\n",
    "        \n"
   ]
  },
  {
   "cell_type": "code",
   "execution_count": 52,
   "id": "c8563a1d-f18d-403b-a5ea-17dd42769677",
   "metadata": {},
   "outputs": [],
   "source": [
    "rohan=pwskills1(6262,'hvfjvjsh',62)"
   ]
  },
  {
   "cell_type": "code",
   "execution_count": 53,
   "id": "ae828ea0-fe8e-49ed-9db6-249ebd38853f",
   "metadata": {},
   "outputs": [
    {
     "data": {
      "text/plain": [
       "62"
      ]
     },
     "execution_count": 53,
     "metadata": {},
     "output_type": "execute_result"
    }
   ],
   "source": [
    "rohan.stud_id"
   ]
  },
  {
   "cell_type": "code",
   "execution_count": 54,
   "id": "ae9a127e-451c-4475-8c2f-664f83f40c9a",
   "metadata": {},
   "outputs": [
    {
     "data": {
      "text/plain": [
       "'hvfjvjsh'"
      ]
     },
     "execution_count": 54,
     "metadata": {},
     "output_type": "execute_result"
    }
   ],
   "source": [
    "rohan.email_id"
   ]
  },
  {
   "cell_type": "code",
   "execution_count": 55,
   "id": "51496c40-12d6-40f5-94bf-e2d8d7f42550",
   "metadata": {},
   "outputs": [
    {
     "data": {
      "text/plain": [
       "6262"
      ]
     },
     "execution_count": 55,
     "metadata": {},
     "output_type": "execute_result"
    }
   ],
   "source": [
    "rohan.phone_no"
   ]
  },
  {
   "cell_type": "code",
   "execution_count": 56,
   "id": "3501e885-f7a7-4bd8-bcd4-1ae920355714",
   "metadata": {},
   "outputs": [
    {
     "data": {
      "text/plain": [
       "(6262, 'hvfjvjsh', 62)"
      ]
     },
     "execution_count": 56,
     "metadata": {},
     "output_type": "execute_result"
    }
   ],
   "source": [
    "rohan.return_student_details()"
   ]
  },
  {
   "cell_type": "code",
   "execution_count": 57,
   "id": "a5ecf381-2e94-4d59-9a73-c3960e741cce",
   "metadata": {},
   "outputs": [],
   "source": [
    "sohan=pwskills1(6516113281,'hdshvjvcue',321)"
   ]
  },
  {
   "cell_type": "code",
   "execution_count": 58,
   "id": "74a0c180-f6d0-4daa-bc02-7d0a38467bdb",
   "metadata": {},
   "outputs": [
    {
     "data": {
      "text/plain": [
       "(6516113281, 'hdshvjvcue', 321)"
      ]
     },
     "execution_count": 58,
     "metadata": {},
     "output_type": "execute_result"
    }
   ],
   "source": [
    "sohan.return_student_details()"
   ]
  },
  {
   "cell_type": "code",
   "execution_count": 64,
   "id": "979b9482-bf74-480d-8c28-fd5a6327b23a",
   "metadata": {},
   "outputs": [],
   "source": [
    "class pwskills1:\n",
    "    def  __init__(samarth,phone_no,email_id,stud_id):\n",
    "        samarth.phone_no=phone_no\n",
    "        samarth.email_id=email_id\n",
    "        samarth.stud_id=stud_id\n",
    "        \n",
    "    def return_student_details(samarth):\n",
    "        return samarth.phone_no,samarth.email_id,samarth.stud_id"
   ]
  },
  {
   "cell_type": "code",
   "execution_count": 66,
   "id": "f46fb84f-c277-42d6-938f-6e30ba8edfc2",
   "metadata": {},
   "outputs": [],
   "source": [
    "pramit=pwskills1(216461,'jfebdjcbj',26)"
   ]
  },
  {
   "cell_type": "code",
   "execution_count": 67,
   "id": "c91a9adc-d34a-4d92-9587-31c87d5523ef",
   "metadata": {},
   "outputs": [
    {
     "data": {
      "text/plain": [
       "'jfebdjcbj'"
      ]
     },
     "execution_count": 67,
     "metadata": {},
     "output_type": "execute_result"
    }
   ],
   "source": [
    "pramit.email_id"
   ]
  },
  {
   "cell_type": "code",
   "execution_count": 68,
   "id": "d00e97a5-5f8a-4dc7-a15d-55492673b7af",
   "metadata": {},
   "outputs": [
    {
     "data": {
      "text/plain": [
       "(216461, 'jfebdjcbj', 26)"
      ]
     },
     "execution_count": 68,
     "metadata": {},
     "output_type": "execute_result"
    }
   ],
   "source": [
    "pramit.return_student_details()"
   ]
  },
  {
   "cell_type": "markdown",
   "id": "a8356933-91c3-47f1-9db6-9d449f33d9f6",
   "metadata": {},
   "source": [
    "# Polymorphism"
   ]
  },
  {
   "cell_type": "code",
   "execution_count": 69,
   "id": "34da3775-33d8-4123-8e0a-2d54ef28e337",
   "metadata": {},
   "outputs": [],
   "source": [
    "def test(a,b):\n",
    "    return a+b"
   ]
  },
  {
   "cell_type": "code",
   "execution_count": 70,
   "id": "09a17871-cb6d-4ce6-a049-f3c768192f74",
   "metadata": {},
   "outputs": [
    {
     "data": {
      "text/plain": [
       "55"
      ]
     },
     "execution_count": 70,
     "metadata": {},
     "output_type": "execute_result"
    }
   ],
   "source": [
    "test(4,51)"
   ]
  },
  {
   "cell_type": "code",
   "execution_count": 71,
   "id": "4a9e3908-ab6e-4d4c-9761-3cf39d5aa116",
   "metadata": {},
   "outputs": [
    {
     "data": {
      "text/plain": [
       "'samarthagarwal'"
      ]
     },
     "execution_count": 71,
     "metadata": {},
     "output_type": "execute_result"
    }
   ],
   "source": [
    "test('samarth','agarwal')"
   ]
  },
  {
   "cell_type": "code",
   "execution_count": 72,
   "id": "80979010-6ad1-4190-ab14-26004a0b8735",
   "metadata": {},
   "outputs": [],
   "source": [
    "class data_science:\n",
    "    def syllabus(self):\n",
    "        print('this is my method for data science syllabus')"
   ]
  },
  {
   "cell_type": "code",
   "execution_count": 73,
   "id": "4a06a070-0cfd-4faa-b4fc-870d8794e845",
   "metadata": {},
   "outputs": [],
   "source": [
    "class web_dev:\n",
    "    def syllabus(self):\n",
    "        print('this is my method for web_dev')"
   ]
  },
  {
   "cell_type": "code",
   "execution_count": 74,
   "id": "dd33ea45-3c04-4ff3-9993-0aad94b7a98e",
   "metadata": {},
   "outputs": [],
   "source": [
    "def class_parser(class_obj):\n",
    "    for i in class_obj:\n",
    "        i.syllabus()"
   ]
  },
  {
   "cell_type": "code",
   "execution_count": 75,
   "id": "cb53692b-c2f6-4046-82cc-932e0e853dad",
   "metadata": {},
   "outputs": [],
   "source": [
    "obj_data_science=data_science()\n",
    "obj_web_dev=web_dev()"
   ]
  },
  {
   "cell_type": "code",
   "execution_count": 76,
   "id": "deb79de2-b640-4632-a847-0bb13e0d1c32",
   "metadata": {},
   "outputs": [],
   "source": [
    "class_obj=[obj_data_science,obj_web_dev]"
   ]
  },
  {
   "cell_type": "code",
   "execution_count": 77,
   "id": "e6bedaa6-a937-4899-98ac-3252a823fe53",
   "metadata": {},
   "outputs": [
    {
     "name": "stdout",
     "output_type": "stream",
     "text": [
      "this is my method for data science syllabus\n",
      "this is my method for web_dev\n"
     ]
    }
   ],
   "source": [
    "class_parser(class_obj)"
   ]
  },
  {
   "cell_type": "code",
   "execution_count": 1,
   "id": "ac5254e2-07dc-477e-a96f-28e89d2967e1",
   "metadata": {},
   "outputs": [],
   "source": [
    "class car:\n",
    "    \n",
    "    def __init__(self,year,make,model,speed):\n",
    "        self.__year=year\n",
    "        self.__make=make\n",
    "        self.__model=model\n",
    "        self.__speed=0"
   ]
  },
  {
   "cell_type": "code",
   "execution_count": 20,
   "id": "fbaa330b-965f-4477-8255-f6e4ac7c559d",
   "metadata": {},
   "outputs": [],
   "source": [
    "obj_car=car(2154,'toyota','innova',326)"
   ]
  },
  {
   "cell_type": "code",
   "execution_count": 3,
   "id": "2f905f5c-c8c3-4066-9d4a-ee3c2192985d",
   "metadata": {},
   "outputs": [
    {
     "data": {
      "text/plain": [
       "2154"
      ]
     },
     "execution_count": 3,
     "metadata": {},
     "output_type": "execute_result"
    }
   ],
   "source": [
    "obj_car._car__year"
   ]
  },
  {
   "cell_type": "code",
   "execution_count": 4,
   "id": "505adb82-3b2a-4214-9717-e3464eb813d5",
   "metadata": {},
   "outputs": [],
   "source": [
    "obj_car._car__year=2873"
   ]
  },
  {
   "cell_type": "code",
   "execution_count": 5,
   "id": "b48e39eb-6d05-48f9-a7d7-135a3e283ad6",
   "metadata": {},
   "outputs": [
    {
     "data": {
      "text/plain": [
       "2873"
      ]
     },
     "execution_count": 5,
     "metadata": {},
     "output_type": "execute_result"
    }
   ],
   "source": [
    "obj_car._car__year"
   ]
  },
  {
   "cell_type": "code",
   "execution_count": 27,
   "id": "eec4c59e-4c52-46c6-adda-8bdd62b8ca23",
   "metadata": {},
   "outputs": [],
   "source": [
    "class car:\n",
    "    \n",
    "    def __init__(self,year,make,model,speed):\n",
    "        self.__year=year\n",
    "        self.__make=make\n",
    "        self.__model=model\n",
    "        self.__speed=0\n",
    "        \n",
    "    def set_speed(self,speed):\n",
    "        self.__speed=0 if speed < 0 else speed\n",
    "        \n",
    "    def get_speed(self):\n",
    "        return self.__speed"
   ]
  },
  {
   "cell_type": "code",
   "execution_count": 28,
   "id": "55a80860-0618-4c00-833d-f3c2b0064cbb",
   "metadata": {},
   "outputs": [
    {
     "data": {
      "text/plain": [
       "0"
      ]
     },
     "execution_count": 28,
     "metadata": {},
     "output_type": "execute_result"
    }
   ],
   "source": [
    "obj_car.get_speed()"
   ]
  },
  {
   "cell_type": "code",
   "execution_count": 29,
   "id": "f4b4e8ff-188e-4576-809e-2998017a208b",
   "metadata": {},
   "outputs": [],
   "source": [
    "obj_car.set_speed(865)"
   ]
  },
  {
   "cell_type": "code",
   "execution_count": 31,
   "id": "ebc1a996-e33c-4abb-9509-39dc4ccef993",
   "metadata": {},
   "outputs": [
    {
     "data": {
      "text/plain": [
       "0"
      ]
     },
     "execution_count": 31,
     "metadata": {},
     "output_type": "execute_result"
    }
   ],
   "source": [
    "obj_car.get_speed()"
   ]
  },
  {
   "cell_type": "code",
   "execution_count": 34,
   "id": "463dc32d-ca7f-47e0-beb7-6b29045b2cb8",
   "metadata": {},
   "outputs": [],
   "source": [
    "class bank_account:\n",
    "    def __init__(self,balance):\n",
    "        self.__balance=balance\n",
    "        \n",
    "    def deposit(self,amount):\n",
    "        self.__balance=self.__balance + amount\n",
    "        \n",
    "    def withdraw(self,amount):\n",
    "        if self.__balance >=amount:\n",
    "            self.__balance=self.__balance - amount"
   ]
  },
  {
   "cell_type": "code",
   "execution_count": null,
   "id": "4db6273b-ee3e-4ec0-9783-6a1fbdc2d194",
   "metadata": {},
   "outputs": [],
   "source": []
  },
  {
   "cell_type": "code",
   "execution_count": null,
   "id": "6cd4455d-5d0c-4af8-b37f-dcc4da8e0df0",
   "metadata": {},
   "outputs": [],
   "source": []
  },
  {
   "cell_type": "code",
   "execution_count": null,
   "id": "3894d4ec-7c12-4b5a-97ed-ba2dbacfd788",
   "metadata": {},
   "outputs": [],
   "source": []
  },
  {
   "cell_type": "code",
   "execution_count": null,
   "id": "1754d10a-e517-4d39-a87c-3356aac9262a",
   "metadata": {},
   "outputs": [],
   "source": []
  }
 ],
 "metadata": {
  "kernelspec": {
   "display_name": "Python 3 (ipykernel)",
   "language": "python",
   "name": "python3"
  },
  "language_info": {
   "codemirror_mode": {
    "name": "ipython",
    "version": 3
   },
   "file_extension": ".py",
   "mimetype": "text/x-python",
   "name": "python",
   "nbconvert_exporter": "python",
   "pygments_lexer": "ipython3",
   "version": "3.10.8"
  }
 },
 "nbformat": 4,
 "nbformat_minor": 5
}
