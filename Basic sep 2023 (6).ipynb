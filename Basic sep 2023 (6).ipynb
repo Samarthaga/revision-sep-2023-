{
 "cells": [
  {
   "cell_type": "code",
   "execution_count": 23,
   "id": "7e6fc8ce-79da-4d10-8124-8a87d5776aa3",
   "metadata": {},
   "outputs": [
    {
     "name": "stdout",
     "output_type": "stream",
     "text": [
      "hello \n",
      "world\n"
     ]
    }
   ],
   "source": [
    "print('hello \\nworld')"
   ]
  },
  {
   "cell_type": "code",
   "execution_count": 4,
   "id": "c967be93-3241-476a-85d4-217036ddf15b",
   "metadata": {},
   "outputs": [],
   "source": [
    "a=10"
   ]
  },
  {
   "cell_type": "code",
   "execution_count": 5,
   "id": "41fc243b-be71-491f-ab6e-287dc16d67bb",
   "metadata": {},
   "outputs": [
    {
     "data": {
      "text/plain": [
       "10"
      ]
     },
     "execution_count": 5,
     "metadata": {},
     "output_type": "execute_result"
    }
   ],
   "source": [
    "a"
   ]
  },
  {
   "cell_type": "code",
   "execution_count": 6,
   "id": "22042152-9b4d-4ad3-bade-3853ab27eeda",
   "metadata": {},
   "outputs": [],
   "source": [
    "b=15"
   ]
  },
  {
   "cell_type": "code",
   "execution_count": 8,
   "id": "cdf650ea-862d-43a8-9dd1-f6d422691e35",
   "metadata": {},
   "outputs": [
    {
     "name": "stdout",
     "output_type": "stream",
     "text": [
      "25\n"
     ]
    }
   ],
   "source": [
    "c=a+b\n",
    "print(c)"
   ]
  },
  {
   "cell_type": "markdown",
   "id": "4e29e86e-ec71-4e8e-9f91-554d1100ee6f",
   "metadata": {},
   "source": [
    "##### Let Ganesh bhagwan be with me "
   ]
  },
  {
   "cell_type": "code",
   "execution_count": 9,
   "id": "ce06c990-b98b-4039-9337-caa599bd6175",
   "metadata": {},
   "outputs": [
    {
     "data": {
      "text/plain": [
       "2"
      ]
     },
     "execution_count": 9,
     "metadata": {},
     "output_type": "execute_result"
    }
   ],
   "source": [
    "1+1"
   ]
  },
  {
   "cell_type": "code",
   "execution_count": 19,
   "id": "f671b9bc-51dc-49f3-b03a-16c636d2383d",
   "metadata": {},
   "outputs": [
    {
     "data": {
      "text/plain": [
       "'\\nexample of multilinbe comments\\n\\n'"
      ]
     },
     "execution_count": 19,
     "metadata": {},
     "output_type": "execute_result"
    }
   ],
   "source": [
    "'''\n",
    "example of multilinbe comments\n",
    "'''\n"
   ]
  },
  {
   "cell_type": "code",
   "execution_count": 1,
   "id": "ddd8e5dc-8167-4492-8d29-ed503b4948f9",
   "metadata": {},
   "outputs": [
    {
     "name": "stdout",
     "output_type": "stream",
     "text": [
      "i am not done and will come back with my revision\n"
     ]
    }
   ],
   "source": [
    "print('i am not done and will come back with my revision')"
   ]
  },
  {
   "cell_type": "markdown",
   "id": "dfb4cfbd-4199-419b-8e5b-b81e059ddc97",
   "metadata": {},
   "source": [
    "## Numbers"
   ]
  },
  {
   "cell_type": "code",
   "execution_count": 2,
   "id": "c4b35b41-f1a5-4f9a-8e4d-e70df5a9a993",
   "metadata": {},
   "outputs": [
    {
     "data": {
      "text/plain": [
       "4"
      ]
     },
     "execution_count": 2,
     "metadata": {},
     "output_type": "execute_result"
    }
   ],
   "source": [
    "1+3"
   ]
  },
  {
   "cell_type": "code",
   "execution_count": 4,
   "id": "737ce8a5-b952-4fe7-b43a-88fe4353b3ba",
   "metadata": {},
   "outputs": [
    {
     "name": "stdout",
     "output_type": "stream",
     "text": [
      "4\n"
     ]
    }
   ],
   "source": [
    "print(1+3) # if we add print it works as output console "
   ]
  },
  {
   "cell_type": "code",
   "execution_count": 5,
   "id": "2080913a-53b3-4b75-8f6d-07aab8f6d986",
   "metadata": {},
   "outputs": [
    {
     "name": "stdout",
     "output_type": "stream",
     "text": [
      "-2\n"
     ]
    }
   ],
   "source": [
    "print (1-3)"
   ]
  },
  {
   "cell_type": "code",
   "execution_count": 11,
   "id": "5ec36fd0-594e-43a1-8a3e-6e1ad4551205",
   "metadata": {},
   "outputs": [
    {
     "name": "stdout",
     "output_type": "stream",
     "text": [
      "samarth\n",
      "\n",
      "...........\n",
      "\n",
      "pramod\n"
     ]
    }
   ],
   "source": [
    "name =(\"samarth\")\n",
    "print(name)\n",
    "name =('pramod')\n",
    "print('\\n...........\\n')\n",
    "print(name)"
   ]
  },
  {
   "cell_type": "code",
   "execution_count": 12,
   "id": "1ac9065a-05e4-422c-b37f-2c073bad6f21",
   "metadata": {},
   "outputs": [],
   "source": [
    "dec_num=2.5"
   ]
  },
  {
   "cell_type": "code",
   "execution_count": 13,
   "id": "324c28e6-898c-4263-a92f-45feadb7746d",
   "metadata": {},
   "outputs": [
    {
     "data": {
      "text/plain": [
       "2.5"
      ]
     },
     "execution_count": 13,
     "metadata": {},
     "output_type": "execute_result"
    }
   ],
   "source": [
    "dec_num"
   ]
  },
  {
   "cell_type": "code",
   "execution_count": 15,
   "id": "17fa7649-d682-4f89-8735-5bc67825fe39",
   "metadata": {},
   "outputs": [
    {
     "data": {
      "text/plain": [
       "float"
      ]
     },
     "execution_count": 15,
     "metadata": {},
     "output_type": "execute_result"
    }
   ],
   "source": [
    "type(dec_num)"
   ]
  },
  {
   "cell_type": "code",
   "execution_count": 2,
   "id": "e5da3a2e-479d-4046-a7b1-a78f72c29eec",
   "metadata": {},
   "outputs": [
    {
     "name": "stdout",
     "output_type": "stream",
     "text": [
      "kotak\n",
      "kotak\n"
     ]
    }
   ],
   "source": [
    "company = 'kotak'\n",
    "Company = \"Kotak\"\n",
    "print(company)\n",
    "print(company)"
   ]
  },
  {
   "cell_type": "code",
   "execution_count": 6,
   "id": "089364aa-eef3-4777-9861-d63d3e61a24d",
   "metadata": {},
   "outputs": [
    {
     "data": {
      "text/plain": [
       "bool"
      ]
     },
     "execution_count": 6,
     "metadata": {},
     "output_type": "execute_result"
    }
   ],
   "source": [
    "type(not False )"
   ]
  },
  {
   "cell_type": "code",
   "execution_count": 7,
   "id": "30046178-e369-478c-9907-bbf219132b5f",
   "metadata": {},
   "outputs": [
    {
     "data": {
      "text/plain": [
       "False"
      ]
     },
     "execution_count": 7,
     "metadata": {},
     "output_type": "execute_result"
    }
   ],
   "source": [
    "bool(0)"
   ]
  },
  {
   "cell_type": "code",
   "execution_count": 8,
   "id": "de708d27-cc4f-4fd1-aa2a-8f9a8f8c2705",
   "metadata": {},
   "outputs": [
    {
     "data": {
      "text/plain": [
       "True"
      ]
     },
     "execution_count": 8,
     "metadata": {},
     "output_type": "execute_result"
    }
   ],
   "source": [
    "bool(1)"
   ]
  },
  {
   "cell_type": "code",
   "execution_count": 9,
   "id": "a43cfc0e-8b1b-4a56-b7b4-5c93b76aa82e",
   "metadata": {},
   "outputs": [
    {
     "data": {
      "text/plain": [
       "True"
      ]
     },
     "execution_count": 9,
     "metadata": {},
     "output_type": "execute_result"
    }
   ],
   "source": [
    "bool(2)"
   ]
  },
  {
   "cell_type": "code",
   "execution_count": 10,
   "id": "f63b8c98-aa75-4b0c-a5f1-eb26a300cb2d",
   "metadata": {},
   "outputs": [
    {
     "data": {
      "text/plain": [
       "True"
      ]
     },
     "execution_count": 10,
     "metadata": {},
     "output_type": "execute_result"
    }
   ],
   "source": [
    "bool(-1)"
   ]
  },
  {
   "cell_type": "code",
   "execution_count": 15,
   "id": "a11c25a1-8cb3-4712-a6a2-d26db3fd1f6b",
   "metadata": {},
   "outputs": [
    {
     "name": "stdout",
     "output_type": "stream",
     "text": [
      "True 1\n"
     ]
    }
   ],
   "source": [
    "# typecasting\n",
    "a=1\n",
    "if (bool(a))== True:\n",
    "    print('True',a)"
   ]
  },
  {
   "cell_type": "code",
   "execution_count": 17,
   "id": "49a63bfb-0798-470e-b300-1defd9180a76",
   "metadata": {},
   "outputs": [
    {
     "data": {
      "text/plain": [
       "str"
      ]
     },
     "execution_count": 17,
     "metadata": {},
     "output_type": "execute_result"
    }
   ],
   "source": [
    "type(str(23))"
   ]
  },
  {
   "cell_type": "code",
   "execution_count": 18,
   "id": "76755349-07a6-4121-992c-cfbdedd62b25",
   "metadata": {},
   "outputs": [
    {
     "data": {
      "text/plain": [
       "str"
      ]
     },
     "execution_count": 18,
     "metadata": {},
     "output_type": "execute_result"
    }
   ],
   "source": [
    "type(str('23'))"
   ]
  },
  {
   "cell_type": "code",
   "execution_count": 19,
   "id": "dff505de-1411-41c0-b0b4-dca11fbcd997",
   "metadata": {},
   "outputs": [
    {
     "data": {
      "text/plain": [
       "23"
      ]
     },
     "execution_count": 19,
     "metadata": {},
     "output_type": "execute_result"
    }
   ],
   "source": [
    "int('23')"
   ]
  },
  {
   "cell_type": "code",
   "execution_count": 20,
   "id": "b4ff225e-3f72-4202-9f38-785401caf02d",
   "metadata": {},
   "outputs": [
    {
     "data": {
      "text/plain": [
       "int"
      ]
     },
     "execution_count": 20,
     "metadata": {},
     "output_type": "execute_result"
    }
   ],
   "source": [
    "type(int('23'))"
   ]
  },
  {
   "cell_type": "markdown",
   "id": "da27eeb5-426a-4678-95fd-8d88757236b3",
   "metadata": {},
   "source": [
    "## Dynamic typing"
   ]
  },
  {
   "cell_type": "code",
   "execution_count": 21,
   "id": "3833db72-80ea-4108-b0b8-048f0a38f192",
   "metadata": {},
   "outputs": [
    {
     "data": {
      "text/plain": [
       "int"
      ]
     },
     "execution_count": 21,
     "metadata": {},
     "output_type": "execute_result"
    }
   ],
   "source": [
    "a=12\n",
    "type(a)"
   ]
  },
  {
   "cell_type": "code",
   "execution_count": 25,
   "id": "286232a2-0df2-470e-bad2-1a3118a78f0a",
   "metadata": {},
   "outputs": [
    {
     "name": "stdout",
     "output_type": "stream",
     "text": [
      "<class 'str'>\n",
      "this is str type : samarth\n"
     ]
    }
   ],
   "source": [
    "a='samarth'\n",
    "print(type(a))\n",
    "print('this is str type :',a)"
   ]
  },
  {
   "cell_type": "code",
   "execution_count": 26,
   "id": "90489ae2-7350-42b9-8efd-1e918abd11dd",
   "metadata": {},
   "outputs": [
    {
     "data": {
      "text/plain": [
       "1"
      ]
     },
     "execution_count": 26,
     "metadata": {},
     "output_type": "execute_result"
    }
   ],
   "source": [
    "int(1.54)"
   ]
  },
  {
   "cell_type": "code",
   "execution_count": 29,
   "id": "4346cc43-0393-4f42-bcdc-6bb58718e507",
   "metadata": {},
   "outputs": [
    {
     "data": {
      "text/plain": [
       "1.5"
      ]
     },
     "execution_count": 29,
     "metadata": {},
     "output_type": "execute_result"
    }
   ],
   "source": [
    "float(1.5)"
   ]
  },
  {
   "cell_type": "code",
   "execution_count": 1,
   "id": "cb36fbe9-e289-414b-88ec-63cb33a16de9",
   "metadata": {},
   "outputs": [
    {
     "data": {
      "text/plain": [
       "'11'"
      ]
     },
     "execution_count": 1,
     "metadata": {},
     "output_type": "execute_result"
    }
   ],
   "source": [
    "'1'+'1'"
   ]
  },
  {
   "cell_type": "code",
   "execution_count": 2,
   "id": "a64b5acd-9583-45a7-aa3f-fa3297b2fb0e",
   "metadata": {},
   "outputs": [],
   "source": [
    "a=10"
   ]
  },
  {
   "cell_type": "code",
   "execution_count": 5,
   "id": "d2714c02-131e-41df-bd92-0daf6e705b56",
   "metadata": {},
   "outputs": [
    {
     "name": "stdout",
     "output_type": "stream",
     "text": [
      "<class 'int'>\n"
     ]
    }
   ],
   "source": [
    "print(type(a))"
   ]
  },
  {
   "cell_type": "markdown",
   "id": "4bc9c5d0-4dec-450c-8838-173d57b7afd0",
   "metadata": {},
   "source": [
    "#### dynamic typing where datatype is not req. to declare the data type"
   ]
  },
  {
   "cell_type": "code",
   "execution_count": 8,
   "id": "8dde4993-af88-4882-bfbc-7d9375cf9a1f",
   "metadata": {},
   "outputs": [
    {
     "data": {
      "text/plain": [
       "str"
      ]
     },
     "execution_count": 8,
     "metadata": {},
     "output_type": "execute_result"
    }
   ],
   "source": [
    "a='b'\n",
    "type(a)"
   ]
  },
  {
   "cell_type": "code",
   "execution_count": 9,
   "id": "c3a8f638-2b67-4052-b215-ba06aba1cfa7",
   "metadata": {},
   "outputs": [
    {
     "data": {
      "text/plain": [
       "2"
      ]
     },
     "execution_count": 9,
     "metadata": {},
     "output_type": "execute_result"
    }
   ],
   "source": [
    "int('1')+ int('1')"
   ]
  },
  {
   "cell_type": "code",
   "execution_count": 11,
   "id": "f2905399-3378-40df-94eb-3302953f55c1",
   "metadata": {},
   "outputs": [
    {
     "name": "stdout",
     "output_type": "stream",
     "text": [
      "hello\n",
      "<class 'int'>\n"
     ]
    }
   ],
   "source": [
    "print('hello')\n",
    "print(type(123))"
   ]
  },
  {
   "cell_type": "code",
   "execution_count": 12,
   "id": "77edecf8-513c-43a4-ab0a-628c690346d4",
   "metadata": {},
   "outputs": [
    {
     "name": "stdout",
     "output_type": "stream",
     "text": [
      "my age is 28\n"
     ]
    }
   ],
   "source": [
    "age=28\n",
    "print('my age is',age)"
   ]
  },
  {
   "cell_type": "code",
   "execution_count": 14,
   "id": "e9b072f4-b587-4f31-8773-6ed454372f50",
   "metadata": {},
   "outputs": [
    {
     "name": "stdout",
     "output_type": "stream",
     "text": [
      "my age is :28\n"
     ]
    }
   ],
   "source": [
    "print(f'my age is :{age}') # f is used for formatting"
   ]
  },
  {
   "cell_type": "code",
   "execution_count": 16,
   "id": "d7ac7bf2-8a4a-4da8-86b4-aa9e7fd87ea9",
   "metadata": {},
   "outputs": [
    {
     "name": "stdout",
     "output_type": "stream",
     "text": [
      "my name is samarth and my age is 28\n"
     ]
    }
   ],
   "source": [
    "name ='samarth'\n",
    "age=28\n",
    "print('my name is {} and my age is {}'.format(name,age))"
   ]
  },
  {
   "cell_type": "code",
   "execution_count": 17,
   "id": "eeda78a7-90cf-4c6c-b029-39d3590b6f3c",
   "metadata": {},
   "outputs": [
    {
     "name": "stdout",
     "output_type": "stream",
     "text": [
      "my name is samarth and my age is 28\n"
     ]
    }
   ],
   "source": [
    "name ='samarth'\n",
    "age=28\n",
    "print('my name is {firstname} and my age is {firstage}'.format(firstname=name,firstage=age))"
   ]
  },
  {
   "cell_type": "code",
   "execution_count": 18,
   "id": "40543b2a-cdb3-4acb-b582-2cbee8152c41",
   "metadata": {},
   "outputs": [
    {
     "name": "stdout",
     "output_type": "stream",
     "text": [
      "my age is 28 and i have completed : my degree of BE with the name of samarth\n"
     ]
    }
   ],
   "source": [
    "name =('samarth')\n",
    "age=28\n",
    "degree='BE'\n",
    "print('my age is {myage} and i have completed : my degree of {mydegree} with the name of {myname}'.format(myage=age,mydegree=degree,myname=name))"
   ]
  },
  {
   "cell_type": "markdown",
   "id": "94be6051-71cf-43cb-99ca-811421e6239c",
   "metadata": {},
   "source": [
    "### Control flow \n",
    "#### Decesion making statement"
   ]
  },
  {
   "cell_type": "code",
   "execution_count": 29,
   "id": "9124f467-02b2-4042-b2eb-6b8950c72476",
   "metadata": {},
   "outputs": [
    {
     "name": "stdin",
     "output_type": "stream",
     "text": [
      "enter age 25\n"
     ]
    },
    {
     "name": "stdout",
     "output_type": "stream",
     "text": [
      "please vote\n"
     ]
    }
   ],
   "source": [
    "age =int(input('enter age'))\n",
    "\n",
    "if age>=18:\n",
    "    print('please vote')\n",
    "else:\n",
    "    print('cannot vote')"
   ]
  },
  {
   "cell_type": "code",
   "execution_count": 30,
   "id": "f39cb4f5-2d13-4e51-8080-b5c1a5105c76",
   "metadata": {},
   "outputs": [
    {
     "data": {
      "text/plain": [
       "int"
      ]
     },
     "execution_count": 30,
     "metadata": {},
     "output_type": "execute_result"
    }
   ],
   "source": [
    "type(age)"
   ]
  },
  {
   "cell_type": "code",
   "execution_count": 47,
   "id": "33c9360d-95aa-46e9-a077-41969d1e2736",
   "metadata": {},
   "outputs": [
    {
     "name": "stdin",
     "output_type": "stream",
     "text": [
      "Enter Age 28\n"
     ]
    },
    {
     "name": "stdout",
     "output_type": "stream",
     "text": [
      "same same\n",
      "you are young blood\n"
     ]
    }
   ],
   "source": [
    "age=int(input('Enter Age')) # typecasting is done as input is str as natural\n",
    "\n",
    "if age >=18 and age <=45:\n",
    "    if age==28:\n",
    "        print('same same')\n",
    "    print('you are young blood')\n",
    "elif age <18:\n",
    "    print('Bhai bada hoja')\n",
    "else:\n",
    "    print('bhai lag gye tere')"
   ]
  },
  {
   "cell_type": "code",
   "execution_count": 34,
   "id": "f4a851a7-d8dc-4fcc-9fce-f64644732340",
   "metadata": {},
   "outputs": [
    {
     "data": {
      "text/plain": [
       "True"
      ]
     },
     "execution_count": 34,
     "metadata": {},
     "output_type": "execute_result"
    }
   ],
   "source": [
    "22>=18"
   ]
  },
  {
   "cell_type": "code",
   "execution_count": 49,
   "id": "12d58241-9c89-4a87-b327-a07307449ade",
   "metadata": {},
   "outputs": [
    {
     "name": "stdin",
     "output_type": "stream",
     "text": [
      "Enter Amount 1000\n"
     ]
    },
    {
     "name": "stdout",
     "output_type": "stream",
     "text": [
      "30 % off : 700.0\n"
     ]
    }
   ],
   "source": [
    "product_price=int(input('Enter Amount'))\n",
    "\n",
    "if product_price > 1000:\n",
    "    print('20% off: {}'.format(product_price*0.80))\n",
    "else:\n",
    "    print('30 % off : {}'.format(product_price*0.70))"
   ]
  },
  {
   "cell_type": "code",
   "execution_count": 50,
   "id": "9454f105-3efd-4d1f-929f-64960f019447",
   "metadata": {},
   "outputs": [
    {
     "data": {
      "text/plain": [
       "int"
      ]
     },
     "execution_count": 50,
     "metadata": {},
     "output_type": "execute_result"
    }
   ],
   "source": [
    "type(product_price)"
   ]
  },
  {
   "cell_type": "code",
   "execution_count": 59,
   "id": "5a384ee8-424d-404d-980c-25147a599d7b",
   "metadata": {},
   "outputs": [
    {
     "name": "stdin",
     "output_type": "stream",
     "text": [
      "Enter Amount 5000\n"
     ]
    },
    {
     "name": "stdout",
     "output_type": "stream",
     "text": [
      "chai piyega\n",
      "20% off: 4000.0\n"
     ]
    }
   ],
   "source": [
    "product_price=int(input('Enter Amount'))\n",
    "\n",
    "if product_price >3000:\n",
    "    if product_price==4000:\n",
    "        print('Goa Jaa re')\n",
    "    elif product_price==4500:\n",
    "        print('Jaa na bhai')\n",
    "    elif product_price==5000:\n",
    "        print('chai piyega')\n",
    "    print('20% off: {}'.format(product_price*0.80))\n",
    "elif product_price>=2000 and product_price<=3000:\n",
    "    if product_price==2999:\n",
    "        print('congrats you get additional gift')\n",
    "    print('45 % off : {}'.format(product_price*0.65))\n",
    "else:\n",
    "    print('30 % off : {}'.format(product_price*0.70))"
   ]
  },
  {
   "cell_type": "code",
   "execution_count": 60,
   "id": "54bcdf65-8a0a-4509-8ea2-a5fec350c681",
   "metadata": {},
   "outputs": [
    {
     "name": "stdin",
     "output_type": "stream",
     "text": [
      "Enter the number 999\n"
     ]
    },
    {
     "name": "stdout",
     "output_type": "stream",
     "text": [
      "value is\n"
     ]
    }
   ],
   "source": [
    "# single statement\n",
    "val=int(input('Enter the number'))\n",
    "\n",
    "if (val<=999):print('value is')"
   ]
  },
  {
   "cell_type": "markdown",
   "id": "2a162cbb-8780-41b2-948e-b520a33e27bd",
   "metadata": {},
   "source": [
    "### Loops Staments \n",
    "#### While loop \n",
    "#### for loop\n",
    "#### nested loop\n",
    "#### loop control (break,continue,pass)"
   ]
  },
  {
   "cell_type": "code",
   "execution_count": 67,
   "id": "5bae6d49-f6a2-4cdb-b037-7b687245b310",
   "metadata": {},
   "outputs": [
    {
     "name": "stdout",
     "output_type": "stream",
     "text": [
      "26\n",
      "27\n",
      "28\n",
      "29\n",
      "30\n",
      "31\n",
      "32\n",
      "33\n",
      "34\n",
      "35\n",
      "36\n",
      "37\n",
      "38\n",
      "39\n",
      "40\n",
      "41\n",
      "42\n",
      "43\n",
      "44\n",
      "45\n",
      "46\n",
      "47\n",
      "48\n",
      "49\n",
      "50\n",
      "51\n",
      "52\n",
      "53\n",
      "54\n",
      "55\n",
      "56\n",
      "57\n",
      "58\n",
      "59\n",
      "60\n",
      "61\n",
      "its time to retire\n"
     ]
    }
   ],
   "source": [
    "# while loop \n",
    "\n",
    "joining_age=25\n",
    "while joining_age<=60:\n",
    "    joining_age=joining_age+1\n",
    "    print(joining_age)\n",
    "    if joining_age==61:\n",
    "        print('its time to retire')\n",
    "    "
   ]
  },
  {
   "cell_type": "code",
   "execution_count": 74,
   "id": "dab3fc8e-1abc-4e65-926f-765e20dc8640",
   "metadata": {},
   "outputs": [
    {
     "name": "stdout",
     "output_type": "stream",
     "text": [
      "0\n",
      "1\n",
      "2\n",
      "3\n",
      "4\n",
      "5\n",
      "6\n",
      "7\n",
      "8\n",
      "9\n",
      "10\n",
      "11\n",
      "12\n",
      "13\n",
      "14\n",
      "15\n",
      "16\n",
      "17\n",
      "18\n",
      "19\n",
      "20\n",
      "21\n",
      "22\n",
      "23\n",
      "24\n",
      "25\n",
      "26\n",
      "27\n",
      "28\n",
      "29\n",
      "30\n",
      "31\n",
      "32\n",
      "33\n",
      "34\n",
      "35\n",
      "36\n",
      "37\n",
      "38\n",
      "39\n",
      "40\n",
      "41\n",
      "42\n",
      "43\n",
      "44\n",
      "45\n",
      "46\n",
      "47\n",
      "48\n",
      "49\n",
      "50\n",
      "51\n",
      "52\n",
      "53\n",
      "54\n",
      "55\n",
      "56\n",
      "57\n",
      "58\n",
      "59\n",
      "60\n"
     ]
    }
   ],
   "source": [
    "bldg_age=0\n",
    "while bldg_age<=60:\n",
    "    print(bldg_age)\n",
    "    bldg_age=bldg_age+1"
   ]
  },
  {
   "cell_type": "code",
   "execution_count": 75,
   "id": "cb0661f2-f77d-4669-a713-14c463554cdb",
   "metadata": {},
   "outputs": [
    {
     "name": "stdout",
     "output_type": "stream",
     "text": [
      "26\n",
      "27\n",
      "28\n",
      "29\n",
      "30\n",
      "31\n",
      "32\n",
      "33\n",
      "34\n",
      "35\n",
      "36\n",
      "37\n",
      "38\n",
      "39\n",
      "40\n",
      "41\n",
      "42\n",
      "43\n",
      "44\n",
      "45\n",
      "46\n",
      "47\n",
      "48\n",
      "49\n",
      "50\n",
      "51\n",
      "52\n",
      "53\n",
      "54\n",
      "55\n",
      "56\n",
      "57\n",
      "58\n",
      "59\n",
      "60\n",
      "61\n",
      "its time time for retirement\n"
     ]
    }
   ],
   "source": [
    "joining_age=25\n",
    "while joining_age<=60:\n",
    "    joining_age=joining_age+1\n",
    "    print(joining_age)\n",
    "else:\n",
    "    print('its time time for retirement')"
   ]
  },
  {
   "cell_type": "code",
   "execution_count": 77,
   "id": "e6726f65-3670-4cfd-af47-b40f8502dc40",
   "metadata": {},
   "outputs": [
    {
     "name": "stdout",
     "output_type": "stream",
     "text": [
      "1000\n",
      "900\n",
      "800\n",
      "700\n",
      "600\n",
      "500\n",
      "400\n",
      "300\n",
      "200\n",
      "100\n",
      "please input money\n"
     ]
    }
   ],
   "source": [
    "total_amount=1000\n",
    "while total_amount!=0:\n",
    "    print(total_amount)\n",
    "    total_amount=total_amount-100\n",
    "else:\n",
    "    print('please input money')"
   ]
  },
  {
   "cell_type": "code",
   "execution_count": 81,
   "id": "c0a06dfa-1d92-4bb3-8862-e47318d60827",
   "metadata": {},
   "outputs": [
    {
     "name": "stdout",
     "output_type": "stream",
     "text": [
      "4500\n",
      "4000\n",
      "3500\n",
      "3000\n",
      "2500\n",
      "2000\n",
      "1500\n",
      "1000\n",
      "dont spend more\n"
     ]
    }
   ],
   "source": [
    "# while is an iteration \n",
    "\n",
    "wallet_money=5000\n",
    "while wallet_money!=1000:\n",
    "    wallet_money=wallet_money-500\n",
    "    print(wallet_money)\n",
    "else:\n",
    "    print('dont spend more')\n",
    "    "
   ]
  },
  {
   "cell_type": "markdown",
   "id": "a66437b3-5886-41bc-a7b8-173329409c3d",
   "metadata": {},
   "source": [
    "# For Loop"
   ]
  },
  {
   "cell_type": "code",
   "execution_count": 82,
   "id": "1d6e9dbc-c725-4ffd-925e-9085ee46cc6d",
   "metadata": {},
   "outputs": [],
   "source": [
    "lst=['samarth',1,2,3,4,'apple','banana']"
   ]
  },
  {
   "cell_type": "code",
   "execution_count": 83,
   "id": "ad5ee0e1-ad7f-4fc0-928a-96b52a38f021",
   "metadata": {},
   "outputs": [
    {
     "data": {
      "text/plain": [
       "['samarth', 1, 2, 3, 4, 'apple', 'banana']"
      ]
     },
     "execution_count": 83,
     "metadata": {},
     "output_type": "execute_result"
    }
   ],
   "source": [
    "lst"
   ]
  },
  {
   "cell_type": "code",
   "execution_count": 89,
   "id": "376d0979-848d-44b5-ab62-49c7838a7bae",
   "metadata": {},
   "outputs": [
    {
     "name": "stdout",
     "output_type": "stream",
     "text": [
      "samarth\n",
      "1\n",
      "2\n",
      "3\n",
      "4\n",
      "apple\n",
      "banana\n"
     ]
    }
   ],
   "source": [
    "for i in lst:\n",
    "    print(i)"
   ]
  },
  {
   "cell_type": "code",
   "execution_count": 88,
   "id": "96dfba27-82e2-4537-ab13-3dd9a6c2ef72",
   "metadata": {},
   "outputs": [
    {
     "data": {
      "text/plain": [
       "'samarth'"
      ]
     },
     "execution_count": 88,
     "metadata": {},
     "output_type": "execute_result"
    }
   ],
   "source": [
    "lst[0]"
   ]
  },
  {
   "cell_type": "code",
   "execution_count": 94,
   "id": "5206d3bd-3807-4cae-ab6f-24f5a61b804e",
   "metadata": {},
   "outputs": [
    {
     "name": "stdout",
     "output_type": "stream",
     "text": [
      "apple\n",
      "banana\n",
      "cherry\n"
     ]
    }
   ],
   "source": [
    "fruits=['apple','banana','cherry']\n",
    "for i in fruits:\n",
    "    print(i)\n",
    "  "
   ]
  },
  {
   "cell_type": "code",
   "execution_count": 96,
   "id": "71eb8d6d-028a-4127-be1b-b84d21d4b6a0",
   "metadata": {},
   "outputs": [
    {
     "name": "stdout",
     "output_type": "stream",
     "text": [
      "m\n",
      "a\n",
      "n\n",
      "g\n",
      "o\n"
     ]
    }
   ],
   "source": [
    "fruit='mango'\n",
    "for x in fruit:\n",
    "    print (x)"
   ]
  },
  {
   "cell_type": "code",
   "execution_count": 100,
   "id": "59b193b2-7ff3-4a1a-a813-955ed673b74b",
   "metadata": {},
   "outputs": [
    {
     "data": {
      "text/plain": [
       "'ango'"
      ]
     },
     "execution_count": 100,
     "metadata": {},
     "output_type": "execute_result"
    }
   ],
   "source": [
    "fruit[1:5]"
   ]
  },
  {
   "cell_type": "markdown",
   "id": "8d5dcc6d-f0b6-43d1-80c5-62e19639a6e3",
   "metadata": {},
   "source": [
    "### Nested Loops"
   ]
  },
  {
   "cell_type": "code",
   "execution_count": 106,
   "id": "7e79bcd7-d45e-4960-a294-63ab2c9a4356",
   "metadata": {},
   "outputs": [
    {
     "name": "stdout",
     "output_type": "stream",
     "text": [
      "1\n",
      "3\n",
      "5\n",
      "7\n",
      "9\n"
     ]
    }
   ],
   "source": [
    "n=7\n",
    "for i in range(1,10,2):\n",
    "    print(i)"
   ]
  },
  {
   "cell_type": "code",
   "execution_count": 110,
   "id": "b7f1987b-ed07-4da0-9dba-a6f4f9278be9",
   "metadata": {},
   "outputs": [
    {
     "name": "stdout",
     "output_type": "stream",
     "text": [
      "****************************"
     ]
    }
   ],
   "source": [
    "n=7\n",
    "for i in range (0,n):\n",
    "    for j in range(0,i+1):\n",
    "        print('*',end='')"
   ]
  },
  {
   "cell_type": "code",
   "execution_count": 120,
   "id": "37a17be2-5b70-48af-80e9-54c44a2aa995",
   "metadata": {},
   "outputs": [
    {
     "name": "stdout",
     "output_type": "stream",
     "text": [
      "\n",
      "**\n",
      "****\n",
      "******\n",
      "********\n",
      "**********\n",
      "************\n"
     ]
    }
   ],
   "source": [
    "n=7\n",
    "for i in range (0,n):\n",
    "    for j in range(0,i*2):\n",
    "        print('*',end='')\n",
    "    print('\\r')"
   ]
  },
  {
   "cell_type": "code",
   "execution_count": 7,
   "id": "031633b5-c495-4e9f-9dcb-403ae1e106b3",
   "metadata": {},
   "outputs": [
    {
     "name": "stdout",
     "output_type": "stream",
     "text": [
      "the fruit is apple\n",
      "apple\n",
      "banana\n",
      "cherry\n",
      "papaya\n",
      "Mango\n"
     ]
    }
   ],
   "source": [
    "## loop control \n",
    "### Break and continue \n",
    "fruits=['apple','banana','cherry','papaya','Mango']\n",
    "for i in fruits:\n",
    "    if i=='apple':\n",
    "        print('the fruit is apple')\n",
    "        pass\n",
    "    print(i)\n"
   ]
  },
  {
   "cell_type": "code",
   "execution_count": 6,
   "id": "680c0b30-450c-40f6-86ca-f3757ddaa15f",
   "metadata": {},
   "outputs": [
    {
     "name": "stdout",
     "output_type": "stream",
     "text": [
      "a \n",
      "\n",
      "p \n",
      "\n",
      "p \n",
      "\n",
      "l \n",
      "\n",
      "e \n",
      "\n",
      "b \n",
      "\n",
      "a \n",
      "\n",
      "n \n",
      "\n",
      "a \n",
      "\n",
      "n \n",
      "\n",
      "a \n",
      "\n",
      "c \n",
      "\n",
      "h \n",
      "\n",
      "e \n",
      "\n",
      "r \n",
      "\n",
      "r \n",
      "\n",
      "y \n",
      "\n",
      "p \n",
      "\n",
      "a \n",
      "\n",
      "p \n",
      "\n",
      "a \n",
      "\n",
      "y \n",
      "\n",
      "a \n",
      "\n",
      "M \n",
      "\n",
      "a \n",
      "\n",
      "n \n",
      "\n",
      "g \n",
      "\n",
      "o \n",
      "\n"
     ]
    }
   ],
   "source": [
    "fruits=['apple','banana','cherry','papaya','Mango']\n",
    "for i in fruits:\n",
    "    for j in i:\n",
    "        print(j,'\\n')"
   ]
  },
  {
   "cell_type": "code",
   "execution_count": 8,
   "id": "baa42f03-3607-4534-b1a5-dff48a529079",
   "metadata": {},
   "outputs": [
    {
     "name": "stdout",
     "output_type": "stream",
     "text": [
      "the fruit is apple\n",
      "banana\n",
      "cherry\n",
      "papaya\n",
      "Mango\n"
     ]
    }
   ],
   "source": [
    "fruits=['apple','banana','cherry','papaya','Mango']\n",
    "for i in fruits:\n",
    "    if i=='apple':\n",
    "        print('the fruit is apple')\n",
    "        continue\n",
    "    print(i)"
   ]
  },
  {
   "cell_type": "code",
   "execution_count": 1,
   "id": "b4105c44-0c7e-4e3f-b60c-2776dbc9f838",
   "metadata": {},
   "outputs": [
    {
     "name": "stdout",
     "output_type": "stream",
     "text": [
      "this is it\n"
     ]
    }
   ],
   "source": [
    "print('this is it')"
   ]
  },
  {
   "cell_type": "code",
   "execution_count": 8,
   "id": "1c6b882f-f716-4afa-916d-81dd9c5bdd55",
   "metadata": {},
   "outputs": [
    {
     "name": "stdout",
     "output_type": "stream",
     "text": [
      "0 1\n",
      "0 2\n",
      "0 3\n",
      "0 4\n",
      "0 5\n",
      "0 6\n",
      "0 7\n",
      "0 8\n",
      "0 9\n",
      "0 10\n",
      "0 11\n",
      "0 12\n",
      "0 13\n",
      "0 14\n",
      "0 15\n"
     ]
    }
   ],
   "source": [
    "n=15\n",
    "\n",
    "for i in range(0,n):\n",
    "    print(0,i+1,end='')\n",
    "    print('\\r')"
   ]
  },
  {
   "cell_type": "code",
   "execution_count": 9,
   "id": "4f3c237a-aa1a-40de-b085-6e28d83705ee",
   "metadata": {},
   "outputs": [
    {
     "name": "stdout",
     "output_type": "stream",
     "text": [
      "+\n",
      "+\n",
      "+\n",
      "+\n",
      "+\n",
      "+\n",
      "+\n",
      "+\n",
      "+\n",
      "+\n",
      "+\n",
      "+\n",
      "+\n",
      "+\n",
      "+\n",
      "+\n",
      "+\n",
      "+\n",
      "+\n",
      "+\n",
      "+\n",
      "+\n",
      "+\n",
      "+\n",
      "+\n",
      "+\n",
      "+\n",
      "+\n",
      "+\n",
      "+\n",
      "+\n",
      "+\n",
      "+\n",
      "+\n",
      "+\n",
      "+\n",
      "+\n",
      "+\n",
      "+\n",
      "+\n",
      "+\n",
      "+\n",
      "+\n",
      "+\n",
      "+\n",
      "+\n",
      "+\n",
      "+\n",
      "+\n",
      "+\n",
      "+\n",
      "+\n",
      "+\n",
      "+\n",
      "+\n",
      "+\n",
      "+\n",
      "+\n",
      "+\n",
      "+\n",
      "+\n",
      "+\n",
      "+\n",
      "+\n",
      "+\n",
      "+\n",
      "+\n",
      "+\n",
      "+\n",
      "+\n",
      "+\n",
      "+\n",
      "+\n",
      "+\n",
      "+\n",
      "+\n",
      "+\n",
      "+\n",
      "+\n",
      "+\n",
      "+\n",
      "+\n",
      "+\n",
      "+\n",
      "+\n",
      "+\n",
      "+\n",
      "+\n",
      "+\n",
      "+\n",
      "+\n",
      "+\n",
      "+\n",
      "+\n",
      "+\n",
      "+\n",
      "+\n",
      "+\n",
      "+\n",
      "+\n",
      "+\n",
      "+\n",
      "+\n",
      "+\n",
      "+\n",
      "+\n",
      "+\n",
      "+\n",
      "+\n",
      "+\n",
      "+\n",
      "+\n",
      "+\n",
      "+\n",
      "+\n",
      "+\n",
      "+\n",
      "+\n",
      "+\n",
      "+\n"
     ]
    }
   ],
   "source": [
    "for i in range(0,n):\n",
    "    for j in range(0,i+1):\n",
    "        print('+')"
   ]
  },
  {
   "cell_type": "markdown",
   "id": "a5fa2ac2-5637-4646-a524-0c14d821611c",
   "metadata": {},
   "source": [
    "### Logical operators \n",
    "1. and\n",
    "2. or\n",
    "3. not"
   ]
  },
  {
   "cell_type": "code",
   "execution_count": 10,
   "id": "8e4b6f82-d0d7-44e1-9d7d-e66b388238d3",
   "metadata": {},
   "outputs": [
    {
     "data": {
      "text/plain": [
       "False"
      ]
     },
     "execution_count": 10,
     "metadata": {},
     "output_type": "execute_result"
    }
   ],
   "source": [
    "not True"
   ]
  },
  {
   "cell_type": "code",
   "execution_count": 11,
   "id": "ad28bf5a-d3c0-4f5f-b7c1-71fb12505e35",
   "metadata": {},
   "outputs": [
    {
     "data": {
      "text/plain": [
       "True"
      ]
     },
     "execution_count": 11,
     "metadata": {},
     "output_type": "execute_result"
    }
   ],
   "source": [
    "not bool(0)"
   ]
  },
  {
   "cell_type": "code",
   "execution_count": 12,
   "id": "5ce54c29-af41-4e12-a486-4de8eb1bc9bb",
   "metadata": {},
   "outputs": [
    {
     "data": {
      "text/plain": [
       "False"
      ]
     },
     "execution_count": 12,
     "metadata": {},
     "output_type": "execute_result"
    }
   ],
   "source": [
    "not bool(1)"
   ]
  },
  {
   "cell_type": "code",
   "execution_count": 14,
   "id": "7bcc7822-b0e1-4225-bcff-a5216ab3d387",
   "metadata": {},
   "outputs": [
    {
     "data": {
      "text/plain": [
       "False"
      ]
     },
     "execution_count": 14,
     "metadata": {},
     "output_type": "execute_result"
    }
   ],
   "source": [
    "start = True\n",
    "not start"
   ]
  },
  {
   "cell_type": "code",
   "execution_count": 15,
   "id": "fd9dfb4c-8ea0-4c3b-8ff4-de31043aee4a",
   "metadata": {},
   "outputs": [
    {
     "data": {
      "text/plain": [
       "bool"
      ]
     },
     "execution_count": 15,
     "metadata": {},
     "output_type": "execute_result"
    }
   ],
   "source": [
    "type(start)"
   ]
  },
  {
   "cell_type": "code",
   "execution_count": null,
   "id": "dcf6adea-d41e-4fd4-9229-172710c09a3d",
   "metadata": {},
   "outputs": [],
   "source": [
    "0 False\n",
    "1 True\n",
    "0 1 1 0"
   ]
  },
  {
   "cell_type": "code",
   "execution_count": 16,
   "id": "c43cafe3-463b-420d-b8ec-98f3107e9d1d",
   "metadata": {},
   "outputs": [
    {
     "data": {
      "text/plain": [
       "False"
      ]
     },
     "execution_count": 16,
     "metadata": {},
     "output_type": "execute_result"
    }
   ],
   "source": [
    "not 1"
   ]
  },
  {
   "cell_type": "code",
   "execution_count": 17,
   "id": "54ee6bd5-92d8-4cf6-8509-52b62f675074",
   "metadata": {},
   "outputs": [
    {
     "data": {
      "text/plain": [
       "True"
      ]
     },
     "execution_count": 17,
     "metadata": {},
     "output_type": "execute_result"
    }
   ],
   "source": [
    "not 0"
   ]
  },
  {
   "cell_type": "code",
   "execution_count": 18,
   "id": "d066f489-47c7-4ba9-a8c9-0a2ff2529a22",
   "metadata": {},
   "outputs": [
    {
     "data": {
      "text/plain": [
       "False"
      ]
     },
     "execution_count": 18,
     "metadata": {},
     "output_type": "execute_result"
    }
   ],
   "source": [
    "True and False"
   ]
  },
  {
   "cell_type": "code",
   "execution_count": 19,
   "id": "6c7f73b9-a076-4708-a4e7-cda7a45f74f4",
   "metadata": {},
   "outputs": [
    {
     "data": {
      "text/plain": [
       "0"
      ]
     },
     "execution_count": 19,
     "metadata": {},
     "output_type": "execute_result"
    }
   ],
   "source": [
    "True * False"
   ]
  },
  {
   "cell_type": "code",
   "execution_count": 21,
   "id": "35b811a6-2214-4909-8b74-0dd14a9e8ea3",
   "metadata": {},
   "outputs": [
    {
     "name": "stdout",
     "output_type": "stream",
     "text": [
      "True\n"
     ]
    }
   ],
   "source": [
    "lst=[1,2,3,4]\n",
    "lst_b=[1,2,3,4]\n",
    "print(lst==lst_b)"
   ]
  },
  {
   "cell_type": "code",
   "execution_count": 22,
   "id": "dabe5843-35b5-4b7a-8849-dd3337eaa44c",
   "metadata": {},
   "outputs": [
    {
     "data": {
      "text/plain": [
       "False"
      ]
     },
     "execution_count": 22,
     "metadata": {},
     "output_type": "execute_result"
    }
   ],
   "source": [
    "lst!=lst_b"
   ]
  },
  {
   "cell_type": "code",
   "execution_count": 24,
   "id": "54834445-0922-4fea-beeb-af398f753065",
   "metadata": {},
   "outputs": [
    {
     "data": {
      "text/plain": [
       "140113807251008"
      ]
     },
     "execution_count": 24,
     "metadata": {},
     "output_type": "execute_result"
    }
   ],
   "source": [
    "id(lst)"
   ]
  },
  {
   "cell_type": "code",
   "execution_count": 25,
   "id": "095facea-f8f8-4349-8127-486e7ab9e12e",
   "metadata": {},
   "outputs": [
    {
     "data": {
      "text/plain": [
       "140113807027264"
      ]
     },
     "execution_count": 25,
     "metadata": {},
     "output_type": "execute_result"
    }
   ],
   "source": [
    "id(lst_b)"
   ]
  },
  {
   "cell_type": "code",
   "execution_count": 26,
   "id": "b62f492e-7120-4c3f-8d9a-9b80c47257f1",
   "metadata": {},
   "outputs": [
    {
     "data": {
      "text/plain": [
       "False"
      ]
     },
     "execution_count": 26,
     "metadata": {},
     "output_type": "execute_result"
    }
   ],
   "source": [
    "lst is lst_b"
   ]
  },
  {
   "cell_type": "code",
   "execution_count": 27,
   "id": "afa8fbac-47a2-4181-8b7c-4e5e6c6deed0",
   "metadata": {},
   "outputs": [
    {
     "data": {
      "text/plain": [
       "True"
      ]
     },
     "execution_count": 27,
     "metadata": {},
     "output_type": "execute_result"
    }
   ],
   "source": [
    "lst is not lst_b"
   ]
  },
  {
   "cell_type": "code",
   "execution_count": 32,
   "id": "6648db5b-e395-42b3-8782-efdfab2731fa",
   "metadata": {},
   "outputs": [
    {
     "name": "stdout",
     "output_type": "stream",
     "text": [
      "2525\n",
      "126\n",
      "0.24752475247524752\n",
      "0\n",
      "-76\n",
      "25.0\n"
     ]
    }
   ],
   "source": [
    "a=25\n",
    "b=101\n",
    "print(a*b)\n",
    "print(a+b)\n",
    "print(a/b)\n",
    "print(a//b)\n",
    "print(a-b)\n",
    "print(float(a%b))"
   ]
  },
  {
   "cell_type": "code",
   "execution_count": 34,
   "id": "f2902b88-977c-4f86-897f-846b4eae993a",
   "metadata": {},
   "outputs": [
    {
     "data": {
      "text/plain": [
       "-3"
      ]
     },
     "execution_count": 34,
     "metadata": {},
     "output_type": "execute_result"
    }
   ],
   "source": [
    "~2"
   ]
  },
  {
   "cell_type": "code",
   "execution_count": 40,
   "id": "b656f0e0-4ef3-415d-b882-86c56c18fa5a",
   "metadata": {},
   "outputs": [],
   "source": [
    "var=10\n",
    "var_2=~var"
   ]
  },
  {
   "cell_type": "code",
   "execution_count": 41,
   "id": "e2f74f61-3c6c-4710-83f1-81bba8519e22",
   "metadata": {},
   "outputs": [
    {
     "data": {
      "text/plain": [
       "-1"
      ]
     },
     "execution_count": 41,
     "metadata": {},
     "output_type": "execute_result"
    }
   ],
   "source": [
    "var | var_2"
   ]
  },
  {
   "cell_type": "markdown",
   "id": "26780418-a002-4157-971b-e95eddbce0db",
   "metadata": {},
   "source": [
    "## Strings"
   ]
  },
  {
   "cell_type": "code",
   "execution_count": 42,
   "id": "37341909-dc54-4e2f-b2cc-68447e42bca2",
   "metadata": {},
   "outputs": [],
   "source": [
    "str1='This is my class'"
   ]
  },
  {
   "cell_type": "code",
   "execution_count": 43,
   "id": "00313eb1-c563-4999-b5fd-428c201d292b",
   "metadata": {},
   "outputs": [
    {
     "data": {
      "text/plain": [
       "'i'"
      ]
     },
     "execution_count": 43,
     "metadata": {},
     "output_type": "execute_result"
    }
   ],
   "source": [
    "str1[5]"
   ]
  },
  {
   "cell_type": "code",
   "execution_count": 47,
   "id": "4e6609e2-22f0-4d67-a6b6-c1678ee09d2c",
   "metadata": {},
   "outputs": [
    {
     "name": "stdout",
     "output_type": "stream",
     "text": [
      "T\n",
      "h\n",
      "i\n",
      "s\n",
      " \n",
      "i\n",
      "s\n",
      " \n",
      "m\n",
      "y\n",
      " \n",
      "c\n",
      "l\n",
      "a\n",
      "s\n",
      "s\n"
     ]
    }
   ],
   "source": [
    "for i in str1:\n",
    "    print(i)"
   ]
  },
  {
   "cell_type": "code",
   "execution_count": 48,
   "id": "d0e508a0-a3e9-4cdf-a327-7d2f133c00ae",
   "metadata": {},
   "outputs": [
    {
     "data": {
      "text/plain": [
       "'This is my class'"
      ]
     },
     "execution_count": 48,
     "metadata": {},
     "output_type": "execute_result"
    }
   ],
   "source": [
    "str1.capitalize()"
   ]
  },
  {
   "cell_type": "code",
   "execution_count": 49,
   "id": "55164b78-7269-4be1-a9d7-504c2aa58f71",
   "metadata": {},
   "outputs": [
    {
     "data": {
      "text/plain": [
       "False"
      ]
     },
     "execution_count": 49,
     "metadata": {},
     "output_type": "execute_result"
    }
   ],
   "source": [
    "str1.islower()"
   ]
  },
  {
   "cell_type": "code",
   "execution_count": 50,
   "id": "3e9a83b5-a952-4324-ba0b-6e035a665884",
   "metadata": {},
   "outputs": [
    {
     "data": {
      "text/plain": [
       "False"
      ]
     },
     "execution_count": 50,
     "metadata": {},
     "output_type": "execute_result"
    }
   ],
   "source": [
    "str1.isupper()"
   ]
  },
  {
   "cell_type": "code",
   "execution_count": 51,
   "id": "80df2581-40ee-4b60-81e4-0007249ff7a6",
   "metadata": {},
   "outputs": [
    {
     "data": {
      "text/plain": [
       "'This is my class'"
      ]
     },
     "execution_count": 51,
     "metadata": {},
     "output_type": "execute_result"
    }
   ],
   "source": [
    "str1.lstrip()"
   ]
  },
  {
   "cell_type": "code",
   "execution_count": 57,
   "id": "6f73d4b9-f6b8-402a-855b-d90c3215dc84",
   "metadata": {},
   "outputs": [
    {
     "data": {
      "text/plain": [
       "'ssalc ym si sihT'"
      ]
     },
     "execution_count": 57,
     "metadata": {},
     "output_type": "execute_result"
    }
   ],
   "source": [
    "str1[::-1]"
   ]
  },
  {
   "cell_type": "code",
   "execution_count": 58,
   "id": "4a076a52-24fd-47cb-a7f1-f25c7f7455c8",
   "metadata": {},
   "outputs": [],
   "source": [
    "cousre_name='Data Science Masters'"
   ]
  },
  {
   "cell_type": "code",
   "execution_count": 66,
   "id": "1b76cf5c-7afc-4784-9756-46ad3d736377",
   "metadata": {},
   "outputs": [
    {
     "data": {
      "text/plain": [
       "'Science'"
      ]
     },
     "execution_count": 66,
     "metadata": {},
     "output_type": "execute_result"
    }
   ],
   "source": [
    "cousre_name[5:12]"
   ]
  },
  {
   "cell_type": "code",
   "execution_count": 60,
   "id": "47a16d27-792e-412f-92a5-4685d30db6d7",
   "metadata": {},
   "outputs": [
    {
     "data": {
      "text/plain": [
       "'sretsaM ecneicS ataD'"
      ]
     },
     "execution_count": 60,
     "metadata": {},
     "output_type": "execute_result"
    }
   ],
   "source": [
    "cousre_name[::-1]"
   ]
  },
  {
   "cell_type": "code",
   "execution_count": 68,
   "id": "1172e683-93bd-4262-8d26-0f35bd985767",
   "metadata": {},
   "outputs": [
    {
     "data": {
      "text/plain": [
       "'ecneicS'"
      ]
     },
     "execution_count": 68,
     "metadata": {},
     "output_type": "execute_result"
    }
   ],
   "source": [
    "cousre_name[11:4:-1]"
   ]
  },
  {
   "cell_type": "code",
   "execution_count": 74,
   "id": "df2f859f-9770-49b7-a3ac-9931e44acc0f",
   "metadata": {},
   "outputs": [
    {
     "data": {
      "text/plain": [
       "'Data Science Masters samarth'"
      ]
     },
     "execution_count": 74,
     "metadata": {},
     "output_type": "execute_result"
    }
   ],
   "source": [
    "cousre_name +' samarth'"
   ]
  },
  {
   "cell_type": "code",
   "execution_count": 80,
   "id": "407585f9-b11f-42d3-b1ef-d67a4c3a6249",
   "metadata": {},
   "outputs": [
    {
     "data": {
      "text/plain": [
       "-1"
      ]
     },
     "execution_count": 80,
     "metadata": {},
     "output_type": "execute_result"
    }
   ],
   "source": [
    "cousre_name.find('t',3,10)"
   ]
  },
  {
   "cell_type": "code",
   "execution_count": 81,
   "id": "a369cf41-d6e1-4c89-b0b9-9d5fd6b32bb1",
   "metadata": {},
   "outputs": [
    {
     "data": {
      "text/plain": [
       "3"
      ]
     },
     "execution_count": 81,
     "metadata": {},
     "output_type": "execute_result"
    }
   ],
   "source": [
    "cousre_name.count('a')"
   ]
  },
  {
   "cell_type": "code",
   "execution_count": 82,
   "id": "e7601e84-bd26-42b7-a9cb-4c58e3b2b2ea",
   "metadata": {},
   "outputs": [
    {
     "data": {
      "text/plain": [
       "['Data', 'Science', 'Masters']"
      ]
     },
     "execution_count": 82,
     "metadata": {},
     "output_type": "execute_result"
    }
   ],
   "source": [
    "cousre_name.split(' ')"
   ]
  },
  {
   "cell_type": "code",
   "execution_count": 2,
   "id": "d1e0f238-c9d2-4e72-b4b5-20a98b6902cf",
   "metadata": {},
   "outputs": [],
   "source": [
    "name=('this is my class 3 revision')"
   ]
  },
  {
   "cell_type": "code",
   "execution_count": 3,
   "id": "d36ac5f4-41b4-40d6-9880-6147b93e88b7",
   "metadata": {},
   "outputs": [
    {
     "data": {
      "text/plain": [
       "'THIS IS MY CLASS 3 REVISION'"
      ]
     },
     "execution_count": 3,
     "metadata": {},
     "output_type": "execute_result"
    }
   ],
   "source": [
    "name.swapcase()"
   ]
  },
  {
   "cell_type": "code",
   "execution_count": 4,
   "id": "ac612386-6c11-4e25-95e2-0dad24baddea",
   "metadata": {},
   "outputs": [
    {
     "data": {
      "text/plain": [
       "'THIS IS MY CLASS 3 REVISION'"
      ]
     },
     "execution_count": 4,
     "metadata": {},
     "output_type": "execute_result"
    }
   ],
   "source": [
    "name.upper()"
   ]
  },
  {
   "cell_type": "code",
   "execution_count": 5,
   "id": "abce7af0-e126-4aef-a5ea-c0b9ed990bf2",
   "metadata": {},
   "outputs": [
    {
     "data": {
      "text/plain": [
       "'This Is My Class 3 Revision'"
      ]
     },
     "execution_count": 5,
     "metadata": {},
     "output_type": "execute_result"
    }
   ],
   "source": [
    "name.title()"
   ]
  },
  {
   "cell_type": "code",
   "execution_count": 6,
   "id": "b70c22a5-959a-4e26-a195-a9f158721830",
   "metadata": {},
   "outputs": [
    {
     "data": {
      "text/plain": [
       "['this', 'is', 'my', 'class', '3', 'revision']"
      ]
     },
     "execution_count": 6,
     "metadata": {},
     "output_type": "execute_result"
    }
   ],
   "source": [
    "name.split(' ')"
   ]
  },
  {
   "cell_type": "code",
   "execution_count": 7,
   "id": "98b1830a-1844-44b1-a7a3-60c7ae34f0ef",
   "metadata": {},
   "outputs": [
    {
     "data": {
      "text/plain": [
       "'This is my class 3 revision'"
      ]
     },
     "execution_count": 7,
     "metadata": {},
     "output_type": "execute_result"
    }
   ],
   "source": [
    "name.capitalize()"
   ]
  },
  {
   "cell_type": "code",
   "execution_count": 9,
   "id": "293a9cee-97c3-4524-ba91-a3dea44f4a53",
   "metadata": {},
   "outputs": [
    {
     "data": {
      "text/plain": [
       "28"
      ]
     },
     "execution_count": 9,
     "metadata": {},
     "output_type": "execute_result"
    }
   ],
   "source": [
    "name.count('')"
   ]
  },
  {
   "cell_type": "code",
   "execution_count": 12,
   "id": "f3933218-8cad-41f0-9f09-29a0764deb4b",
   "metadata": {},
   "outputs": [
    {
     "data": {
      "text/plain": [
       "'n o i s i v e r   3   s s a l c   y m   s i   s i h t'"
      ]
     },
     "execution_count": 12,
     "metadata": {},
     "output_type": "execute_result"
    }
   ],
   "source": [
    "## reversing a string\n",
    "\n",
    "' '.join(reversed(name))"
   ]
  },
  {
   "cell_type": "code",
   "execution_count": 14,
   "id": "cb381e0e-2993-491f-9195-51f4b4413f06",
   "metadata": {},
   "outputs": [
    {
     "data": {
      "text/plain": [
       "'t h i s   i s   m y   c l a s s   3   r e v i s i o n'"
      ]
     },
     "execution_count": 14,
     "metadata": {},
     "output_type": "execute_result"
    }
   ],
   "source": [
    "' '.join(name)"
   ]
  },
  {
   "cell_type": "code",
   "execution_count": 17,
   "id": "28f85b6c-d95f-4fdd-826c-dc7b9c06e9ca",
   "metadata": {},
   "outputs": [
    {
     "name": "stdout",
     "output_type": "stream",
     "text": [
      "this is my class 3 revision"
     ]
    }
   ],
   "source": [
    "## removing characters from end \n",
    "for i in list(name):\n",
    "    print(i,end='')"
   ]
  },
  {
   "cell_type": "code",
   "execution_count": 21,
   "id": "cab86dcf-b768-4af4-a110-c912ebabe592",
   "metadata": {},
   "outputs": [
    {
     "data": {
      "text/plain": [
       "'this is my class 3 revision'"
      ]
     },
     "execution_count": 21,
     "metadata": {},
     "output_type": "execute_result"
    }
   ],
   "source": [
    "name.strip(\" \")"
   ]
  },
  {
   "cell_type": "code",
   "execution_count": 23,
   "id": "647a398b-16b5-4c44-a83e-e5c85fa04ca3",
   "metadata": {},
   "outputs": [
    {
     "data": {
      "text/plain": [
       "'this is my class 3 revision'"
      ]
     },
     "execution_count": 23,
     "metadata": {},
     "output_type": "execute_result"
    }
   ],
   "source": [
    "name.lstrip('my')"
   ]
  },
  {
   "cell_type": "code",
   "execution_count": 34,
   "id": "8ba8cdc2-48d3-4bb2-bda6-937b1e4e4ac7",
   "metadata": {},
   "outputs": [
    {
     "data": {
      "text/plain": [
       "'Greeting   from PW skills'"
      ]
     },
     "execution_count": 34,
     "metadata": {},
     "output_type": "execute_result"
    }
   ],
   "source": [
    "name_1='Greeting   to PW skills'\n",
    "name_1.replace('to','from')"
   ]
  },
  {
   "cell_type": "code",
   "execution_count": 31,
   "id": "e7343215-996b-40a3-9497-1fb7cd656162",
   "metadata": {},
   "outputs": [
    {
     "name": "stdout",
     "output_type": "stream",
     "text": [
      "welcome to PW skills\n",
      "140348267036880\n",
      "140347685627472\n"
     ]
    }
   ],
   "source": [
    "name_2=name_1.replace('Greeting','welcome')\n",
    "print(name_2)\n",
    "print(id(name_1))\n",
    "print(id(name_2))"
   ]
  },
  {
   "cell_type": "code",
   "execution_count": 35,
   "id": "87d32bb8-4c6b-4cfb-8eaa-595f934f5d69",
   "metadata": {},
   "outputs": [
    {
     "data": {
      "text/plain": [
       "'Greeting   to PW skills'"
      ]
     },
     "execution_count": 35,
     "metadata": {},
     "output_type": "execute_result"
    }
   ],
   "source": [
    "name_1.strip('\\t').expandtabs()"
   ]
  },
  {
   "cell_type": "code",
   "execution_count": 36,
   "id": "3fb9cae7-db23-4e0c-a319-6dd96d5ca278",
   "metadata": {},
   "outputs": [
    {
     "data": {
      "text/plain": [
       "True"
      ]
     },
     "execution_count": 36,
     "metadata": {},
     "output_type": "execute_result"
    }
   ],
   "source": [
    "a='abc1234'\n",
    "a.isalnum()"
   ]
  },
  {
   "cell_type": "code",
   "execution_count": 43,
   "id": "0baa6d45-bd06-48c9-b230-c5a87b7511ef",
   "metadata": {},
   "outputs": [
    {
     "name": "stdout",
     "output_type": "stream",
     "text": [
      "no\n",
      "no\n",
      "no\n",
      "no\n",
      "no\n",
      "no\n",
      "no\n"
     ]
    }
   ],
   "source": [
    "for i in a :\n",
    "    if i=='abc':  \n",
    "        print(i)\n",
    "    else:\n",
    "        print('no')"
   ]
  },
  {
   "cell_type": "code",
   "execution_count": 45,
   "id": "788cdd65-c6d9-4a86-b94f-f6740adacdf7",
   "metadata": {},
   "outputs": [
    {
     "data": {
      "text/plain": [
       "7"
      ]
     },
     "execution_count": 45,
     "metadata": {},
     "output_type": "execute_result"
    }
   ],
   "source": [
    "len(a)"
   ]
  },
  {
   "cell_type": "code",
   "execution_count": 50,
   "id": "b78b0d53-44b0-42e7-8658-a875087560a1",
   "metadata": {},
   "outputs": [
    {
     "name": "stdout",
     "output_type": "stream",
     "text": [
      "7\n"
     ]
    }
   ],
   "source": [
    "count=0\n",
    "for i in a:\n",
    "    count=count+1\n",
    "print(count)"
   ]
  },
  {
   "cell_type": "code",
   "execution_count": 53,
   "id": "053f0bcc-ed66-4f4f-bc6a-0696bb9165aa",
   "metadata": {},
   "outputs": [
    {
     "name": "stdout",
     "output_type": "stream",
     "text": [
      "0 = a\n",
      "1 = b\n",
      "2 = c\n",
      "3 = 1\n",
      "4 = 2\n",
      "5 = 3\n",
      "6 = 4\n"
     ]
    }
   ],
   "source": [
    "for i in range(len(a)):\n",
    "    print(i,'=',a[i])"
   ]
  },
  {
   "cell_type": "code",
   "execution_count": 55,
   "id": "014372f2-69ba-4e8d-9b19-a1e43cb2fcca",
   "metadata": {},
   "outputs": [
    {
     "name": "stdout",
     "output_type": "stream",
     "text": [
      "6 = 4\n",
      "5 = 3\n",
      "4 = 2\n",
      "3 = 1\n",
      "2 = c\n",
      "1 = b\n",
      "0 = a\n"
     ]
    }
   ],
   "source": [
    "for i in range(len(a)-1,-1,-1):\n",
    "    print(i,'=',a[i])"
   ]
  },
  {
   "cell_type": "code",
   "execution_count": 56,
   "id": "7e96addc-0485-4870-8547-a86c75ecc333",
   "metadata": {},
   "outputs": [
    {
     "name": "stdout",
     "output_type": "stream",
     "text": [
      "p this is not vowel\n",
      "w this is not vowel\n",
      "s this is not vowel\n",
      "k this is not vowel\n",
      "i thi is a vowel\n",
      "l this is not vowel\n",
      "l this is not vowel\n",
      "s this is not vowel\n"
     ]
    }
   ],
   "source": [
    "Name='pwskills'\n",
    "vowels='AaeEiIoOuU'\n",
    "\n",
    "for i in Name:\n",
    "    if i in vowels:\n",
    "        print('{} thi is a vowel'.format(i))\n",
    "    else:\n",
    "        print('{} this is not vowel'.format(i))"
   ]
  },
  {
   "cell_type": "markdown",
   "id": "2f045319-3b4d-4645-a516-434800f86bd1",
   "metadata": {},
   "source": [
    "# List"
   ]
  },
  {
   "cell_type": "code",
   "execution_count": 59,
   "id": "6b848f96-afc9-4009-9ae3-acda2c6d0703",
   "metadata": {},
   "outputs": [],
   "source": [
    "lst=['samarth','pramit','dev',32]"
   ]
  },
  {
   "cell_type": "code",
   "execution_count": 63,
   "id": "01a18b00-2aed-4354-800c-fea2147e83f2",
   "metadata": {},
   "outputs": [
    {
     "name": "stdout",
     "output_type": "stream",
     "text": [
      "samarth\n",
      "pramit\n",
      "dev\n",
      "32\n"
     ]
    }
   ],
   "source": [
    "for i in lst:\n",
    "    print(i)"
   ]
  },
  {
   "cell_type": "code",
   "execution_count": 64,
   "id": "1c3fea39-0f5c-4d4c-a26a-c0eee6139b61",
   "metadata": {},
   "outputs": [
    {
     "data": {
      "text/plain": [
       "4"
      ]
     },
     "execution_count": 64,
     "metadata": {},
     "output_type": "execute_result"
    }
   ],
   "source": [
    "len(lst)"
   ]
  },
  {
   "cell_type": "code",
   "execution_count": 66,
   "id": "93740b9c-0900-48c0-8268-550300678c4b",
   "metadata": {},
   "outputs": [
    {
     "name": "stdout",
     "output_type": "stream",
     "text": [
      "4\n"
     ]
    }
   ],
   "source": [
    "count=0\n",
    "for i in lst:\n",
    "    count=count+1\n",
    "print(count)"
   ]
  },
  {
   "cell_type": "code",
   "execution_count": 69,
   "id": "e7e9a9f9-e65f-4721-a487-44ffda086502",
   "metadata": {},
   "outputs": [
    {
     "data": {
      "text/plain": [
       "['pramit', 'dev']"
      ]
     },
     "execution_count": 69,
     "metadata": {},
     "output_type": "execute_result"
    }
   ],
   "source": [
    "lst[1:-1]"
   ]
  },
  {
   "cell_type": "code",
   "execution_count": 70,
   "id": "7faa436d-656b-4d50-a981-42212fec8558",
   "metadata": {},
   "outputs": [],
   "source": [
    "lst[1]='nik'"
   ]
  },
  {
   "cell_type": "code",
   "execution_count": 71,
   "id": "d7610862-89e5-4d08-9583-f0ffe9b8f09a",
   "metadata": {},
   "outputs": [
    {
     "data": {
      "text/plain": [
       "['samarth', 'nik', 'dev', 32]"
      ]
     },
     "execution_count": 71,
     "metadata": {},
     "output_type": "execute_result"
    }
   ],
   "source": [
    "lst"
   ]
  },
  {
   "cell_type": "code",
   "execution_count": 73,
   "id": "4749abb2-27a0-4828-978b-cd0669158060",
   "metadata": {
    "tags": []
   },
   "outputs": [
    {
     "data": {
      "text/plain": [
       "['samarth', 'nik', 'dev', 32, ['this', 54]]"
      ]
     },
     "execution_count": 73,
     "metadata": {},
     "output_type": "execute_result"
    }
   ],
   "source": [
    "lst +[['this',54]]"
   ]
  },
  {
   "cell_type": "code",
   "execution_count": 76,
   "id": "938b4f84-0391-4bdf-87d8-6fb4e96d1f64",
   "metadata": {},
   "outputs": [
    {
     "name": "stdout",
     "output_type": "stream",
     "text": [
      "nik this is it\n"
     ]
    }
   ],
   "source": [
    "for i in lst:\n",
    "    if i == 'nik':\n",
    "        print(i,'this is it')"
   ]
  },
  {
   "cell_type": "code",
   "execution_count": 78,
   "id": "444d2b84-0f94-49dc-a209-01ceb298f4c0",
   "metadata": {},
   "outputs": [],
   "source": [
    "lst=[1,2,3,4,5,6,7]\n",
    "lst.append('Samarth')"
   ]
  },
  {
   "cell_type": "code",
   "execution_count": 79,
   "id": "15c86ce3-214e-4cff-9515-e8f3f37a20fc",
   "metadata": {},
   "outputs": [
    {
     "data": {
      "text/plain": [
       "[1, 2, 3, 4, 5, 6, 7, 'Samarth']"
      ]
     },
     "execution_count": 79,
     "metadata": {},
     "output_type": "execute_result"
    }
   ],
   "source": [
    "lst"
   ]
  },
  {
   "cell_type": "code",
   "execution_count": 80,
   "id": "66573d3b-07b2-490f-80ea-12f4e234b456",
   "metadata": {},
   "outputs": [],
   "source": [
    "lst.append(['samarth','dev'])"
   ]
  },
  {
   "cell_type": "code",
   "execution_count": 81,
   "id": "9bb5e4a1-3609-4f65-9b5b-1fe6327aed52",
   "metadata": {},
   "outputs": [
    {
     "data": {
      "text/plain": [
       "[1, 2, 3, 4, 5, 6, 7, 'Samarth', ['samarth', 'dev']]"
      ]
     },
     "execution_count": 81,
     "metadata": {},
     "output_type": "execute_result"
    }
   ],
   "source": [
    "lst"
   ]
  },
  {
   "cell_type": "code",
   "execution_count": 2,
   "id": "2b8d5a99-86a3-48be-8926-5d6e3497cbe9",
   "metadata": {},
   "outputs": [],
   "source": [
    "lst_1=[1,2,3]\n",
    "lst_2=[4,5,6]\n",
    "lst_3=[7,8,9]\n",
    "matrix=[lst_1,lst_2,lst_3]"
   ]
  },
  {
   "cell_type": "code",
   "execution_count": 3,
   "id": "494601d3-3ed2-456d-b45f-74b39501c2cf",
   "metadata": {},
   "outputs": [
    {
     "data": {
      "text/plain": [
       "[[1, 2, 3], [4, 5, 6], [7, 8, 9]]"
      ]
     },
     "execution_count": 3,
     "metadata": {},
     "output_type": "execute_result"
    }
   ],
   "source": [
    "matrix"
   ]
  },
  {
   "cell_type": "code",
   "execution_count": 8,
   "id": "39befd73-88c9-4580-b6eb-14e4663570ca",
   "metadata": {},
   "outputs": [
    {
     "data": {
      "text/plain": [
       "[8, 9]"
      ]
     },
     "execution_count": 8,
     "metadata": {},
     "output_type": "execute_result"
    }
   ],
   "source": [
    "matrix[2][1:]"
   ]
  },
  {
   "cell_type": "code",
   "execution_count": 16,
   "id": "c9fe9818-2719-4861-b6fe-c5961c7b6ed4",
   "metadata": {},
   "outputs": [
    {
     "name": "stdout",
     "output_type": "stream",
     "text": [
      "0\n",
      "1\n",
      "2\n",
      "3\n",
      "4\n",
      "5\n",
      "6\n",
      "7\n",
      "8\n",
      "9\n",
      "10\n",
      "11\n",
      "12\n",
      "13\n",
      "14\n",
      "15\n",
      "16\n",
      "17\n",
      "18\n",
      "19\n"
     ]
    }
   ],
   "source": [
    "# List comprehension \n",
    "\n",
    "for i in range(20):\n",
    "    print(i)"
   ]
  },
  {
   "cell_type": "code",
   "execution_count": 17,
   "id": "708b2df3-af0b-422d-8287-042ea4a28b7d",
   "metadata": {},
   "outputs": [
    {
     "data": {
      "text/plain": [
       "[0, 1, 2, 3, 4, 5, 6, 7, 8, 9, 10, 11, 12, 13, 14, 15, 16, 17, 18, 19]"
      ]
     },
     "execution_count": 17,
     "metadata": {},
     "output_type": "execute_result"
    }
   ],
   "source": [
    "[i for i in range (20)]"
   ]
  },
  {
   "cell_type": "code",
   "execution_count": 30,
   "id": "8a53944e-7478-445e-b994-d9b66e16acd9",
   "metadata": {},
   "outputs": [
    {
     "data": {
      "text/plain": [
       "['odd', 2, 'odd', 4, 'odd', 6, 'odd', 8, 'odd']"
      ]
     },
     "execution_count": 30,
     "metadata": {},
     "output_type": "execute_result"
    }
   ],
   "source": [
    "[i if i%2==0 else 'odd' for i in range(1,10)]"
   ]
  },
  {
   "cell_type": "code",
   "execution_count": 37,
   "id": "cb18c0be-1570-4278-a2e1-78243f9ee2dd",
   "metadata": {},
   "outputs": [
    {
     "data": {
      "text/plain": [
       "['', 1, '', 3, '', 5, '', 7, '', 9, '', 11, '', 13, '', 15, '', 17, '', 19]"
      ]
     },
     "execution_count": 37,
     "metadata": {},
     "output_type": "execute_result"
    }
   ],
   "source": [
    "[i if i%2!=0 else '' for i in range(20)]"
   ]
  },
  {
   "cell_type": "code",
   "execution_count": 48,
   "id": "af2b352a-57f1-42d5-afa5-bed8bf1cf533",
   "metadata": {},
   "outputs": [
    {
     "name": "stdout",
     "output_type": "stream",
     "text": [
      "20\n",
      "16\n"
     ]
    }
   ],
   "source": [
    "lst=[1,2,3,4,5,6,7,8]\n",
    "\n",
    "even_sum=0\n",
    "odd_sum=0\n",
    "for i in lst:\n",
    "    if i%2==0:\n",
    "        even_sum+=i\n",
    "    else:\n",
    "        odd_sum+=i\n",
    "print(even_sum)\n",
    "print(odd_sum)"
   ]
  },
  {
   "cell_type": "code",
   "execution_count": 52,
   "id": "a9adbaf4-a3da-43f1-a50b-cdb89e683276",
   "metadata": {},
   "outputs": [
    {
     "data": {
      "text/plain": [
       "20"
      ]
     },
     "execution_count": 52,
     "metadata": {},
     "output_type": "execute_result"
    }
   ],
   "source": [
    "even_sum=sum([num for num in lst if num % 2 ==0])"
   ]
  },
  {
   "cell_type": "code",
   "execution_count": 53,
   "id": "90bb6f55-e223-4d30-8a8a-51c3b3d3817e",
   "metadata": {},
   "outputs": [],
   "source": [
    "Odd_sum=sum([num for num in lst if num % 2 !=0])"
   ]
  },
  {
   "cell_type": "code",
   "execution_count": 54,
   "id": "ae7413fb-d969-4ab3-bb4b-52597d0296ee",
   "metadata": {},
   "outputs": [
    {
     "name": "stdout",
     "output_type": "stream",
     "text": [
      "20\n",
      "16\n"
     ]
    }
   ],
   "source": [
    "print(even_sum)\n",
    "print(Odd_sum)"
   ]
  },
  {
   "cell_type": "code",
   "execution_count": 56,
   "id": "9e7c10be-de3d-4ab6-af4f-671bb34163a8",
   "metadata": {},
   "outputs": [
    {
     "data": {
      "text/plain": [
       "[1, 4, 9, 16, 25, 36, 49, 64, 81, 100]"
      ]
     },
     "execution_count": 56,
     "metadata": {},
     "output_type": "execute_result"
    }
   ],
   "source": [
    "lst1=[1,2,3,4,5,6,7,8,9,10]\n",
    "\n",
    "[num**2 for num in lst1]"
   ]
  },
  {
   "cell_type": "code",
   "execution_count": 58,
   "id": "88c755ad-2a1d-44c8-b802-6311308f0538",
   "metadata": {},
   "outputs": [
    {
     "data": {
      "text/plain": [
       "['', '', 0, 1, 2, 3, 4]"
      ]
     },
     "execution_count": 58,
     "metadata": {},
     "output_type": "execute_result"
    }
   ],
   "source": [
    "lst=[-2,-1,0,1,2,3,4]\n",
    "\n",
    "[num if num >= 0 else '' for num in lst]"
   ]
  },
  {
   "cell_type": "code",
   "execution_count": 59,
   "id": "1df4781e-16e7-40d5-9cf2-a5d0a89528b7",
   "metadata": {},
   "outputs": [
    {
     "data": {
      "text/plain": [
       "[1, 2, 3, 4]"
      ]
     },
     "execution_count": 59,
     "metadata": {},
     "output_type": "execute_result"
    }
   ],
   "source": [
    "[num for num in lst if num >0]"
   ]
  },
  {
   "cell_type": "code",
   "execution_count": 61,
   "id": "e025f5a8-f4a8-4180-bd24-ec572aade576",
   "metadata": {},
   "outputs": [
    {
     "data": {
      "text/plain": [
       "['a', 'b', 'c', 'd']"
      ]
     },
     "execution_count": 61,
     "metadata": {},
     "output_type": "execute_result"
    }
   ],
   "source": [
    "words=['apple','banana','cherry','date']\n",
    "\n",
    "[word[0] for word in words]"
   ]
  },
  {
   "cell_type": "code",
   "execution_count": null,
   "id": "56be32da-9bbd-4d5d-85d1-adbb142502ba",
   "metadata": {},
   "outputs": [],
   "source": [
    "(9/5)*temp*32"
   ]
  },
  {
   "cell_type": "code",
   "execution_count": 66,
   "id": "97af8710-86a8-4329-a8ef-e830e043ab0d",
   "metadata": {},
   "outputs": [
    {
     "data": {
      "text/plain": [
       "[0.0, 576.0, 1152.0, 1728.0, 2304.0, 2880.0]"
      ]
     },
     "execution_count": 66,
     "metadata": {},
     "output_type": "execute_result"
    }
   ],
   "source": [
    "celcius_temp=[0,10,20,30,40,50]\n",
    "[((9/5)*temp*32) for temp in celcius_temp]"
   ]
  },
  {
   "cell_type": "code",
   "execution_count": 67,
   "id": "6c5d8c5e-aea9-4ae3-b4df-c270d67e2a58",
   "metadata": {},
   "outputs": [],
   "source": [
    "lsts=[[1,2,3],[4,5,6],[7,8,9]]"
   ]
  },
  {
   "cell_type": "code",
   "execution_count": 69,
   "id": "b352638c-e04b-4adc-9895-7a66d1dde1b4",
   "metadata": {},
   "outputs": [
    {
     "data": {
      "text/plain": [
       "[1, 2, 3, 4, 5, 6, 7, 8, 9]"
      ]
     },
     "execution_count": 69,
     "metadata": {},
     "output_type": "execute_result"
    }
   ],
   "source": [
    "[num for sublist in lsts for num in sublist]"
   ]
  },
  {
   "cell_type": "code",
   "execution_count": 71,
   "id": "8a37a222-d943-4ff8-b093-02882cd0ce19",
   "metadata": {},
   "outputs": [
    {
     "data": {
      "text/plain": [
       "[1, 2, 3, 4, 5, 6, 7, 8, 9]"
      ]
     },
     "execution_count": 71,
     "metadata": {},
     "output_type": "execute_result"
    }
   ],
   "source": [
    "[num for sublist in lsts for num in sublist ]"
   ]
  },
  {
   "cell_type": "markdown",
   "id": "7f28e2c1-262f-4cce-bc84-e73f04d85dab",
   "metadata": {},
   "source": [
    "# Tuples "
   ]
  },
  {
   "cell_type": "code",
   "execution_count": 73,
   "id": "4ed3ac83-0769-40a9-ad03-90348b835894",
   "metadata": {},
   "outputs": [
    {
     "data": {
      "text/plain": [
       "tuple"
      ]
     },
     "execution_count": 73,
     "metadata": {},
     "output_type": "execute_result"
    }
   ],
   "source": [
    "lst=(1,2,3)\n",
    "type(lst)"
   ]
  },
  {
   "cell_type": "code",
   "execution_count": 75,
   "id": "af7948ab-9ca7-4ea9-ba73-b248641ab273",
   "metadata": {},
   "outputs": [
    {
     "data": {
      "text/plain": [
       "tuple"
      ]
     },
     "execution_count": 75,
     "metadata": {},
     "output_type": "execute_result"
    }
   ],
   "source": [
    "tuple1=(1,)\n",
    "type(tuple1)"
   ]
  },
  {
   "cell_type": "code",
   "execution_count": 97,
   "id": "64fc2e3d-2edd-4a34-9fee-82d315ff0822",
   "metadata": {},
   "outputs": [],
   "source": [
    "tuple2=(1,2,3,4,5,6,7,7,7,7,78,9,'samarth',True)"
   ]
  },
  {
   "cell_type": "code",
   "execution_count": 82,
   "id": "eeabcc2d-b1dd-4c2e-8f89-34c83362f930",
   "metadata": {},
   "outputs": [
    {
     "data": {
      "text/plain": [
       "'a'"
      ]
     },
     "execution_count": 82,
     "metadata": {},
     "output_type": "execute_result"
    }
   ],
   "source": [
    "tuple2[9][1]"
   ]
  },
  {
   "cell_type": "code",
   "execution_count": 83,
   "id": "d1d64aac-e0de-434b-a389-390d420a7342",
   "metadata": {},
   "outputs": [
    {
     "ename": "TypeError",
     "evalue": "'tuple' object does not support item assignment",
     "output_type": "error",
     "traceback": [
      "\u001b[0;31m---------------------------------------------------------------------------\u001b[0m",
      "\u001b[0;31mTypeError\u001b[0m                                 Traceback (most recent call last)",
      "Cell \u001b[0;32mIn[83], line 1\u001b[0m\n\u001b[0;32m----> 1\u001b[0m \u001b[43mtuple2\u001b[49m\u001b[43m[\u001b[49m\u001b[38;5;241;43m0\u001b[39;49m\u001b[43m]\u001b[49m\u001b[38;5;241m=\u001b[39m\u001b[38;5;124m'\u001b[39m\u001b[38;5;124mpramit\u001b[39m\u001b[38;5;124m'\u001b[39m\n",
      "\u001b[0;31mTypeError\u001b[0m: 'tuple' object does not support item assignment"
     ]
    }
   ],
   "source": [
    "tuple2[0]='pramit'"
   ]
  },
  {
   "cell_type": "code",
   "execution_count": 87,
   "id": "e748051d-ddec-41b5-90b6-3011afdab2fa",
   "metadata": {},
   "outputs": [
    {
     "data": {
      "text/plain": [
       "4"
      ]
     },
     "execution_count": 87,
     "metadata": {},
     "output_type": "execute_result"
    }
   ],
   "source": [
    "tuple2.count(7)"
   ]
  },
  {
   "cell_type": "code",
   "execution_count": 89,
   "id": "c30500f6-8eff-4c0e-ad6e-6a2b4821f6b1",
   "metadata": {},
   "outputs": [
    {
     "data": {
      "text/plain": [
       "6"
      ]
     },
     "execution_count": 89,
     "metadata": {},
     "output_type": "execute_result"
    }
   ],
   "source": [
    "tuple2.index(7,2)"
   ]
  },
  {
   "cell_type": "code",
   "execution_count": 90,
   "id": "ccf84282-09c4-4226-96fa-3c0ba791d138",
   "metadata": {},
   "outputs": [
    {
     "data": {
      "text/plain": [
       "2"
      ]
     },
     "execution_count": 90,
     "metadata": {},
     "output_type": "execute_result"
    }
   ],
   "source": [
    "tuple2.count(1)"
   ]
  },
  {
   "cell_type": "code",
   "execution_count": 94,
   "id": "6a2cf5cc-73d3-4fb5-99be-6757ab0c67a5",
   "metadata": {},
   "outputs": [
    {
     "data": {
      "text/plain": [
       "[1, 2, 3, 4, 5, 6, 7, 7, 7, 7, 78, 9, 'samarth', True]"
      ]
     },
     "execution_count": 94,
     "metadata": {},
     "output_type": "execute_result"
    }
   ],
   "source": [
    "[i for i in tuple2]"
   ]
  },
  {
   "cell_type": "code",
   "execution_count": 95,
   "id": "37f4f650-8675-4df7-bfa0-94809ea35ee1",
   "metadata": {},
   "outputs": [],
   "source": [
    "del tuple2"
   ]
  },
  {
   "cell_type": "code",
   "execution_count": 98,
   "id": "3ab5d3c0-0c80-45ac-815a-fb022d28df0a",
   "metadata": {},
   "outputs": [
    {
     "data": {
      "text/plain": [
       "14"
      ]
     },
     "execution_count": 98,
     "metadata": {},
     "output_type": "execute_result"
    }
   ],
   "source": [
    "len(tuple2)"
   ]
  },
  {
   "cell_type": "code",
   "execution_count": 99,
   "id": "c86de629-3b1c-4dda-af89-d9cad2604a04",
   "metadata": {},
   "outputs": [
    {
     "data": {
      "text/plain": [
       "True"
      ]
     },
     "execution_count": 99,
     "metadata": {},
     "output_type": "execute_result"
    }
   ],
   "source": [
    "'samarth' in tuple2"
   ]
  },
  {
   "cell_type": "markdown",
   "id": "f72b082c-222f-47bc-b734-231c2231392a",
   "metadata": {},
   "source": [
    "# sets"
   ]
  },
  {
   "cell_type": "code",
   "execution_count": 100,
   "id": "4f0a6d9e-22f8-46eb-a82e-c199ea60fdd1",
   "metadata": {},
   "outputs": [
    {
     "data": {
      "text/plain": [
       "dict"
      ]
     },
     "execution_count": 100,
     "metadata": {},
     "output_type": "execute_result"
    }
   ],
   "source": [
    "s={}\n",
    "type(s)"
   ]
  },
  {
   "cell_type": "code",
   "execution_count": 102,
   "id": "34167fdd-32ae-4f9b-b158-dfa359afbccc",
   "metadata": {},
   "outputs": [
    {
     "data": {
      "text/plain": [
       "set"
      ]
     },
     "execution_count": 102,
     "metadata": {},
     "output_type": "execute_result"
    }
   ],
   "source": [
    "s={1,2,4,5,5}\n",
    "type(s)"
   ]
  },
  {
   "cell_type": "code",
   "execution_count": 104,
   "id": "78a4b2cf-3c79-44a1-bd64-48f853d8c665",
   "metadata": {},
   "outputs": [
    {
     "data": {
      "text/plain": [
       "{1, 2, 4, 5}"
      ]
     },
     "execution_count": 104,
     "metadata": {},
     "output_type": "execute_result"
    }
   ],
   "source": [
    "s # Duplication is removed "
   ]
  },
  {
   "cell_type": "code",
   "execution_count": 106,
   "id": "5e3b74f0-a8f8-417c-9d67-61ce9ac2d212",
   "metadata": {},
   "outputs": [],
   "source": [
    "s2=set(tuple2)"
   ]
  },
  {
   "cell_type": "code",
   "execution_count": 108,
   "id": "1115853b-225f-4b53-a907-d34a23508a84",
   "metadata": {},
   "outputs": [
    {
     "ename": "TypeError",
     "evalue": "unhashable type: 'list'",
     "output_type": "error",
     "traceback": [
      "\u001b[0;31m---------------------------------------------------------------------------\u001b[0m",
      "\u001b[0;31mTypeError\u001b[0m                                 Traceback (most recent call last)",
      "Cell \u001b[0;32mIn[108], line 1\u001b[0m\n\u001b[0;32m----> 1\u001b[0m set2\u001b[38;5;241m=\u001b[39m{\u001b[38;5;241m1\u001b[39m,\u001b[38;5;241m2\u001b[39m,\u001b[38;5;241m3\u001b[39m,\u001b[38;5;241m4\u001b[39m,[\u001b[38;5;241m1\u001b[39m,\u001b[38;5;241m2\u001b[39m,\u001b[38;5;241m3\u001b[39m,\u001b[38;5;241m4\u001b[39m]}\n",
      "\u001b[0;31mTypeError\u001b[0m: unhashable type: 'list'"
     ]
    }
   ],
   "source": [
    "set2={1,2,3,4,[1,2,3,4]}"
   ]
  },
  {
   "cell_type": "code",
   "execution_count": 109,
   "id": "6ff58821-ca0e-4fd5-8365-fa41b30d4d72",
   "metadata": {},
   "outputs": [],
   "source": [
    "set2={1,2,3,4,(1,2,3,4)}"
   ]
  },
  {
   "cell_type": "code",
   "execution_count": 110,
   "id": "f876c76f-3119-40d3-a7c2-2f4b25de8a06",
   "metadata": {},
   "outputs": [
    {
     "data": {
      "text/plain": [
       "{(1, 2, 3, 4), 1, 2, 3, 4}"
      ]
     },
     "execution_count": 110,
     "metadata": {},
     "output_type": "execute_result"
    }
   ],
   "source": [
    "set2"
   ]
  },
  {
   "cell_type": "code",
   "execution_count": 113,
   "id": "1f83e7fc-a8a6-41ac-978e-32e0c422757f",
   "metadata": {},
   "outputs": [
    {
     "data": {
      "text/plain": [
       "{4}"
      ]
     },
     "execution_count": 113,
     "metadata": {},
     "output_type": "execute_result"
    }
   ],
   "source": [
    "s8={1,2,3,4}\n",
    "s9={1,2,3,5}\n",
    "s8.difference(s9)"
   ]
  },
  {
   "cell_type": "markdown",
   "id": "7f94f765-ed1e-4e7c-b0bf-36a76582311b",
   "metadata": {},
   "source": [
    "# dictionary"
   ]
  },
  {
   "cell_type": "code",
   "execution_count": 2,
   "id": "3dfc2abc-f49c-402c-a223-ed829cbb84af",
   "metadata": {},
   "outputs": [],
   "source": [
    "d={'name':['samarth','pramit'],'emailid':['sam_1a','pram'],'num':[1,2]}"
   ]
  },
  {
   "cell_type": "code",
   "execution_count": 3,
   "id": "2db8cebb-c3ac-43d7-a4c2-b8b806cafacf",
   "metadata": {},
   "outputs": [
    {
     "data": {
      "text/plain": [
       "{'name': ['samarth', 'pramit'], 'emailid': ['sam_1a', 'pram'], 'num': [1, 2]}"
      ]
     },
     "execution_count": 3,
     "metadata": {},
     "output_type": "execute_result"
    }
   ],
   "source": [
    "d"
   ]
  },
  {
   "cell_type": "code",
   "execution_count": 4,
   "id": "20f8a37c-adc2-4dda-a17a-1a38f8ae8569",
   "metadata": {},
   "outputs": [
    {
     "data": {
      "text/plain": [
       "dict"
      ]
     },
     "execution_count": 4,
     "metadata": {},
     "output_type": "execute_result"
    }
   ],
   "source": [
    "type(d)"
   ]
  },
  {
   "cell_type": "code",
   "execution_count": 5,
   "id": "995238bd-13c1-4ee4-a155-7f14a692c9bf",
   "metadata": {},
   "outputs": [],
   "source": [
    "d1={(1,2,3):'sam'}"
   ]
  },
  {
   "cell_type": "code",
   "execution_count": 6,
   "id": "59d5f0c9-c667-4b9b-87ce-20f18031e433",
   "metadata": {},
   "outputs": [
    {
     "data": {
      "text/plain": [
       "{(1, 2, 3): 'sam'}"
      ]
     },
     "execution_count": 6,
     "metadata": {},
     "output_type": "execute_result"
    }
   ],
   "source": [
    "d1"
   ]
  },
  {
   "cell_type": "markdown",
   "id": "b1f44286-6ccf-4440-bdae-868ecd433ab1",
   "metadata": {},
   "source": [
    "# dictionary comprehension"
   ]
  },
  {
   "cell_type": "code",
   "execution_count": 2,
   "id": "c13bd607-0401-40af-83ee-4395d1d3189f",
   "metadata": {},
   "outputs": [],
   "source": [
    "d2={i: i**2 for i in range(1,11)}"
   ]
  },
  {
   "cell_type": "code",
   "execution_count": 12,
   "id": "084ab18e-649b-419d-89a6-106500bd4d6e",
   "metadata": {},
   "outputs": [
    {
     "data": {
      "text/plain": [
       "{1: '', 2: 2, 3: '', 4: 4, 5: '', 6: 6, 7: '', 8: 8, 9: '', 10: 10}"
      ]
     },
     "execution_count": 12,
     "metadata": {},
     "output_type": "execute_result"
    }
   ],
   "source": [
    "{i:i if i%2==0 else '' for i in d2}"
   ]
  },
  {
   "cell_type": "code",
   "execution_count": 11,
   "id": "f9d6f49c-ac29-4091-805a-8c3e391be34b",
   "metadata": {},
   "outputs": [
    {
     "data": {
      "text/plain": [
       "{1: 1, 2: 4, 3: 9, 4: 16, 5: 25, 6: 36, 7: 49, 8: 64, 9: 81, 10: 100}"
      ]
     },
     "execution_count": 11,
     "metadata": {},
     "output_type": "execute_result"
    }
   ],
   "source": [
    "d2"
   ]
  },
  {
   "cell_type": "code",
   "execution_count": 3,
   "id": "7ee26f55-2087-4b67-bc42-c6f786066010",
   "metadata": {},
   "outputs": [
    {
     "name": "stdout",
     "output_type": "stream",
     "text": [
      "2\n",
      "4\n",
      "6\n",
      "8\n",
      "10\n"
     ]
    }
   ],
   "source": [
    "for i in d2.keys():\n",
    "    if i%2==0:\n",
    "        print(i)"
   ]
  },
  {
   "cell_type": "markdown",
   "id": "73e03ded-010e-48cd-be67-f5dd4442f3c5",
   "metadata": {},
   "source": [
    "# Functions"
   ]
  },
  {
   "cell_type": "code",
   "execution_count": 4,
   "id": "a46e4a76-cef5-410e-85bd-7d011a1d0571",
   "metadata": {},
   "outputs": [
    {
     "name": "stdout",
     "output_type": "stream",
     "text": [
      "this is my program\n"
     ]
    }
   ],
   "source": [
    "print('this is my program')"
   ]
  },
  {
   "cell_type": "code",
   "execution_count": 6,
   "id": "707661b6-c0a0-4831-8d6a-67856682f816",
   "metadata": {},
   "outputs": [
    {
     "data": {
      "text/plain": [
       "[1, 2, 3, 4, 5]"
      ]
     },
     "execution_count": 6,
     "metadata": {},
     "output_type": "execute_result"
    }
   ],
   "source": [
    "l=[1,2,3,4,5]\n",
    "l"
   ]
  },
  {
   "cell_type": "code",
   "execution_count": 7,
   "id": "d421a604-5b92-4a43-8a1e-8d0568b9b045",
   "metadata": {},
   "outputs": [
    {
     "data": {
      "text/plain": [
       "5"
      ]
     },
     "execution_count": 7,
     "metadata": {},
     "output_type": "execute_result"
    }
   ],
   "source": [
    "len(l)"
   ]
  },
  {
   "cell_type": "code",
   "execution_count": 8,
   "id": "3e4cb5e7-86dd-47fc-aa52-a1883103e3af",
   "metadata": {},
   "outputs": [],
   "source": [
    "def test():\n",
    "    pass"
   ]
  },
  {
   "cell_type": "code",
   "execution_count": 10,
   "id": "6febc3b0-80be-4cef-b617-cce6e76e9f1e",
   "metadata": {},
   "outputs": [],
   "source": [
    "def test1():\n",
    "    print('this is my very first funct')"
   ]
  },
  {
   "cell_type": "code",
   "execution_count": 21,
   "id": "b26132c2-f878-4a7f-afb2-9163036fa21f",
   "metadata": {},
   "outputs": [
    {
     "name": "stdout",
     "output_type": "stream",
     "text": [
      "this is my very first funct\n"
     ]
    }
   ],
   "source": [
    "type2=str(test1())"
   ]
  },
  {
   "cell_type": "code",
   "execution_count": 22,
   "id": "7a8d932d-3a05-4e9f-b6b2-bd6fc866bf33",
   "metadata": {},
   "outputs": [],
   "source": [
    "def test2():\n",
    "    return('this is my funct wiuth return')"
   ]
  },
  {
   "cell_type": "code",
   "execution_count": 23,
   "id": "07af9eb3-edae-443d-aa93-c594b9b76098",
   "metadata": {},
   "outputs": [
    {
     "data": {
      "text/plain": [
       "'this is my funct wiuth return'"
      ]
     },
     "execution_count": 23,
     "metadata": {},
     "output_type": "execute_result"
    }
   ],
   "source": [
    "test2()"
   ]
  },
  {
   "cell_type": "code",
   "execution_count": 26,
   "id": "cd1bbb51-6fbb-4efc-b482-a1409543c0da",
   "metadata": {},
   "outputs": [
    {
     "data": {
      "text/plain": [
       "'this is my funct wiuth return samarth'"
      ]
     },
     "execution_count": 26,
     "metadata": {},
     "output_type": "execute_result"
    }
   ],
   "source": [
    "test2() + ' samarth'"
   ]
  },
  {
   "cell_type": "code",
   "execution_count": 27,
   "id": "320af415-f4ff-43d7-8837-28b607259c1b",
   "metadata": {},
   "outputs": [],
   "source": [
    "def test3():\n",
    "    return(1,4,'samarth',34.56)"
   ]
  },
  {
   "cell_type": "code",
   "execution_count": 28,
   "id": "d41e66aa-d541-4075-977f-401eab13c8d7",
   "metadata": {},
   "outputs": [
    {
     "data": {
      "text/plain": [
       "(1, 4, 'samarth', 34.56)"
      ]
     },
     "execution_count": 28,
     "metadata": {},
     "output_type": "execute_result"
    }
   ],
   "source": [
    "test3()"
   ]
  },
  {
   "cell_type": "code",
   "execution_count": 32,
   "id": "cf361866-a3b3-4b59-beab-2f9eae9fff3b",
   "metadata": {},
   "outputs": [],
   "source": [
    "def test_1(i):\n",
    "    for i in range(i):\n",
    "        if i %2==0:\n",
    "            print('even',i)\n",
    "        else:\n",
    "            print('odd')"
   ]
  },
  {
   "cell_type": "code",
   "execution_count": 34,
   "id": "148fb3fd-a14c-4c65-9a95-c6fcf3c0c53e",
   "metadata": {},
   "outputs": [
    {
     "name": "stdout",
     "output_type": "stream",
     "text": [
      "even 0\n",
      "odd\n",
      "even 2\n",
      "odd\n",
      "even 4\n",
      "odd\n",
      "even 6\n",
      "odd\n",
      "even 8\n",
      "odd\n",
      "even 10\n",
      "odd\n",
      "even 12\n",
      "odd\n",
      "even 14\n",
      "odd\n",
      "even 16\n",
      "odd\n",
      "even 18\n",
      "odd\n",
      "even 20\n",
      "odd\n",
      "even 22\n",
      "odd\n",
      "even 24\n",
      "odd\n",
      "even 26\n",
      "odd\n",
      "even 28\n",
      "odd\n"
     ]
    }
   ],
   "source": [
    "test_1(30)"
   ]
  },
  {
   "cell_type": "code",
   "execution_count": 35,
   "id": "08a2333f-5f60-4aaf-af7d-c34b7d4d6a5a",
   "metadata": {},
   "outputs": [],
   "source": [
    "a=1,2,3,4,5"
   ]
  },
  {
   "cell_type": "code",
   "execution_count": 36,
   "id": "c189ac07-6659-4ee4-ad46-36363e0c07bb",
   "metadata": {},
   "outputs": [],
   "source": [
    "a,b,c,d=1,2,34.56,True"
   ]
  },
  {
   "cell_type": "code",
   "execution_count": 38,
   "id": "6f3b1f2f-5885-445b-b5ba-9ff0899357b9",
   "metadata": {},
   "outputs": [
    {
     "data": {
      "text/plain": [
       "(1, 2, 34.56, True)"
      ]
     },
     "execution_count": 38,
     "metadata": {},
     "output_type": "execute_result"
    }
   ],
   "source": [
    "a,b,c,d"
   ]
  },
  {
   "cell_type": "code",
   "execution_count": 40,
   "id": "eb899646-4129-4231-8e18-1c55b2a62bd7",
   "metadata": {},
   "outputs": [
    {
     "data": {
      "text/plain": [
       "'samarth'"
      ]
     },
     "execution_count": 40,
     "metadata": {},
     "output_type": "execute_result"
    }
   ],
   "source": [
    "test3()[2] # tuple endexing from functions with help of functions "
   ]
  },
  {
   "cell_type": "code",
   "execution_count": 46,
   "id": "0671efc3-6cda-456c-a3a7-37d33ed07206",
   "metadata": {},
   "outputs": [],
   "source": [
    "def test4(a):\n",
    "    a=a*4 +5\n",
    "    return a"
   ]
  },
  {
   "cell_type": "code",
   "execution_count": 50,
   "id": "0b2ff8df-8fe8-4cda-add7-b1cddf36a089",
   "metadata": {},
   "outputs": [
    {
     "name": "stdout",
     "output_type": "stream",
     "text": [
      "<class 'int'>\n"
     ]
    },
    {
     "data": {
      "text/plain": [
       "25"
      ]
     },
     "execution_count": 50,
     "metadata": {},
     "output_type": "execute_result"
    }
   ],
   "source": [
    "print(type(test4(6)))\n",
    "test4(5)"
   ]
  },
  {
   "cell_type": "code",
   "execution_count": 51,
   "id": "f10c93d7-897c-40d3-9d07-fb443d1d8229",
   "metadata": {},
   "outputs": [],
   "source": [
    "def test5(a,b):\n",
    "    c=a+b\n",
    "    return (c)"
   ]
  },
  {
   "cell_type": "code",
   "execution_count": 52,
   "id": "e75e55c8-1d3f-4794-b09b-1c546a9916dd",
   "metadata": {},
   "outputs": [
    {
     "data": {
      "text/plain": [
       "6"
      ]
     },
     "execution_count": 52,
     "metadata": {},
     "output_type": "execute_result"
    }
   ],
   "source": [
    "test5(2,4)"
   ]
  },
  {
   "cell_type": "code",
   "execution_count": 54,
   "id": "4c5d8722-eafd-4d93-a937-195637a400a9",
   "metadata": {},
   "outputs": [
    {
     "data": {
      "text/plain": [
       "'samaga'"
      ]
     },
     "execution_count": 54,
     "metadata": {},
     "output_type": "execute_result"
    }
   ],
   "source": [
    "test5('sam' ,'aga')"
   ]
  },
  {
   "cell_type": "code",
   "execution_count": 78,
   "id": "170b8bd7-1065-4b4a-a553-53d6eec63749",
   "metadata": {},
   "outputs": [],
   "source": [
    "l=[1,2,3,4,5,'samarth','pwskills',[7,8,9,45]]"
   ]
  },
  {
   "cell_type": "code",
   "execution_count": null,
   "id": "e4aa6250-26bd-45ef-952a-5b3bcfff36e3",
   "metadata": {},
   "outputs": [],
   "source": [
    "def num_val():\n",
    "    for i in l:\n",
    "        if i ==int(i):\n",
    "            print("
   ]
  },
  {
   "cell_type": "code",
   "execution_count": 73,
   "id": "394778f8-2f52-4ca3-a23d-03f84c694eb8",
   "metadata": {},
   "outputs": [],
   "source": [
    "def test6(a):\n",
    "    n=[]\n",
    "    for i in a:\n",
    "        if type(i) == int or type(i)==float:\n",
    "            n.append(i)\n",
    "    return n"
   ]
  },
  {
   "cell_type": "code",
   "execution_count": 75,
   "id": "5b5771b5-5e0c-46d5-98de-0efc6ab0dd97",
   "metadata": {},
   "outputs": [
    {
     "data": {
      "text/plain": [
       "[1, 2, 3, 4, 5]"
      ]
     },
     "execution_count": 75,
     "metadata": {},
     "output_type": "execute_result"
    }
   ],
   "source": [
    "test6(l)"
   ]
  },
  {
   "cell_type": "code",
   "execution_count": 81,
   "id": "1f866f25-067a-49d3-b641-ab1583ecd0e7",
   "metadata": {},
   "outputs": [],
   "source": [
    "def test7(a):\n",
    "    n=[]\n",
    "    for i in a :\n",
    "        if type(i)==list:\n",
    "            for j in i :\n",
    "                if type(j)==int or type(j)==float:\n",
    "                    n.append(j)\n",
    "        else :\n",
    "            if type(i)==int or type(i)==float:\n",
    "                n.append(i)\n",
    "                        \n",
    "    return n"
   ]
  },
  {
   "cell_type": "code",
   "execution_count": 82,
   "id": "e78e1c54-1879-4052-b82a-6070e1b64e73",
   "metadata": {},
   "outputs": [
    {
     "data": {
      "text/plain": [
       "[1, 2, 3, 4, 5, 7, 8, 9, 45]"
      ]
     },
     "execution_count": 82,
     "metadata": {},
     "output_type": "execute_result"
    }
   ],
   "source": [
    "test7(l)"
   ]
  },
  {
   "cell_type": "code",
   "execution_count": 1,
   "id": "948f5829-9900-4920-9f01-7656e42e0b27",
   "metadata": {},
   "outputs": [],
   "source": [
    "def test(a,b,c,d,e):\n",
    "    pass"
   ]
  },
  {
   "cell_type": "code",
   "execution_count": 2,
   "id": "6054152b-954c-41bf-bb16-87d3ae16f329",
   "metadata": {},
   "outputs": [],
   "source": [
    "def test1(*args):\n",
    "    return args"
   ]
  },
  {
   "cell_type": "code",
   "execution_count": 3,
   "id": "7cc1e633-17fd-4789-a714-6da158b08725",
   "metadata": {},
   "outputs": [
    {
     "data": {
      "text/plain": [
       "(2,)"
      ]
     },
     "execution_count": 3,
     "metadata": {},
     "output_type": "execute_result"
    }
   ],
   "source": [
    "test1(2)"
   ]
  },
  {
   "cell_type": "code",
   "execution_count": 4,
   "id": "0b0dfeaa-5eed-4705-ba9f-a64a4d75f933",
   "metadata": {},
   "outputs": [
    {
     "data": {
      "text/plain": [
       "(1, 2, 3, 4, 5, 6, 6, 7, 7)"
      ]
     },
     "execution_count": 4,
     "metadata": {},
     "output_type": "execute_result"
    }
   ],
   "source": [
    "test1(1,2,3,4,5,6,6,7,7)"
   ]
  },
  {
   "cell_type": "code",
   "execution_count": 5,
   "id": "f655b2c8-d533-4fbf-ad95-7095fc85e21a",
   "metadata": {},
   "outputs": [
    {
     "data": {
      "text/plain": [
       "('sudh', [1, 2, 3, 4, 5, 6], (7, 15.0, 0.9402985074626866, 34))"
      ]
     },
     "execution_count": 5,
     "metadata": {},
     "output_type": "execute_result"
    }
   ],
   "source": [
    "test1('sudh',[1,2,3,4,5,6],(7,54/3.6,63/67,34))"
   ]
  },
  {
   "cell_type": "code",
   "execution_count": 6,
   "id": "170b78ba-3cf2-411a-96c1-19a4d2de667a",
   "metadata": {},
   "outputs": [],
   "source": [
    "def test2(*samarth):\n",
    "    return samarth"
   ]
  },
  {
   "cell_type": "code",
   "execution_count": 7,
   "id": "0bffb117-b8d6-4893-b745-3cb0b5a7af8f",
   "metadata": {},
   "outputs": [
    {
     "data": {
      "text/plain": [
       "('this is it ',)"
      ]
     },
     "execution_count": 7,
     "metadata": {},
     "output_type": "execute_result"
    }
   ],
   "source": [
    "test2('this is it ')"
   ]
  },
  {
   "cell_type": "code",
   "execution_count": 19,
   "id": "a9323ac1-a47d-422d-8cd8-87e45b3ee063",
   "metadata": {},
   "outputs": [],
   "source": [
    "def test3(*args):\n",
    "    l=[]\n",
    "    for i in args:\n",
    "        if type(i) == list:\n",
    "            l.append(i)\n",
    "    return (l)\n",
    "        "
   ]
  },
  {
   "cell_type": "code",
   "execution_count": 20,
   "id": "08f6bb63-f8f6-4aad-a5ed-631589379af2",
   "metadata": {},
   "outputs": [
    {
     "data": {
      "text/plain": [
       "[[1, 2, 4.5, 5, 7, 78, 9], [8, 576, 7.8, 88566, 45]]"
      ]
     },
     "execution_count": 20,
     "metadata": {},
     "output_type": "execute_result"
    }
   ],
   "source": [
    "test3(1,2,3,4,5,6,[1,2,4.5,5,7,78,9],'samarth',[8,576,7.8,88566,45])"
   ]
  },
  {
   "cell_type": "code",
   "execution_count": 21,
   "id": "41acc591-4251-48bf-be21-c043bcf8ad2d",
   "metadata": {},
   "outputs": [],
   "source": [
    "def test4(*args):\n",
    "    l=[]\n",
    "    for i in args:\n",
    "        if type(i)== list:\n",
    "            l.append(i)\n",
    "    return l"
   ]
  },
  {
   "cell_type": "code",
   "execution_count": 22,
   "id": "032dd5f9-c29d-45e8-9a1c-d97ce0677286",
   "metadata": {},
   "outputs": [
    {
     "data": {
      "text/plain": [
       "[[6, 6, 7, 8, 9, 0, 5, 4, 3, 6, 7]]"
      ]
     },
     "execution_count": 22,
     "metadata": {},
     "output_type": "execute_result"
    }
   ],
   "source": [
    "test4([6,6,7,8,9,0,5,4,3,6,7],6,34,7,8,9,54,34,4)"
   ]
  },
  {
   "cell_type": "code",
   "execution_count": 23,
   "id": "d8132801-147e-4447-9fea-11e6ade083d4",
   "metadata": {},
   "outputs": [],
   "source": [
    "def test5(**kwargs):\n",
    "    return kwargs"
   ]
  },
  {
   "cell_type": "code",
   "execution_count": 25,
   "id": "86012380-47ec-4c43-a1cc-dd17a78f121c",
   "metadata": {},
   "outputs": [
    {
     "data": {
      "text/plain": [
       "dict"
      ]
     },
     "execution_count": 25,
     "metadata": {},
     "output_type": "execute_result"
    }
   ],
   "source": [
    "type(test5())"
   ]
  },
  {
   "cell_type": "code",
   "execution_count": 30,
   "id": "e74f073f-9499-46cd-825e-4c14287c1470",
   "metadata": {},
   "outputs": [],
   "source": [
    "fag=test5(a=34,b=26,c=[5,6,78,9,3,2])"
   ]
  },
  {
   "cell_type": "code",
   "execution_count": 36,
   "id": "35674c14-f856-4c34-9966-cba6a8bb2da8",
   "metadata": {},
   "outputs": [],
   "source": [
    "def test7(*args,**kwargs):\n",
    "    return args,kwargs"
   ]
  },
  {
   "cell_type": "code",
   "execution_count": 37,
   "id": "2a656dfc-1d25-4db7-b55c-7ef32afe4096",
   "metadata": {},
   "outputs": [
    {
     "data": {
      "text/plain": [
       "((2, 3, 4, 5, 6), {'a': 34, 'b': 98})"
      ]
     },
     "execution_count": 37,
     "metadata": {},
     "output_type": "execute_result"
    }
   ],
   "source": [
    "test7(2,3,4,5,6,a=34,b=98)"
   ]
  },
  {
   "cell_type": "code",
   "execution_count": 1,
   "id": "40c8f519-9cd2-4ea6-abd7-1568e8b525c9",
   "metadata": {},
   "outputs": [
    {
     "name": "stdout",
     "output_type": "stream",
     "text": [
      "012345678910111213141516171819"
     ]
    }
   ],
   "source": [
    "for i in range(20):\n",
    "    print(i,end='')"
   ]
  },
  {
   "cell_type": "code",
   "execution_count": 2,
   "id": "56537376-bf9e-4450-8d20-e2d98ffa3b14",
   "metadata": {},
   "outputs": [],
   "source": [
    "l=[1,2,3,4,5,6,78,7,'samarth','ML']"
   ]
  },
  {
   "cell_type": "code",
   "execution_count": 5,
   "id": "e6407b6d-13e1-4307-8522-ebc5dec5784a",
   "metadata": {},
   "outputs": [],
   "source": [
    "def test1(a):\n",
    "    n=[]\n",
    "    for i in a:\n",
    "        if type(i) == int:\n",
    "            n.append(i)\n",
    "    return a"
   ]
  },
  {
   "cell_type": "code",
   "execution_count": 6,
   "id": "a966ba1c-9622-478e-b159-700628f02ac0",
   "metadata": {},
   "outputs": [
    {
     "data": {
      "text/plain": [
       "[1, 2, 3, 4, 5, 6, 78, 7, 'samarth', 'ML']"
      ]
     },
     "execution_count": 6,
     "metadata": {},
     "output_type": "execute_result"
    }
   ],
   "source": [
    "test1(l)"
   ]
  },
  {
   "cell_type": "code",
   "execution_count": 7,
   "id": "eb959451-1665-4395-909d-f2357f607a4f",
   "metadata": {},
   "outputs": [],
   "source": [
    "def test_fib(n):\n",
    "    a,b=0,1\n",
    "    for i in range(n):\n",
    "        yield a\n",
    "        a,b=b,a+b"
   ]
  },
  {
   "cell_type": "code",
   "execution_count": 8,
   "id": "43f9dd3b-fabf-4c2d-a3ed-6273072dc520",
   "metadata": {},
   "outputs": [
    {
     "data": {
      "text/plain": [
       "<generator object test_fib at 0x7fc12e540900>"
      ]
     },
     "execution_count": 8,
     "metadata": {},
     "output_type": "execute_result"
    }
   ],
   "source": [
    "test_fib(10)"
   ]
  },
  {
   "cell_type": "code",
   "execution_count": 15,
   "id": "5ebd2a13-7e42-4c0b-9f59-b0c3583f87b9",
   "metadata": {},
   "outputs": [
    {
     "name": "stdout",
     "output_type": "stream",
     "text": [
      "0\n",
      "1\n",
      "1\n",
      "2\n",
      "3\n",
      "5\n",
      "8\n",
      "13\n",
      "21\n",
      "34\n"
     ]
    }
   ],
   "source": [
    "for i in test_fib(10):\n",
    "    print (i)#,end='')"
   ]
  },
  {
   "cell_type": "markdown",
   "id": "2927bd1e-8783-4fbd-987f-2bf3412969bd",
   "metadata": {},
   "source": [
    "# Lambda Function "
   ]
  },
  {
   "cell_type": "code",
   "execution_count": 16,
   "id": "d2821669-3d12-4995-997f-ac7bcf33e221",
   "metadata": {},
   "outputs": [],
   "source": [
    "n=3\n",
    "p=2\n",
    "\n",
    "\n",
    "    "
   ]
  },
  {
   "cell_type": "code",
   "execution_count": 23,
   "id": "640ae14a-cbf4-4d53-9466-de5ce2890576",
   "metadata": {},
   "outputs": [],
   "source": [
    "def test1(n,p):\n",
    "    return n**p"
   ]
  },
  {
   "cell_type": "code",
   "execution_count": 25,
   "id": "7a33f31a-4965-46c9-801c-df22d326aaa9",
   "metadata": {},
   "outputs": [
    {
     "data": {
      "text/plain": [
       "9"
      ]
     },
     "execution_count": 25,
     "metadata": {},
     "output_type": "execute_result"
    }
   ],
   "source": [
    "test1(n=3,p=2)"
   ]
  },
  {
   "cell_type": "code",
   "execution_count": 26,
   "id": "5f5ba689-daf4-4ed2-af9a-29e73adaa957",
   "metadata": {},
   "outputs": [
    {
     "data": {
      "text/plain": [
       "6561"
      ]
     },
     "execution_count": 26,
     "metadata": {},
     "output_type": "execute_result"
    }
   ],
   "source": [
    "test1(9,4)"
   ]
  },
  {
   "cell_type": "code",
   "execution_count": 33,
   "id": "b1dba32f-2d45-4346-8a50-1bbc73f3dc82",
   "metadata": {},
   "outputs": [],
   "source": [
    "a = lambda n,p : n**p"
   ]
  },
  {
   "cell_type": "code",
   "execution_count": 34,
   "id": "5ba9cae0-3b69-44cc-ac5c-93a522d86b85",
   "metadata": {},
   "outputs": [
    {
     "data": {
      "text/plain": [
       "9"
      ]
     },
     "execution_count": 34,
     "metadata": {},
     "output_type": "execute_result"
    }
   ],
   "source": [
    "a(3,2)"
   ]
  },
  {
   "cell_type": "code",
   "execution_count": 1,
   "id": "bc9a7d93-91fb-400a-8446-9a359ae10356",
   "metadata": {},
   "outputs": [],
   "source": [
    "add= lambda x,y : x+y"
   ]
  },
  {
   "cell_type": "code",
   "execution_count": 2,
   "id": "ba6405ef-94de-4440-b463-655d15469e34",
   "metadata": {},
   "outputs": [
    {
     "data": {
      "text/plain": [
       "1005"
      ]
     },
     "execution_count": 2,
     "metadata": {},
     "output_type": "execute_result"
    }
   ],
   "source": [
    "add(241,764)"
   ]
  },
  {
   "cell_type": "code",
   "execution_count": 3,
   "id": "05657497-1a47-4434-9d83-056a4103090c",
   "metadata": {},
   "outputs": [],
   "source": [
    "c_to_f=lambda c:(9/5)*c+32"
   ]
  },
  {
   "cell_type": "code",
   "execution_count": 5,
   "id": "9d565864-d9f3-41e8-9c91-fe997877cc56",
   "metadata": {},
   "outputs": [
    {
     "data": {
      "text/plain": [
       "93.2"
      ]
     },
     "execution_count": 5,
     "metadata": {},
     "output_type": "execute_result"
    }
   ],
   "source": [
    "c_to_f(34)"
   ]
  },
  {
   "cell_type": "code",
   "execution_count": 6,
   "id": "6e8a57c6-b107-4014-bd4d-5a863693cf54",
   "metadata": {},
   "outputs": [],
   "source": [
    "max_num= lambda x,y: x if x > y else y"
   ]
  },
  {
   "cell_type": "code",
   "execution_count": 7,
   "id": "f304c1ed-b838-4f5a-9b01-c2f008b98f85",
   "metadata": {},
   "outputs": [
    {
     "data": {
      "text/plain": [
       "78"
      ]
     },
     "execution_count": 7,
     "metadata": {},
     "output_type": "execute_result"
    }
   ],
   "source": [
    "max_num(78,23)"
   ]
  },
  {
   "cell_type": "code",
   "execution_count": 10,
   "id": "ab1e00b0-003c-44de-a33e-652df2f5f6b0",
   "metadata": {},
   "outputs": [],
   "source": [
    "s='pwskills'"
   ]
  },
  {
   "cell_type": "code",
   "execution_count": 11,
   "id": "61241b65-a29c-4b60-85eb-fbbef35041c0",
   "metadata": {},
   "outputs": [],
   "source": [
    "leng= lambda x : len(x)"
   ]
  },
  {
   "cell_type": "code",
   "execution_count": 12,
   "id": "049d5ee2-4b50-442b-a891-efcd3c158ff6",
   "metadata": {},
   "outputs": [
    {
     "data": {
      "text/plain": [
       "8"
      ]
     },
     "execution_count": 12,
     "metadata": {},
     "output_type": "execute_result"
    }
   ],
   "source": [
    "leng(s)"
   ]
  },
  {
   "cell_type": "markdown",
   "id": "17590864-0f98-4241-a0c4-0ac12771b9ef",
   "metadata": {},
   "source": [
    "# MAP ,Reduce and Filter"
   ]
  },
  {
   "cell_type": "code",
   "execution_count": 27,
   "id": "8f1bef3e-3c43-4567-b23d-b2e9dc6a7efd",
   "metadata": {},
   "outputs": [],
   "source": [
    "l=[1,2,3,4,5,8,6,98]"
   ]
  },
  {
   "cell_type": "code",
   "execution_count": 17,
   "id": "7534297a-e8c9-44ef-8a63-ba4483c03c3d",
   "metadata": {},
   "outputs": [
    {
     "name": "stdout",
     "output_type": "stream",
     "text": [
      "1\n",
      "4\n",
      "9\n",
      "16\n",
      "25\n"
     ]
    }
   ],
   "source": [
    "for i in l:\n",
    "    print (i**2)"
   ]
  },
  {
   "cell_type": "code",
   "execution_count": 21,
   "id": "fd8825e3-98c0-414e-8e0c-f4473c4ddd72",
   "metadata": {},
   "outputs": [
    {
     "ename": "SyntaxError",
     "evalue": "'return' outside function (2327893990.py, line 5)",
     "output_type": "error",
     "traceback": [
      "\u001b[0;36m  Cell \u001b[0;32mIn[21], line 5\u001b[0;36m\u001b[0m\n\u001b[0;31m    return square\u001b[0m\n\u001b[0m    ^\u001b[0m\n\u001b[0;31mSyntaxError\u001b[0m\u001b[0;31m:\u001b[0m 'return' outside function\n"
     ]
    }
   ],
   "source": [
    "def test1(a):\n",
    "    n=[]\n",
    "    for i in a:\n",
    "        if type(i) == int:\n",
    "            n.append(i)\n",
    "    return a"
   ]
  },
  {
   "cell_type": "code",
   "execution_count": 22,
   "id": "b701cc66-10c4-4c1a-b31a-e0b078845fa7",
   "metadata": {},
   "outputs": [],
   "source": [
    "def test(a):\n",
    "    k=[]\n",
    "    for i in a:\n",
    "        i=i**2\n",
    "        k.append(i)\n",
    "    return k"
   ]
  },
  {
   "cell_type": "code",
   "execution_count": 24,
   "id": "d0126187-3b63-4d82-84aa-802a06222a4e",
   "metadata": {},
   "outputs": [
    {
     "data": {
      "text/plain": [
       "[1, 4, 9, 16, 25]"
      ]
     },
     "execution_count": 24,
     "metadata": {},
     "output_type": "execute_result"
    }
   ],
   "source": [
    "test(l)"
   ]
  },
  {
   "cell_type": "code",
   "execution_count": 28,
   "id": "d984def8-238f-47d8-8b93-785f94c2f8b7",
   "metadata": {},
   "outputs": [],
   "source": [
    "def test(l):\n",
    "    l1=[]\n",
    "    for i in l:\n",
    "        l1.append(i**2)\n",
    "    return l1"
   ]
  },
  {
   "cell_type": "code",
   "execution_count": 29,
   "id": "fe9a4916-3d69-4bf9-837d-e89f1d92fa46",
   "metadata": {},
   "outputs": [
    {
     "data": {
      "text/plain": [
       "[1, 4, 9, 16, 25, 64, 36, 9604]"
      ]
     },
     "execution_count": 29,
     "metadata": {},
     "output_type": "execute_result"
    }
   ],
   "source": [
    "test(l)"
   ]
  },
  {
   "cell_type": "code",
   "execution_count": 30,
   "id": "e558fbc8-8e87-46a9-b906-a59a2c519a3e",
   "metadata": {},
   "outputs": [],
   "source": [
    "def sq(x):\n",
    "    return(x**2)"
   ]
  },
  {
   "cell_type": "code",
   "execution_count": 31,
   "id": "96fd1c7c-c53d-478a-9e52-3e2314f65ec3",
   "metadata": {},
   "outputs": [
    {
     "data": {
      "text/plain": [
       "<map at 0x7fc5246ffca0>"
      ]
     },
     "execution_count": 31,
     "metadata": {},
     "output_type": "execute_result"
    }
   ],
   "source": [
    "map(sq,l)"
   ]
  },
  {
   "cell_type": "code",
   "execution_count": 32,
   "id": "04ad08b6-3369-4cc3-963a-6b21a08a9264",
   "metadata": {},
   "outputs": [
    {
     "data": {
      "text/plain": [
       "[1, 4, 9, 16, 25, 64, 36, 9604]"
      ]
     },
     "execution_count": 32,
     "metadata": {},
     "output_type": "execute_result"
    }
   ],
   "source": [
    "list(map(sq,l))"
   ]
  },
  {
   "cell_type": "code",
   "execution_count": 33,
   "id": "0035673f-17fe-4564-941b-d8f3318d326c",
   "metadata": {},
   "outputs": [
    {
     "data": {
      "text/plain": [
       "[1, 4, 9, 16, 25, 64, 36, 9604]"
      ]
     },
     "execution_count": 33,
     "metadata": {},
     "output_type": "execute_result"
    }
   ],
   "source": [
    "list(map(lambda x: x**2,l))"
   ]
  },
  {
   "cell_type": "code",
   "execution_count": 34,
   "id": "bca423a2-908f-451f-bba1-029e341dfa01",
   "metadata": {},
   "outputs": [
    {
     "data": {
      "text/plain": [
       "[3, 4, 5, 6, 7, 10, 8, 100]"
      ]
     },
     "execution_count": 34,
     "metadata": {},
     "output_type": "execute_result"
    }
   ],
   "source": [
    "list(map(lambda x: x+2,l))"
   ]
  },
  {
   "cell_type": "code",
   "execution_count": 35,
   "id": "20d3a684-be23-48e3-9f8d-54ad8a08e071",
   "metadata": {},
   "outputs": [
    {
     "data": {
      "text/plain": [
       "['1', '2', '3', '4', '5', '8', '6', '98']"
      ]
     },
     "execution_count": 35,
     "metadata": {},
     "output_type": "execute_result"
    }
   ],
   "source": [
    "list(map(lambda x: str(x),l))"
   ]
  },
  {
   "cell_type": "code",
   "execution_count": 36,
   "id": "9f383994-9446-4abb-bfba-31cf7c5599ec",
   "metadata": {},
   "outputs": [],
   "source": [
    "l1=[1,2,4,5,6]\n",
    "l2=[7,8,9,10]"
   ]
  },
  {
   "cell_type": "code",
   "execution_count": 41,
   "id": "781c7adc-6be3-48dd-85a8-5f9acdac244c",
   "metadata": {},
   "outputs": [
    {
     "data": {
      "text/plain": [
       "[8, 10, 13, 15]"
      ]
     },
     "execution_count": 41,
     "metadata": {},
     "output_type": "execute_result"
    }
   ],
   "source": [
    "list(map(lambda x,y: x +y ,l1,l2))"
   ]
  },
  {
   "cell_type": "code",
   "execution_count": 42,
   "id": "ad587fce-73ed-45c7-b1df-9e383697f514",
   "metadata": {},
   "outputs": [],
   "source": [
    "s='pwskills'"
   ]
  },
  {
   "cell_type": "code",
   "execution_count": 48,
   "id": "88b64c6b-a0b2-4241-95ef-cbd2411db4dc",
   "metadata": {},
   "outputs": [
    {
     "data": {
      "text/plain": [
       "['P', 'W', 'S', 'K', 'I', 'L', 'L', 'S']"
      ]
     },
     "execution_count": 48,
     "metadata": {},
     "output_type": "execute_result"
    }
   ],
   "source": [
    "list(map(lambda x: x.upper(),s))"
   ]
  },
  {
   "cell_type": "code",
   "execution_count": 49,
   "id": "6e590f1f-e952-4499-b032-eeab78ea9165",
   "metadata": {},
   "outputs": [],
   "source": [
    "from functools import reduce"
   ]
  },
  {
   "cell_type": "code",
   "execution_count": 50,
   "id": "8d9ac614-e038-43b3-84e0-22d9be4c482c",
   "metadata": {},
   "outputs": [],
   "source": [
    "l=[1,2,4,5,6,7,8]"
   ]
  },
  {
   "cell_type": "code",
   "execution_count": 51,
   "id": "0599c424-515a-4387-988a-4ade7919d58d",
   "metadata": {},
   "outputs": [
    {
     "data": {
      "text/plain": [
       "33"
      ]
     },
     "execution_count": 51,
     "metadata": {},
     "output_type": "execute_result"
    }
   ],
   "source": [
    "reduce(lambda x,y : x+y ,l)"
   ]
  },
  {
   "cell_type": "code",
   "execution_count": 52,
   "id": "72477e29-e27e-44ad-92a9-8e3056d2b277",
   "metadata": {},
   "outputs": [],
   "source": [
    "def add(x,y):\n",
    "    return x+y"
   ]
  },
  {
   "cell_type": "code",
   "execution_count": 53,
   "id": "e88a13ca-291f-45db-a79c-e01c33e66539",
   "metadata": {},
   "outputs": [
    {
     "data": {
      "text/plain": [
       "33"
      ]
     },
     "execution_count": 53,
     "metadata": {},
     "output_type": "execute_result"
    }
   ],
   "source": [
    "reduce(add,l)"
   ]
  },
  {
   "cell_type": "code",
   "execution_count": 56,
   "id": "f9f2b05c-e738-4517-9e03-635092e233c2",
   "metadata": {},
   "outputs": [
    {
     "data": {
      "text/plain": [
       "8"
      ]
     },
     "execution_count": 56,
     "metadata": {},
     "output_type": "execute_result"
    }
   ],
   "source": [
    "reduce(lambda x,y : x if x > y else y,l)"
   ]
  },
  {
   "cell_type": "code",
   "execution_count": 62,
   "id": "a1236600-59a8-4592-abf0-c45cb3cf03e2",
   "metadata": {},
   "outputs": [],
   "source": [
    "def test(x,y):\n",
    "    if x > y :\n",
    "        return (x)\n",
    "    else :\n",
    "        return (y)"
   ]
  },
  {
   "cell_type": "code",
   "execution_count": 63,
   "id": "7ca9c7d9-9ad3-465c-9adc-987a58b41747",
   "metadata": {},
   "outputs": [
    {
     "data": {
      "text/plain": [
       "8"
      ]
     },
     "execution_count": 63,
     "metadata": {},
     "output_type": "execute_result"
    }
   ],
   "source": [
    "reduce(test,l)"
   ]
  },
  {
   "cell_type": "code",
   "execution_count": null,
   "id": "242a2688-2f0f-4c15-9b2d-df6c949896ab",
   "metadata": {},
   "outputs": [],
   "source": []
  },
  {
   "cell_type": "code",
   "execution_count": null,
   "id": "2c3132a1-8403-4c9d-8c9f-e7be07cbfb18",
   "metadata": {},
   "outputs": [],
   "source": []
  },
  {
   "cell_type": "code",
   "execution_count": null,
   "id": "5adde481-7d09-495a-9daf-c7666bbc43b9",
   "metadata": {},
   "outputs": [],
   "source": []
  }
 ],
 "metadata": {
  "kernelspec": {
   "display_name": "Python 3 (ipykernel)",
   "language": "python",
   "name": "python3"
  },
  "language_info": {
   "codemirror_mode": {
    "name": "ipython",
    "version": 3
   },
   "file_extension": ".py",
   "mimetype": "text/x-python",
   "name": "python",
   "nbconvert_exporter": "python",
   "pygments_lexer": "ipython3",
   "version": "3.10.8"
  }
 },
 "nbformat": 4,
 "nbformat_minor": 5
}
