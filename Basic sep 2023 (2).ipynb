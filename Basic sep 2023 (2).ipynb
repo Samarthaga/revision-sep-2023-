{
 "cells": [
  {
   "cell_type": "code",
   "execution_count": 23,
   "id": "7e6fc8ce-79da-4d10-8124-8a87d5776aa3",
   "metadata": {},
   "outputs": [
    {
     "name": "stdout",
     "output_type": "stream",
     "text": [
      "hello \n",
      "world\n"
     ]
    }
   ],
   "source": [
    "print('hello \\nworld')"
   ]
  },
  {
   "cell_type": "code",
   "execution_count": 4,
   "id": "c967be93-3241-476a-85d4-217036ddf15b",
   "metadata": {},
   "outputs": [],
   "source": [
    "a=10"
   ]
  },
  {
   "cell_type": "code",
   "execution_count": 5,
   "id": "41fc243b-be71-491f-ab6e-287dc16d67bb",
   "metadata": {},
   "outputs": [
    {
     "data": {
      "text/plain": [
       "10"
      ]
     },
     "execution_count": 5,
     "metadata": {},
     "output_type": "execute_result"
    }
   ],
   "source": [
    "a"
   ]
  },
  {
   "cell_type": "code",
   "execution_count": 6,
   "id": "22042152-9b4d-4ad3-bade-3853ab27eeda",
   "metadata": {},
   "outputs": [],
   "source": [
    "b=15"
   ]
  },
  {
   "cell_type": "code",
   "execution_count": 8,
   "id": "cdf650ea-862d-43a8-9dd1-f6d422691e35",
   "metadata": {},
   "outputs": [
    {
     "name": "stdout",
     "output_type": "stream",
     "text": [
      "25\n"
     ]
    }
   ],
   "source": [
    "c=a+b\n",
    "print(c)"
   ]
  },
  {
   "cell_type": "markdown",
   "id": "4e29e86e-ec71-4e8e-9f91-554d1100ee6f",
   "metadata": {},
   "source": [
    "##### Let Ganesh bhagwan be with me "
   ]
  },
  {
   "cell_type": "code",
   "execution_count": 9,
   "id": "ce06c990-b98b-4039-9337-caa599bd6175",
   "metadata": {},
   "outputs": [
    {
     "data": {
      "text/plain": [
       "2"
      ]
     },
     "execution_count": 9,
     "metadata": {},
     "output_type": "execute_result"
    }
   ],
   "source": [
    "1+1"
   ]
  },
  {
   "cell_type": "code",
   "execution_count": 19,
   "id": "f671b9bc-51dc-49f3-b03a-16c636d2383d",
   "metadata": {},
   "outputs": [
    {
     "data": {
      "text/plain": [
       "'\\nexample of multilinbe comments\\n\\n'"
      ]
     },
     "execution_count": 19,
     "metadata": {},
     "output_type": "execute_result"
    }
   ],
   "source": [
    "'''\n",
    "example of multilinbe comments\n",
    "'''\n"
   ]
  },
  {
   "cell_type": "code",
   "execution_count": 1,
   "id": "ddd8e5dc-8167-4492-8d29-ed503b4948f9",
   "metadata": {},
   "outputs": [
    {
     "name": "stdout",
     "output_type": "stream",
     "text": [
      "i am not done and will come back with my revision\n"
     ]
    }
   ],
   "source": [
    "print('i am not done and will come back with my revision')"
   ]
  },
  {
   "cell_type": "markdown",
   "id": "dfb4cfbd-4199-419b-8e5b-b81e059ddc97",
   "metadata": {},
   "source": [
    "## Numbers"
   ]
  },
  {
   "cell_type": "code",
   "execution_count": 2,
   "id": "c4b35b41-f1a5-4f9a-8e4d-e70df5a9a993",
   "metadata": {},
   "outputs": [
    {
     "data": {
      "text/plain": [
       "4"
      ]
     },
     "execution_count": 2,
     "metadata": {},
     "output_type": "execute_result"
    }
   ],
   "source": [
    "1+3"
   ]
  },
  {
   "cell_type": "code",
   "execution_count": 4,
   "id": "737ce8a5-b952-4fe7-b43a-88fe4353b3ba",
   "metadata": {},
   "outputs": [
    {
     "name": "stdout",
     "output_type": "stream",
     "text": [
      "4\n"
     ]
    }
   ],
   "source": [
    "print(1+3) # if we add print it works as output console "
   ]
  },
  {
   "cell_type": "code",
   "execution_count": 5,
   "id": "2080913a-53b3-4b75-8f6d-07aab8f6d986",
   "metadata": {},
   "outputs": [
    {
     "name": "stdout",
     "output_type": "stream",
     "text": [
      "-2\n"
     ]
    }
   ],
   "source": [
    "print (1-3)"
   ]
  },
  {
   "cell_type": "code",
   "execution_count": 11,
   "id": "5ec36fd0-594e-43a1-8a3e-6e1ad4551205",
   "metadata": {},
   "outputs": [
    {
     "name": "stdout",
     "output_type": "stream",
     "text": [
      "samarth\n",
      "\n",
      "...........\n",
      "\n",
      "pramod\n"
     ]
    }
   ],
   "source": [
    "name =(\"samarth\")\n",
    "print(name)\n",
    "name =('pramod')\n",
    "print('\\n...........\\n')\n",
    "print(name)"
   ]
  },
  {
   "cell_type": "code",
   "execution_count": 12,
   "id": "1ac9065a-05e4-422c-b37f-2c073bad6f21",
   "metadata": {},
   "outputs": [],
   "source": [
    "dec_num=2.5"
   ]
  },
  {
   "cell_type": "code",
   "execution_count": 13,
   "id": "324c28e6-898c-4263-a92f-45feadb7746d",
   "metadata": {},
   "outputs": [
    {
     "data": {
      "text/plain": [
       "2.5"
      ]
     },
     "execution_count": 13,
     "metadata": {},
     "output_type": "execute_result"
    }
   ],
   "source": [
    "dec_num"
   ]
  },
  {
   "cell_type": "code",
   "execution_count": 15,
   "id": "17fa7649-d682-4f89-8735-5bc67825fe39",
   "metadata": {},
   "outputs": [
    {
     "data": {
      "text/plain": [
       "float"
      ]
     },
     "execution_count": 15,
     "metadata": {},
     "output_type": "execute_result"
    }
   ],
   "source": [
    "type(dec_num)"
   ]
  },
  {
   "cell_type": "code",
   "execution_count": 2,
   "id": "e5da3a2e-479d-4046-a7b1-a78f72c29eec",
   "metadata": {},
   "outputs": [
    {
     "name": "stdout",
     "output_type": "stream",
     "text": [
      "kotak\n",
      "kotak\n"
     ]
    }
   ],
   "source": [
    "company = 'kotak'\n",
    "Company = \"Kotak\"\n",
    "print(company)\n",
    "print(company)"
   ]
  },
  {
   "cell_type": "code",
   "execution_count": 6,
   "id": "089364aa-eef3-4777-9861-d63d3e61a24d",
   "metadata": {},
   "outputs": [
    {
     "data": {
      "text/plain": [
       "bool"
      ]
     },
     "execution_count": 6,
     "metadata": {},
     "output_type": "execute_result"
    }
   ],
   "source": [
    "type(not False )"
   ]
  },
  {
   "cell_type": "code",
   "execution_count": 7,
   "id": "30046178-e369-478c-9907-bbf219132b5f",
   "metadata": {},
   "outputs": [
    {
     "data": {
      "text/plain": [
       "False"
      ]
     },
     "execution_count": 7,
     "metadata": {},
     "output_type": "execute_result"
    }
   ],
   "source": [
    "bool(0)"
   ]
  },
  {
   "cell_type": "code",
   "execution_count": 8,
   "id": "de708d27-cc4f-4fd1-aa2a-8f9a8f8c2705",
   "metadata": {},
   "outputs": [
    {
     "data": {
      "text/plain": [
       "True"
      ]
     },
     "execution_count": 8,
     "metadata": {},
     "output_type": "execute_result"
    }
   ],
   "source": [
    "bool(1)"
   ]
  },
  {
   "cell_type": "code",
   "execution_count": 9,
   "id": "a43cfc0e-8b1b-4a56-b7b4-5c93b76aa82e",
   "metadata": {},
   "outputs": [
    {
     "data": {
      "text/plain": [
       "True"
      ]
     },
     "execution_count": 9,
     "metadata": {},
     "output_type": "execute_result"
    }
   ],
   "source": [
    "bool(2)"
   ]
  },
  {
   "cell_type": "code",
   "execution_count": 10,
   "id": "f63b8c98-aa75-4b0c-a5f1-eb26a300cb2d",
   "metadata": {},
   "outputs": [
    {
     "data": {
      "text/plain": [
       "True"
      ]
     },
     "execution_count": 10,
     "metadata": {},
     "output_type": "execute_result"
    }
   ],
   "source": [
    "bool(-1)"
   ]
  },
  {
   "cell_type": "code",
   "execution_count": 15,
   "id": "a11c25a1-8cb3-4712-a6a2-d26db3fd1f6b",
   "metadata": {},
   "outputs": [
    {
     "name": "stdout",
     "output_type": "stream",
     "text": [
      "True 1\n"
     ]
    }
   ],
   "source": [
    "# typecasting\n",
    "a=1\n",
    "if (bool(a))== True:\n",
    "    print('True',a)"
   ]
  },
  {
   "cell_type": "code",
   "execution_count": 17,
   "id": "49a63bfb-0798-470e-b300-1defd9180a76",
   "metadata": {},
   "outputs": [
    {
     "data": {
      "text/plain": [
       "str"
      ]
     },
     "execution_count": 17,
     "metadata": {},
     "output_type": "execute_result"
    }
   ],
   "source": [
    "type(str(23))"
   ]
  },
  {
   "cell_type": "code",
   "execution_count": 18,
   "id": "76755349-07a6-4121-992c-cfbdedd62b25",
   "metadata": {},
   "outputs": [
    {
     "data": {
      "text/plain": [
       "str"
      ]
     },
     "execution_count": 18,
     "metadata": {},
     "output_type": "execute_result"
    }
   ],
   "source": [
    "type(str('23'))"
   ]
  },
  {
   "cell_type": "code",
   "execution_count": 19,
   "id": "dff505de-1411-41c0-b0b4-dca11fbcd997",
   "metadata": {},
   "outputs": [
    {
     "data": {
      "text/plain": [
       "23"
      ]
     },
     "execution_count": 19,
     "metadata": {},
     "output_type": "execute_result"
    }
   ],
   "source": [
    "int('23')"
   ]
  },
  {
   "cell_type": "code",
   "execution_count": 20,
   "id": "b4ff225e-3f72-4202-9f38-785401caf02d",
   "metadata": {},
   "outputs": [
    {
     "data": {
      "text/plain": [
       "int"
      ]
     },
     "execution_count": 20,
     "metadata": {},
     "output_type": "execute_result"
    }
   ],
   "source": [
    "type(int('23'))"
   ]
  },
  {
   "cell_type": "markdown",
   "id": "da27eeb5-426a-4678-95fd-8d88757236b3",
   "metadata": {},
   "source": [
    "## Dynamic typing"
   ]
  },
  {
   "cell_type": "code",
   "execution_count": 21,
   "id": "3833db72-80ea-4108-b0b8-048f0a38f192",
   "metadata": {},
   "outputs": [
    {
     "data": {
      "text/plain": [
       "int"
      ]
     },
     "execution_count": 21,
     "metadata": {},
     "output_type": "execute_result"
    }
   ],
   "source": [
    "a=12\n",
    "type(a)"
   ]
  },
  {
   "cell_type": "code",
   "execution_count": 25,
   "id": "286232a2-0df2-470e-bad2-1a3118a78f0a",
   "metadata": {},
   "outputs": [
    {
     "name": "stdout",
     "output_type": "stream",
     "text": [
      "<class 'str'>\n",
      "this is str type : samarth\n"
     ]
    }
   ],
   "source": [
    "a='samarth'\n",
    "print(type(a))\n",
    "print('this is str type :',a)"
   ]
  },
  {
   "cell_type": "code",
   "execution_count": 26,
   "id": "90489ae2-7350-42b9-8efd-1e918abd11dd",
   "metadata": {},
   "outputs": [
    {
     "data": {
      "text/plain": [
       "1"
      ]
     },
     "execution_count": 26,
     "metadata": {},
     "output_type": "execute_result"
    }
   ],
   "source": [
    "int(1.54)"
   ]
  },
  {
   "cell_type": "code",
   "execution_count": 29,
   "id": "4346cc43-0393-4f42-bcdc-6bb58718e507",
   "metadata": {},
   "outputs": [
    {
     "data": {
      "text/plain": [
       "1.5"
      ]
     },
     "execution_count": 29,
     "metadata": {},
     "output_type": "execute_result"
    }
   ],
   "source": [
    "float(1.5)"
   ]
  },
  {
   "cell_type": "code",
   "execution_count": 1,
   "id": "cb36fbe9-e289-414b-88ec-63cb33a16de9",
   "metadata": {},
   "outputs": [
    {
     "data": {
      "text/plain": [
       "'11'"
      ]
     },
     "execution_count": 1,
     "metadata": {},
     "output_type": "execute_result"
    }
   ],
   "source": [
    "'1'+'1'"
   ]
  },
  {
   "cell_type": "code",
   "execution_count": 2,
   "id": "a64b5acd-9583-45a7-aa3f-fa3297b2fb0e",
   "metadata": {},
   "outputs": [],
   "source": [
    "a=10"
   ]
  },
  {
   "cell_type": "code",
   "execution_count": 5,
   "id": "d2714c02-131e-41df-bd92-0daf6e705b56",
   "metadata": {},
   "outputs": [
    {
     "name": "stdout",
     "output_type": "stream",
     "text": [
      "<class 'int'>\n"
     ]
    }
   ],
   "source": [
    "print(type(a))"
   ]
  },
  {
   "cell_type": "markdown",
   "id": "4bc9c5d0-4dec-450c-8838-173d57b7afd0",
   "metadata": {},
   "source": [
    "#### dynamic typing where datatype is not req. to declare the data type"
   ]
  },
  {
   "cell_type": "code",
   "execution_count": 8,
   "id": "8dde4993-af88-4882-bfbc-7d9375cf9a1f",
   "metadata": {},
   "outputs": [
    {
     "data": {
      "text/plain": [
       "str"
      ]
     },
     "execution_count": 8,
     "metadata": {},
     "output_type": "execute_result"
    }
   ],
   "source": [
    "a='b'\n",
    "type(a)"
   ]
  },
  {
   "cell_type": "code",
   "execution_count": 9,
   "id": "c3a8f638-2b67-4052-b215-ba06aba1cfa7",
   "metadata": {},
   "outputs": [
    {
     "data": {
      "text/plain": [
       "2"
      ]
     },
     "execution_count": 9,
     "metadata": {},
     "output_type": "execute_result"
    }
   ],
   "source": [
    "int('1')+ int('1')"
   ]
  },
  {
   "cell_type": "code",
   "execution_count": 11,
   "id": "f2905399-3378-40df-94eb-3302953f55c1",
   "metadata": {},
   "outputs": [
    {
     "name": "stdout",
     "output_type": "stream",
     "text": [
      "hello\n",
      "<class 'int'>\n"
     ]
    }
   ],
   "source": [
    "print('hello')\n",
    "print(type(123))"
   ]
  },
  {
   "cell_type": "code",
   "execution_count": 12,
   "id": "77edecf8-513c-43a4-ab0a-628c690346d4",
   "metadata": {},
   "outputs": [
    {
     "name": "stdout",
     "output_type": "stream",
     "text": [
      "my age is 28\n"
     ]
    }
   ],
   "source": [
    "age=28\n",
    "print('my age is',age)"
   ]
  },
  {
   "cell_type": "code",
   "execution_count": 14,
   "id": "e9b072f4-b587-4f31-8773-6ed454372f50",
   "metadata": {},
   "outputs": [
    {
     "name": "stdout",
     "output_type": "stream",
     "text": [
      "my age is :28\n"
     ]
    }
   ],
   "source": [
    "print(f'my age is :{age}') # f is used for formatting"
   ]
  },
  {
   "cell_type": "code",
   "execution_count": 16,
   "id": "d7ac7bf2-8a4a-4da8-86b4-aa9e7fd87ea9",
   "metadata": {},
   "outputs": [
    {
     "name": "stdout",
     "output_type": "stream",
     "text": [
      "my name is samarth and my age is 28\n"
     ]
    }
   ],
   "source": [
    "name ='samarth'\n",
    "age=28\n",
    "print('my name is {} and my age is {}'.format(name,age))"
   ]
  },
  {
   "cell_type": "code",
   "execution_count": 17,
   "id": "eeda78a7-90cf-4c6c-b029-39d3590b6f3c",
   "metadata": {},
   "outputs": [
    {
     "name": "stdout",
     "output_type": "stream",
     "text": [
      "my name is samarth and my age is 28\n"
     ]
    }
   ],
   "source": [
    "name ='samarth'\n",
    "age=28\n",
    "print('my name is {firstname} and my age is {firstage}'.format(firstname=name,firstage=age))"
   ]
  },
  {
   "cell_type": "code",
   "execution_count": 18,
   "id": "40543b2a-cdb3-4acb-b582-2cbee8152c41",
   "metadata": {},
   "outputs": [
    {
     "name": "stdout",
     "output_type": "stream",
     "text": [
      "my age is 28 and i have completed : my degree of BE with the name of samarth\n"
     ]
    }
   ],
   "source": [
    "name =('samarth')\n",
    "age=28\n",
    "degree='BE'\n",
    "print('my age is {myage} and i have completed : my degree of {mydegree} with the name of {myname}'.format(myage=age,mydegree=degree,myname=name))"
   ]
  },
  {
   "cell_type": "markdown",
   "id": "94be6051-71cf-43cb-99ca-811421e6239c",
   "metadata": {},
   "source": [
    "### Control flow \n",
    "#### Decesion making statement"
   ]
  },
  {
   "cell_type": "code",
   "execution_count": 29,
   "id": "9124f467-02b2-4042-b2eb-6b8950c72476",
   "metadata": {},
   "outputs": [
    {
     "name": "stdin",
     "output_type": "stream",
     "text": [
      "enter age 25\n"
     ]
    },
    {
     "name": "stdout",
     "output_type": "stream",
     "text": [
      "please vote\n"
     ]
    }
   ],
   "source": [
    "age =int(input('enter age'))\n",
    "\n",
    "if age>=18:\n",
    "    print('please vote')\n",
    "else:\n",
    "    print('cannot vote')"
   ]
  },
  {
   "cell_type": "code",
   "execution_count": 30,
   "id": "f39cb4f5-2d13-4e51-8080-b5c1a5105c76",
   "metadata": {},
   "outputs": [
    {
     "data": {
      "text/plain": [
       "int"
      ]
     },
     "execution_count": 30,
     "metadata": {},
     "output_type": "execute_result"
    }
   ],
   "source": [
    "type(age)"
   ]
  },
  {
   "cell_type": "code",
   "execution_count": 47,
   "id": "33c9360d-95aa-46e9-a077-41969d1e2736",
   "metadata": {},
   "outputs": [
    {
     "name": "stdin",
     "output_type": "stream",
     "text": [
      "Enter Age 28\n"
     ]
    },
    {
     "name": "stdout",
     "output_type": "stream",
     "text": [
      "same same\n",
      "you are young blood\n"
     ]
    }
   ],
   "source": [
    "age=int(input('Enter Age')) # typecasting is done as input is str as natural\n",
    "\n",
    "if age >=18 and age <=45:\n",
    "    if age==28:\n",
    "        print('same same')\n",
    "    print('you are young blood')\n",
    "elif age <18:\n",
    "    print('Bhai bada hoja')\n",
    "else:\n",
    "    print('bhai lag gye tere')"
   ]
  },
  {
   "cell_type": "code",
   "execution_count": 34,
   "id": "f4a851a7-d8dc-4fcc-9fce-f64644732340",
   "metadata": {},
   "outputs": [
    {
     "data": {
      "text/plain": [
       "True"
      ]
     },
     "execution_count": 34,
     "metadata": {},
     "output_type": "execute_result"
    }
   ],
   "source": [
    "22>=18"
   ]
  },
  {
   "cell_type": "code",
   "execution_count": 49,
   "id": "12d58241-9c89-4a87-b327-a07307449ade",
   "metadata": {},
   "outputs": [
    {
     "name": "stdin",
     "output_type": "stream",
     "text": [
      "Enter Amount 1000\n"
     ]
    },
    {
     "name": "stdout",
     "output_type": "stream",
     "text": [
      "30 % off : 700.0\n"
     ]
    }
   ],
   "source": [
    "product_price=int(input('Enter Amount'))\n",
    "\n",
    "if product_price > 1000:\n",
    "    print('20% off: {}'.format(product_price*0.80))\n",
    "else:\n",
    "    print('30 % off : {}'.format(product_price*0.70))"
   ]
  },
  {
   "cell_type": "code",
   "execution_count": 50,
   "id": "9454f105-3efd-4d1f-929f-64960f019447",
   "metadata": {},
   "outputs": [
    {
     "data": {
      "text/plain": [
       "int"
      ]
     },
     "execution_count": 50,
     "metadata": {},
     "output_type": "execute_result"
    }
   ],
   "source": [
    "type(product_price)"
   ]
  },
  {
   "cell_type": "code",
   "execution_count": 59,
   "id": "5a384ee8-424d-404d-980c-25147a599d7b",
   "metadata": {},
   "outputs": [
    {
     "name": "stdin",
     "output_type": "stream",
     "text": [
      "Enter Amount 5000\n"
     ]
    },
    {
     "name": "stdout",
     "output_type": "stream",
     "text": [
      "chai piyega\n",
      "20% off: 4000.0\n"
     ]
    }
   ],
   "source": [
    "product_price=int(input('Enter Amount'))\n",
    "\n",
    "if product_price >3000:\n",
    "    if product_price==4000:\n",
    "        print('Goa Jaa re')\n",
    "    elif product_price==4500:\n",
    "        print('Jaa na bhai')\n",
    "    elif product_price==5000:\n",
    "        print('chai piyega')\n",
    "    print('20% off: {}'.format(product_price*0.80))\n",
    "elif product_price>=2000 and product_price<=3000:\n",
    "    if product_price==2999:\n",
    "        print('congrats you get additional gift')\n",
    "    print('45 % off : {}'.format(product_price*0.65))\n",
    "else:\n",
    "    print('30 % off : {}'.format(product_price*0.70))"
   ]
  },
  {
   "cell_type": "code",
   "execution_count": 60,
   "id": "54bcdf65-8a0a-4509-8ea2-a5fec350c681",
   "metadata": {},
   "outputs": [
    {
     "name": "stdin",
     "output_type": "stream",
     "text": [
      "Enter the number 999\n"
     ]
    },
    {
     "name": "stdout",
     "output_type": "stream",
     "text": [
      "value is\n"
     ]
    }
   ],
   "source": [
    "# single statement\n",
    "val=int(input('Enter the number'))\n",
    "\n",
    "if (val<=999):print('value is')"
   ]
  },
  {
   "cell_type": "markdown",
   "id": "2a162cbb-8780-41b2-948e-b520a33e27bd",
   "metadata": {},
   "source": [
    "### Loops Staments \n",
    "#### While loop \n",
    "#### for loop\n",
    "#### nested loop\n",
    "#### loop control (break,continue,pass)"
   ]
  },
  {
   "cell_type": "code",
   "execution_count": 67,
   "id": "5bae6d49-f6a2-4cdb-b037-7b687245b310",
   "metadata": {},
   "outputs": [
    {
     "name": "stdout",
     "output_type": "stream",
     "text": [
      "26\n",
      "27\n",
      "28\n",
      "29\n",
      "30\n",
      "31\n",
      "32\n",
      "33\n",
      "34\n",
      "35\n",
      "36\n",
      "37\n",
      "38\n",
      "39\n",
      "40\n",
      "41\n",
      "42\n",
      "43\n",
      "44\n",
      "45\n",
      "46\n",
      "47\n",
      "48\n",
      "49\n",
      "50\n",
      "51\n",
      "52\n",
      "53\n",
      "54\n",
      "55\n",
      "56\n",
      "57\n",
      "58\n",
      "59\n",
      "60\n",
      "61\n",
      "its time to retire\n"
     ]
    }
   ],
   "source": [
    "# while loop \n",
    "\n",
    "joining_age=25\n",
    "while joining_age<=60:\n",
    "    joining_age=joining_age+1\n",
    "    print(joining_age)\n",
    "    if joining_age==61:\n",
    "        print('its time to retire')\n",
    "    "
   ]
  },
  {
   "cell_type": "code",
   "execution_count": 74,
   "id": "dab3fc8e-1abc-4e65-926f-765e20dc8640",
   "metadata": {},
   "outputs": [
    {
     "name": "stdout",
     "output_type": "stream",
     "text": [
      "0\n",
      "1\n",
      "2\n",
      "3\n",
      "4\n",
      "5\n",
      "6\n",
      "7\n",
      "8\n",
      "9\n",
      "10\n",
      "11\n",
      "12\n",
      "13\n",
      "14\n",
      "15\n",
      "16\n",
      "17\n",
      "18\n",
      "19\n",
      "20\n",
      "21\n",
      "22\n",
      "23\n",
      "24\n",
      "25\n",
      "26\n",
      "27\n",
      "28\n",
      "29\n",
      "30\n",
      "31\n",
      "32\n",
      "33\n",
      "34\n",
      "35\n",
      "36\n",
      "37\n",
      "38\n",
      "39\n",
      "40\n",
      "41\n",
      "42\n",
      "43\n",
      "44\n",
      "45\n",
      "46\n",
      "47\n",
      "48\n",
      "49\n",
      "50\n",
      "51\n",
      "52\n",
      "53\n",
      "54\n",
      "55\n",
      "56\n",
      "57\n",
      "58\n",
      "59\n",
      "60\n"
     ]
    }
   ],
   "source": [
    "bldg_age=0\n",
    "while bldg_age<=60:\n",
    "    print(bldg_age)\n",
    "    bldg_age=bldg_age+1"
   ]
  },
  {
   "cell_type": "code",
   "execution_count": 75,
   "id": "cb0661f2-f77d-4669-a713-14c463554cdb",
   "metadata": {},
   "outputs": [
    {
     "name": "stdout",
     "output_type": "stream",
     "text": [
      "26\n",
      "27\n",
      "28\n",
      "29\n",
      "30\n",
      "31\n",
      "32\n",
      "33\n",
      "34\n",
      "35\n",
      "36\n",
      "37\n",
      "38\n",
      "39\n",
      "40\n",
      "41\n",
      "42\n",
      "43\n",
      "44\n",
      "45\n",
      "46\n",
      "47\n",
      "48\n",
      "49\n",
      "50\n",
      "51\n",
      "52\n",
      "53\n",
      "54\n",
      "55\n",
      "56\n",
      "57\n",
      "58\n",
      "59\n",
      "60\n",
      "61\n",
      "its time time for retirement\n"
     ]
    }
   ],
   "source": [
    "joining_age=25\n",
    "while joining_age<=60:\n",
    "    joining_age=joining_age+1\n",
    "    print(joining_age)\n",
    "else:\n",
    "    print('its time time for retirement')"
   ]
  },
  {
   "cell_type": "code",
   "execution_count": 77,
   "id": "e6726f65-3670-4cfd-af47-b40f8502dc40",
   "metadata": {},
   "outputs": [
    {
     "name": "stdout",
     "output_type": "stream",
     "text": [
      "1000\n",
      "900\n",
      "800\n",
      "700\n",
      "600\n",
      "500\n",
      "400\n",
      "300\n",
      "200\n",
      "100\n",
      "please input money\n"
     ]
    }
   ],
   "source": [
    "total_amount=1000\n",
    "while total_amount!=0:\n",
    "    print(total_amount)\n",
    "    total_amount=total_amount-100\n",
    "else:\n",
    "    print('please input money')"
   ]
  },
  {
   "cell_type": "code",
   "execution_count": 81,
   "id": "c0a06dfa-1d92-4bb3-8862-e47318d60827",
   "metadata": {},
   "outputs": [
    {
     "name": "stdout",
     "output_type": "stream",
     "text": [
      "4500\n",
      "4000\n",
      "3500\n",
      "3000\n",
      "2500\n",
      "2000\n",
      "1500\n",
      "1000\n",
      "dont spend more\n"
     ]
    }
   ],
   "source": [
    "# while is an iteration \n",
    "\n",
    "wallet_money=5000\n",
    "while wallet_money!=1000:\n",
    "    wallet_money=wallet_money-500\n",
    "    print(wallet_money)\n",
    "else:\n",
    "    print('dont spend more')\n",
    "    "
   ]
  },
  {
   "cell_type": "markdown",
   "id": "a66437b3-5886-41bc-a7b8-173329409c3d",
   "metadata": {},
   "source": [
    "# For Loop"
   ]
  },
  {
   "cell_type": "code",
   "execution_count": 82,
   "id": "1d6e9dbc-c725-4ffd-925e-9085ee46cc6d",
   "metadata": {},
   "outputs": [],
   "source": [
    "lst=['samarth',1,2,3,4,'apple','banana']"
   ]
  },
  {
   "cell_type": "code",
   "execution_count": 83,
   "id": "ad5ee0e1-ad7f-4fc0-928a-96b52a38f021",
   "metadata": {},
   "outputs": [
    {
     "data": {
      "text/plain": [
       "['samarth', 1, 2, 3, 4, 'apple', 'banana']"
      ]
     },
     "execution_count": 83,
     "metadata": {},
     "output_type": "execute_result"
    }
   ],
   "source": [
    "lst"
   ]
  },
  {
   "cell_type": "code",
   "execution_count": 89,
   "id": "376d0979-848d-44b5-ab62-49c7838a7bae",
   "metadata": {},
   "outputs": [
    {
     "name": "stdout",
     "output_type": "stream",
     "text": [
      "samarth\n",
      "1\n",
      "2\n",
      "3\n",
      "4\n",
      "apple\n",
      "banana\n"
     ]
    }
   ],
   "source": [
    "for i in lst:\n",
    "    print(i)"
   ]
  },
  {
   "cell_type": "code",
   "execution_count": 88,
   "id": "96dfba27-82e2-4537-ab13-3dd9a6c2ef72",
   "metadata": {},
   "outputs": [
    {
     "data": {
      "text/plain": [
       "'samarth'"
      ]
     },
     "execution_count": 88,
     "metadata": {},
     "output_type": "execute_result"
    }
   ],
   "source": [
    "lst[0]"
   ]
  },
  {
   "cell_type": "code",
   "execution_count": 94,
   "id": "5206d3bd-3807-4cae-ab6f-24f5a61b804e",
   "metadata": {},
   "outputs": [
    {
     "name": "stdout",
     "output_type": "stream",
     "text": [
      "apple\n",
      "banana\n",
      "cherry\n"
     ]
    }
   ],
   "source": [
    "fruits=['apple','banana','cherry']\n",
    "for i in fruits:\n",
    "    print(i)\n",
    "  "
   ]
  },
  {
   "cell_type": "code",
   "execution_count": 96,
   "id": "71eb8d6d-028a-4127-be1b-b84d21d4b6a0",
   "metadata": {},
   "outputs": [
    {
     "name": "stdout",
     "output_type": "stream",
     "text": [
      "m\n",
      "a\n",
      "n\n",
      "g\n",
      "o\n"
     ]
    }
   ],
   "source": [
    "fruit='mango'\n",
    "for x in fruit:\n",
    "    print (x)"
   ]
  },
  {
   "cell_type": "code",
   "execution_count": 100,
   "id": "59b193b2-7ff3-4a1a-a813-955ed673b74b",
   "metadata": {},
   "outputs": [
    {
     "data": {
      "text/plain": [
       "'ango'"
      ]
     },
     "execution_count": 100,
     "metadata": {},
     "output_type": "execute_result"
    }
   ],
   "source": [
    "fruit[1:5]"
   ]
  },
  {
   "cell_type": "markdown",
   "id": "8d5dcc6d-f0b6-43d1-80c5-62e19639a6e3",
   "metadata": {},
   "source": [
    "### Nested Loops"
   ]
  },
  {
   "cell_type": "code",
   "execution_count": 106,
   "id": "7e79bcd7-d45e-4960-a294-63ab2c9a4356",
   "metadata": {},
   "outputs": [
    {
     "name": "stdout",
     "output_type": "stream",
     "text": [
      "1\n",
      "3\n",
      "5\n",
      "7\n",
      "9\n"
     ]
    }
   ],
   "source": [
    "n=7\n",
    "for i in range(1,10,2):\n",
    "    print(i)"
   ]
  },
  {
   "cell_type": "code",
   "execution_count": 110,
   "id": "b7f1987b-ed07-4da0-9dba-a6f4f9278be9",
   "metadata": {},
   "outputs": [
    {
     "name": "stdout",
     "output_type": "stream",
     "text": [
      "****************************"
     ]
    }
   ],
   "source": [
    "n=7\n",
    "for i in range (0,n):\n",
    "    for j in range(0,i+1):\n",
    "        print('*',end='')"
   ]
  },
  {
   "cell_type": "code",
   "execution_count": 120,
   "id": "37a17be2-5b70-48af-80e9-54c44a2aa995",
   "metadata": {},
   "outputs": [
    {
     "name": "stdout",
     "output_type": "stream",
     "text": [
      "\n",
      "**\n",
      "****\n",
      "******\n",
      "********\n",
      "**********\n",
      "************\n"
     ]
    }
   ],
   "source": [
    "n=7\n",
    "for i in range (0,n):\n",
    "    for j in range(0,i*2):\n",
    "        print('*',end='')\n",
    "    print('\\r')"
   ]
  },
  {
   "cell_type": "code",
   "execution_count": 7,
   "id": "031633b5-c495-4e9f-9dcb-403ae1e106b3",
   "metadata": {},
   "outputs": [
    {
     "name": "stdout",
     "output_type": "stream",
     "text": [
      "the fruit is apple\n",
      "apple\n",
      "banana\n",
      "cherry\n",
      "papaya\n",
      "Mango\n"
     ]
    }
   ],
   "source": [
    "## loop control \n",
    "### Break and continue \n",
    "fruits=['apple','banana','cherry','papaya','Mango']\n",
    "for i in fruits:\n",
    "    if i=='apple':\n",
    "        print('the fruit is apple')\n",
    "        pass\n",
    "    print(i)\n"
   ]
  },
  {
   "cell_type": "code",
   "execution_count": 6,
   "id": "680c0b30-450c-40f6-86ca-f3757ddaa15f",
   "metadata": {},
   "outputs": [
    {
     "name": "stdout",
     "output_type": "stream",
     "text": [
      "a \n",
      "\n",
      "p \n",
      "\n",
      "p \n",
      "\n",
      "l \n",
      "\n",
      "e \n",
      "\n",
      "b \n",
      "\n",
      "a \n",
      "\n",
      "n \n",
      "\n",
      "a \n",
      "\n",
      "n \n",
      "\n",
      "a \n",
      "\n",
      "c \n",
      "\n",
      "h \n",
      "\n",
      "e \n",
      "\n",
      "r \n",
      "\n",
      "r \n",
      "\n",
      "y \n",
      "\n",
      "p \n",
      "\n",
      "a \n",
      "\n",
      "p \n",
      "\n",
      "a \n",
      "\n",
      "y \n",
      "\n",
      "a \n",
      "\n",
      "M \n",
      "\n",
      "a \n",
      "\n",
      "n \n",
      "\n",
      "g \n",
      "\n",
      "o \n",
      "\n"
     ]
    }
   ],
   "source": [
    "fruits=['apple','banana','cherry','papaya','Mango']\n",
    "for i in fruits:\n",
    "    for j in i:\n",
    "        print(j,'\\n')"
   ]
  },
  {
   "cell_type": "code",
   "execution_count": 8,
   "id": "baa42f03-3607-4534-b1a5-dff48a529079",
   "metadata": {},
   "outputs": [
    {
     "name": "stdout",
     "output_type": "stream",
     "text": [
      "the fruit is apple\n",
      "banana\n",
      "cherry\n",
      "papaya\n",
      "Mango\n"
     ]
    }
   ],
   "source": [
    "fruits=['apple','banana','cherry','papaya','Mango']\n",
    "for i in fruits:\n",
    "    if i=='apple':\n",
    "        print('the fruit is apple')\n",
    "        continue\n",
    "    print(i)"
   ]
  },
  {
   "cell_type": "code",
   "execution_count": null,
   "id": "b4105c44-0c7e-4e3f-b60c-2776dbc9f838",
   "metadata": {},
   "outputs": [],
   "source": []
  },
  {
   "cell_type": "code",
   "execution_count": null,
   "id": "1c6b882f-f716-4afa-916d-81dd9c5bdd55",
   "metadata": {},
   "outputs": [],
   "source": []
  },
  {
   "cell_type": "code",
   "execution_count": null,
   "id": "4f3c237a-aa1a-40de-b085-6e28d83705ee",
   "metadata": {},
   "outputs": [],
   "source": []
  },
  {
   "cell_type": "code",
   "execution_count": null,
   "id": "54834445-0922-4fea-beeb-af398f753065",
   "metadata": {},
   "outputs": [],
   "source": []
  },
  {
   "cell_type": "code",
   "execution_count": null,
   "id": "095facea-f8f8-4349-8127-486e7ab9e12e",
   "metadata": {},
   "outputs": [],
   "source": []
  },
  {
   "cell_type": "code",
   "execution_count": null,
   "id": "b62f492e-7120-4c3f-8d9a-9b80c47257f1",
   "metadata": {},
   "outputs": [],
   "source": []
  },
  {
   "cell_type": "code",
   "execution_count": null,
   "id": "afa8fbac-47a2-4181-8b7c-4e5e6c6deed0",
   "metadata": {},
   "outputs": [],
   "source": []
  },
  {
   "cell_type": "code",
   "execution_count": null,
   "id": "6648db5b-e395-42b3-8782-efdfab2731fa",
   "metadata": {},
   "outputs": [],
   "source": []
  },
  {
   "cell_type": "code",
   "execution_count": null,
   "id": "f2902b88-977c-4f86-897f-846b4eae993a",
   "metadata": {},
   "outputs": [],
   "source": []
  },
  {
   "cell_type": "code",
   "execution_count": null,
   "id": "b656f0e0-4ef3-415d-b882-86c56c18fa5a",
   "metadata": {},
   "outputs": [],
   "source": []
  },
  {
   "cell_type": "code",
   "execution_count": null,
   "id": "e2f74f61-3c6c-4710-83f1-81bba8519e22",
   "metadata": {},
   "outputs": [],
   "source": []
  },
  {
   "cell_type": "code",
   "execution_count": null,
   "id": "00f08aec-2171-4b4e-ae46-d37d01a1aba1",
   "metadata": {},
   "outputs": [],
   "source": []
  },
  {
   "cell_type": "code",
   "execution_count": null,
   "id": "e7601e84-bd26-42b7-a9cb-4c58e3b2b2ea",
   "metadata": {},
   "outputs": [],
   "source": []
  },
  {
   "cell_type": "code",
   "execution_count": null,
   "id": "4749abb2-27a0-4828-978b-cd0669158060",
   "metadata": {},
   "outputs": [],
   "source": []
  }
 ],
 "metadata": {
  "kernelspec": {
   "display_name": "Python 3 (ipykernel)",
   "language": "python",
   "name": "python3"
  },
  "language_info": {
   "codemirror_mode": {
    "name": "ipython",
    "version": 3
   },
   "file_extension": ".py",
   "mimetype": "text/x-python",
   "name": "python",
   "nbconvert_exporter": "python",
   "pygments_lexer": "ipython3",
   "version": "3.10.8"
  }
 },
 "nbformat": 4,
 "nbformat_minor": 5
}
