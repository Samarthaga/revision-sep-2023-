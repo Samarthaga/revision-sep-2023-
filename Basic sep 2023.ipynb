{
 "cells": [
  {
   "cell_type": "code",
   "execution_count": 23,
   "id": "7e6fc8ce-79da-4d10-8124-8a87d5776aa3",
   "metadata": {},
   "outputs": [
    {
     "name": "stdout",
     "output_type": "stream",
     "text": [
      "hello \n",
      "world\n"
     ]
    }
   ],
   "source": [
    "print('hello \\nworld')"
   ]
  },
  {
   "cell_type": "code",
   "execution_count": 4,
   "id": "c967be93-3241-476a-85d4-217036ddf15b",
   "metadata": {},
   "outputs": [],
   "source": [
    "a=10"
   ]
  },
  {
   "cell_type": "code",
   "execution_count": 5,
   "id": "41fc243b-be71-491f-ab6e-287dc16d67bb",
   "metadata": {},
   "outputs": [
    {
     "data": {
      "text/plain": [
       "10"
      ]
     },
     "execution_count": 5,
     "metadata": {},
     "output_type": "execute_result"
    }
   ],
   "source": [
    "a"
   ]
  },
  {
   "cell_type": "code",
   "execution_count": 6,
   "id": "22042152-9b4d-4ad3-bade-3853ab27eeda",
   "metadata": {},
   "outputs": [],
   "source": [
    "b=15"
   ]
  },
  {
   "cell_type": "code",
   "execution_count": 8,
   "id": "cdf650ea-862d-43a8-9dd1-f6d422691e35",
   "metadata": {},
   "outputs": [
    {
     "name": "stdout",
     "output_type": "stream",
     "text": [
      "25\n"
     ]
    }
   ],
   "source": [
    "c=a+b\n",
    "print(c)"
   ]
  },
  {
   "cell_type": "markdown",
   "id": "4e29e86e-ec71-4e8e-9f91-554d1100ee6f",
   "metadata": {},
   "source": [
    "##### Let Ganesh bhagwan be with me "
   ]
  },
  {
   "cell_type": "code",
   "execution_count": 9,
   "id": "ce06c990-b98b-4039-9337-caa599bd6175",
   "metadata": {},
   "outputs": [
    {
     "data": {
      "text/plain": [
       "2"
      ]
     },
     "execution_count": 9,
     "metadata": {},
     "output_type": "execute_result"
    }
   ],
   "source": [
    "1+1"
   ]
  },
  {
   "cell_type": "code",
   "execution_count": 19,
   "id": "f671b9bc-51dc-49f3-b03a-16c636d2383d",
   "metadata": {},
   "outputs": [
    {
     "data": {
      "text/plain": [
       "'\\nexample of multilinbe comments\\n\\n'"
      ]
     },
     "execution_count": 19,
     "metadata": {},
     "output_type": "execute_result"
    }
   ],
   "source": [
    "'''\n",
    "example of multilinbe comments\n",
    "'''\n"
   ]
  },
  {
   "cell_type": "code",
   "execution_count": 1,
   "id": "ddd8e5dc-8167-4492-8d29-ed503b4948f9",
   "metadata": {},
   "outputs": [
    {
     "name": "stdout",
     "output_type": "stream",
     "text": [
      "i am not done and will come back with my revision\n"
     ]
    }
   ],
   "source": [
    "print('i am not done and will come back with my revision')"
   ]
  },
  {
   "cell_type": "markdown",
   "id": "dfb4cfbd-4199-419b-8e5b-b81e059ddc97",
   "metadata": {},
   "source": [
    "## Numbers"
   ]
  },
  {
   "cell_type": "code",
   "execution_count": 2,
   "id": "c4b35b41-f1a5-4f9a-8e4d-e70df5a9a993",
   "metadata": {},
   "outputs": [
    {
     "data": {
      "text/plain": [
       "4"
      ]
     },
     "execution_count": 2,
     "metadata": {},
     "output_type": "execute_result"
    }
   ],
   "source": [
    "1+3"
   ]
  },
  {
   "cell_type": "code",
   "execution_count": 4,
   "id": "737ce8a5-b952-4fe7-b43a-88fe4353b3ba",
   "metadata": {},
   "outputs": [
    {
     "name": "stdout",
     "output_type": "stream",
     "text": [
      "4\n"
     ]
    }
   ],
   "source": [
    "print(1+3) # if we add print it works as output console "
   ]
  },
  {
   "cell_type": "code",
   "execution_count": 5,
   "id": "2080913a-53b3-4b75-8f6d-07aab8f6d986",
   "metadata": {},
   "outputs": [
    {
     "name": "stdout",
     "output_type": "stream",
     "text": [
      "-2\n"
     ]
    }
   ],
   "source": [
    "print (1-3)"
   ]
  },
  {
   "cell_type": "code",
   "execution_count": 11,
   "id": "5ec36fd0-594e-43a1-8a3e-6e1ad4551205",
   "metadata": {},
   "outputs": [
    {
     "name": "stdout",
     "output_type": "stream",
     "text": [
      "samarth\n",
      "\n",
      "...........\n",
      "\n",
      "pramod\n"
     ]
    }
   ],
   "source": [
    "name =(\"samarth\")\n",
    "print(name)\n",
    "name =('pramod')\n",
    "print('\\n...........\\n')\n",
    "print(name)"
   ]
  },
  {
   "cell_type": "code",
   "execution_count": 12,
   "id": "1ac9065a-05e4-422c-b37f-2c073bad6f21",
   "metadata": {},
   "outputs": [],
   "source": [
    "dec_num=2.5"
   ]
  },
  {
   "cell_type": "code",
   "execution_count": 13,
   "id": "324c28e6-898c-4263-a92f-45feadb7746d",
   "metadata": {},
   "outputs": [
    {
     "data": {
      "text/plain": [
       "2.5"
      ]
     },
     "execution_count": 13,
     "metadata": {},
     "output_type": "execute_result"
    }
   ],
   "source": [
    "dec_num"
   ]
  },
  {
   "cell_type": "code",
   "execution_count": 15,
   "id": "17fa7649-d682-4f89-8735-5bc67825fe39",
   "metadata": {},
   "outputs": [
    {
     "data": {
      "text/plain": [
       "float"
      ]
     },
     "execution_count": 15,
     "metadata": {},
     "output_type": "execute_result"
    }
   ],
   "source": [
    "type(dec_num)"
   ]
  },
  {
   "cell_type": "code",
   "execution_count": 2,
   "id": "e5da3a2e-479d-4046-a7b1-a78f72c29eec",
   "metadata": {},
   "outputs": [
    {
     "name": "stdout",
     "output_type": "stream",
     "text": [
      "kotak\n",
      "kotak\n"
     ]
    }
   ],
   "source": [
    "company = 'kotak'\n",
    "Company = \"Kotak\"\n",
    "print(company)\n",
    "print(company)"
   ]
  },
  {
   "cell_type": "code",
   "execution_count": 6,
   "id": "089364aa-eef3-4777-9861-d63d3e61a24d",
   "metadata": {},
   "outputs": [
    {
     "data": {
      "text/plain": [
       "bool"
      ]
     },
     "execution_count": 6,
     "metadata": {},
     "output_type": "execute_result"
    }
   ],
   "source": [
    "type(not False )"
   ]
  },
  {
   "cell_type": "code",
   "execution_count": 7,
   "id": "30046178-e369-478c-9907-bbf219132b5f",
   "metadata": {},
   "outputs": [
    {
     "data": {
      "text/plain": [
       "False"
      ]
     },
     "execution_count": 7,
     "metadata": {},
     "output_type": "execute_result"
    }
   ],
   "source": [
    "bool(0)"
   ]
  },
  {
   "cell_type": "code",
   "execution_count": 8,
   "id": "de708d27-cc4f-4fd1-aa2a-8f9a8f8c2705",
   "metadata": {},
   "outputs": [
    {
     "data": {
      "text/plain": [
       "True"
      ]
     },
     "execution_count": 8,
     "metadata": {},
     "output_type": "execute_result"
    }
   ],
   "source": [
    "bool(1)"
   ]
  },
  {
   "cell_type": "code",
   "execution_count": 9,
   "id": "a43cfc0e-8b1b-4a56-b7b4-5c93b76aa82e",
   "metadata": {},
   "outputs": [
    {
     "data": {
      "text/plain": [
       "True"
      ]
     },
     "execution_count": 9,
     "metadata": {},
     "output_type": "execute_result"
    }
   ],
   "source": [
    "bool(2)"
   ]
  },
  {
   "cell_type": "code",
   "execution_count": 10,
   "id": "f63b8c98-aa75-4b0c-a5f1-eb26a300cb2d",
   "metadata": {},
   "outputs": [
    {
     "data": {
      "text/plain": [
       "True"
      ]
     },
     "execution_count": 10,
     "metadata": {},
     "output_type": "execute_result"
    }
   ],
   "source": [
    "bool(-1)"
   ]
  },
  {
   "cell_type": "code",
   "execution_count": 15,
   "id": "a11c25a1-8cb3-4712-a6a2-d26db3fd1f6b",
   "metadata": {},
   "outputs": [
    {
     "name": "stdout",
     "output_type": "stream",
     "text": [
      "True 1\n"
     ]
    }
   ],
   "source": [
    "# typecasting\n",
    "a=1\n",
    "if (bool(a))== True:\n",
    "    print('True',a)"
   ]
  },
  {
   "cell_type": "code",
   "execution_count": 17,
   "id": "49a63bfb-0798-470e-b300-1defd9180a76",
   "metadata": {},
   "outputs": [
    {
     "data": {
      "text/plain": [
       "str"
      ]
     },
     "execution_count": 17,
     "metadata": {},
     "output_type": "execute_result"
    }
   ],
   "source": [
    "type(str(23))"
   ]
  },
  {
   "cell_type": "code",
   "execution_count": 18,
   "id": "76755349-07a6-4121-992c-cfbdedd62b25",
   "metadata": {},
   "outputs": [
    {
     "data": {
      "text/plain": [
       "str"
      ]
     },
     "execution_count": 18,
     "metadata": {},
     "output_type": "execute_result"
    }
   ],
   "source": [
    "type(str('23'))"
   ]
  },
  {
   "cell_type": "code",
   "execution_count": 19,
   "id": "dff505de-1411-41c0-b0b4-dca11fbcd997",
   "metadata": {},
   "outputs": [
    {
     "data": {
      "text/plain": [
       "23"
      ]
     },
     "execution_count": 19,
     "metadata": {},
     "output_type": "execute_result"
    }
   ],
   "source": [
    "int('23')"
   ]
  },
  {
   "cell_type": "code",
   "execution_count": 20,
   "id": "b4ff225e-3f72-4202-9f38-785401caf02d",
   "metadata": {},
   "outputs": [
    {
     "data": {
      "text/plain": [
       "int"
      ]
     },
     "execution_count": 20,
     "metadata": {},
     "output_type": "execute_result"
    }
   ],
   "source": [
    "type(int('23'))"
   ]
  },
  {
   "cell_type": "markdown",
   "id": "da27eeb5-426a-4678-95fd-8d88757236b3",
   "metadata": {},
   "source": [
    "## Dynamic typing"
   ]
  },
  {
   "cell_type": "code",
   "execution_count": 21,
   "id": "3833db72-80ea-4108-b0b8-048f0a38f192",
   "metadata": {},
   "outputs": [
    {
     "data": {
      "text/plain": [
       "int"
      ]
     },
     "execution_count": 21,
     "metadata": {},
     "output_type": "execute_result"
    }
   ],
   "source": [
    "a=12\n",
    "type(a)"
   ]
  },
  {
   "cell_type": "code",
   "execution_count": 25,
   "id": "286232a2-0df2-470e-bad2-1a3118a78f0a",
   "metadata": {},
   "outputs": [
    {
     "name": "stdout",
     "output_type": "stream",
     "text": [
      "<class 'str'>\n",
      "this is str type : samarth\n"
     ]
    }
   ],
   "source": [
    "a='samarth'\n",
    "print(type(a))\n",
    "print('this is str type :',a)"
   ]
  },
  {
   "cell_type": "code",
   "execution_count": 26,
   "id": "90489ae2-7350-42b9-8efd-1e918abd11dd",
   "metadata": {},
   "outputs": [
    {
     "data": {
      "text/plain": [
       "1"
      ]
     },
     "execution_count": 26,
     "metadata": {},
     "output_type": "execute_result"
    }
   ],
   "source": [
    "int(1.54)"
   ]
  },
  {
   "cell_type": "code",
   "execution_count": 29,
   "id": "4346cc43-0393-4f42-bcdc-6bb58718e507",
   "metadata": {},
   "outputs": [
    {
     "data": {
      "text/plain": [
       "1.5"
      ]
     },
     "execution_count": 29,
     "metadata": {},
     "output_type": "execute_result"
    }
   ],
   "source": [
    "float(1.5)"
   ]
  },
  {
   "cell_type": "code",
   "execution_count": 30,
   "id": "cb36fbe9-e289-414b-88ec-63cb33a16de9",
   "metadata": {},
   "outputs": [
    {
     "data": {
      "text/plain": [
       "'11'"
      ]
     },
     "execution_count": 30,
     "metadata": {},
     "output_type": "execute_result"
    }
   ],
   "source": [
    "'1'+'1'"
   ]
  },
  {
   "cell_type": "code",
   "execution_count": null,
   "id": "9454f105-3efd-4d1f-929f-64960f019447",
   "metadata": {},
   "outputs": [],
   "source": []
  },
  {
   "cell_type": "code",
   "execution_count": null,
   "id": "4749abb2-27a0-4828-978b-cd0669158060",
   "metadata": {},
   "outputs": [],
   "source": []
  }
 ],
 "metadata": {
  "kernelspec": {
   "display_name": "Python 3 (ipykernel)",
   "language": "python",
   "name": "python3"
  },
  "language_info": {
   "codemirror_mode": {
    "name": "ipython",
    "version": 3
   },
   "file_extension": ".py",
   "mimetype": "text/x-python",
   "name": "python",
   "nbconvert_exporter": "python",
   "pygments_lexer": "ipython3",
   "version": "3.10.8"
  }
 },
 "nbformat": 4,
 "nbformat_minor": 5
}
