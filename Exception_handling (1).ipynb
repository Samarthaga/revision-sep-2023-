{
 "cells": [
  {
   "cell_type": "code",
   "execution_count": 1,
   "id": "8e28de7a-ccb1-4c06-a7f7-c692bedc703f",
   "metadata": {},
   "outputs": [
    {
     "ename": "ZeroDivisionError",
     "evalue": "division by zero",
     "output_type": "error",
     "traceback": [
      "\u001b[0;31m---------------------------------------------------------------------------\u001b[0m",
      "\u001b[0;31mZeroDivisionError\u001b[0m                         Traceback (most recent call last)",
      "Cell \u001b[0;32mIn[1], line 2\u001b[0m\n\u001b[1;32m      1\u001b[0m a\u001b[38;5;241m=\u001b[39m\u001b[38;5;241m10\u001b[39m\n\u001b[0;32m----> 2\u001b[0m \u001b[43ma\u001b[49m\u001b[38;5;241;43m/\u001b[39;49m\u001b[38;5;241;43m0\u001b[39;49m\n",
      "\u001b[0;31mZeroDivisionError\u001b[0m: division by zero"
     ]
    }
   ],
   "source": [
    "a=10\n",
    "a/0"
   ]
  },
  {
   "cell_type": "code",
   "execution_count": 3,
   "id": "aad011a8-0c6e-45d3-8a8a-adb4221da875",
   "metadata": {},
   "outputs": [
    {
     "ename": "FileNotFoundError",
     "evalue": "[Errno 2] No such file or directory: 'test.txt'",
     "output_type": "error",
     "traceback": [
      "\u001b[0;31m---------------------------------------------------------------------------\u001b[0m",
      "\u001b[0;31mFileNotFoundError\u001b[0m                         Traceback (most recent call last)",
      "Cell \u001b[0;32mIn[3], line 1\u001b[0m\n\u001b[0;32m----> 1\u001b[0m f\u001b[38;5;241m=\u001b[39m\u001b[38;5;28;43mopen\u001b[39;49m\u001b[43m(\u001b[49m\u001b[38;5;124;43m'\u001b[39;49m\u001b[38;5;124;43mtest.txt\u001b[39;49m\u001b[38;5;124;43m'\u001b[39;49m\u001b[43m,\u001b[49m\u001b[38;5;124;43m'\u001b[39;49m\u001b[38;5;124;43mr\u001b[39;49m\u001b[38;5;124;43m'\u001b[39;49m\u001b[43m)\u001b[49m\n\u001b[1;32m      2\u001b[0m \u001b[38;5;28mprint\u001b[39m(\u001b[38;5;124m'\u001b[39m\u001b[38;5;124mthios is my file\u001b[39m\u001b[38;5;124m'\u001b[39m)\n",
      "File \u001b[0;32m/opt/conda/lib/python3.10/site-packages/IPython/core/interactiveshell.py:282\u001b[0m, in \u001b[0;36m_modified_open\u001b[0;34m(file, *args, **kwargs)\u001b[0m\n\u001b[1;32m    275\u001b[0m \u001b[38;5;28;01mif\u001b[39;00m file \u001b[38;5;129;01min\u001b[39;00m {\u001b[38;5;241m0\u001b[39m, \u001b[38;5;241m1\u001b[39m, \u001b[38;5;241m2\u001b[39m}:\n\u001b[1;32m    276\u001b[0m     \u001b[38;5;28;01mraise\u001b[39;00m \u001b[38;5;167;01mValueError\u001b[39;00m(\n\u001b[1;32m    277\u001b[0m         \u001b[38;5;124mf\u001b[39m\u001b[38;5;124m\"\u001b[39m\u001b[38;5;124mIPython won\u001b[39m\u001b[38;5;124m'\u001b[39m\u001b[38;5;124mt let you open fd=\u001b[39m\u001b[38;5;132;01m{\u001b[39;00mfile\u001b[38;5;132;01m}\u001b[39;00m\u001b[38;5;124m by default \u001b[39m\u001b[38;5;124m\"\u001b[39m\n\u001b[1;32m    278\u001b[0m         \u001b[38;5;124m\"\u001b[39m\u001b[38;5;124mas it is likely to crash IPython. If you know what you are doing, \u001b[39m\u001b[38;5;124m\"\u001b[39m\n\u001b[1;32m    279\u001b[0m         \u001b[38;5;124m\"\u001b[39m\u001b[38;5;124myou can use builtins\u001b[39m\u001b[38;5;124m'\u001b[39m\u001b[38;5;124m open.\u001b[39m\u001b[38;5;124m\"\u001b[39m\n\u001b[1;32m    280\u001b[0m     )\n\u001b[0;32m--> 282\u001b[0m \u001b[38;5;28;01mreturn\u001b[39;00m \u001b[43mio_open\u001b[49m\u001b[43m(\u001b[49m\u001b[43mfile\u001b[49m\u001b[43m,\u001b[49m\u001b[43m \u001b[49m\u001b[38;5;241;43m*\u001b[39;49m\u001b[43margs\u001b[49m\u001b[43m,\u001b[49m\u001b[43m \u001b[49m\u001b[38;5;241;43m*\u001b[39;49m\u001b[38;5;241;43m*\u001b[39;49m\u001b[43mkwargs\u001b[49m\u001b[43m)\u001b[49m\n",
      "\u001b[0;31mFileNotFoundError\u001b[0m: [Errno 2] No such file or directory: 'test.txt'"
     ]
    }
   ],
   "source": [
    "f=open('test.txt','r')\n",
    "print('thios is my file')"
   ]
  },
  {
   "cell_type": "code",
   "execution_count": 12,
   "id": "1839ecb2-d245-4dfb-ba8e-eae5489b8f17",
   "metadata": {},
   "outputs": [
    {
     "name": "stdout",
     "output_type": "stream",
     "text": [
      "there is some issue with my code -----Error details--- [Errno 2] No such file or directory: 'test.txt'\n",
      "---------\n",
      "--------\n",
      "this is 2nd line\n"
     ]
    },
    {
     "data": {
      "text/plain": [
       "10"
      ]
     },
     "execution_count": 12,
     "metadata": {},
     "output_type": "execute_result"
    }
   ],
   "source": [
    "try:\n",
    "    f=open('test.txt','r')\n",
    "except Exception as e:\n",
    "    print('there is some issue with my code','-----Error details---' ,e)\n",
    "    \n",
    "print('---------\\n--------')\n",
    "print('this is 2nd line')\n",
    "a=10\n",
    "a"
   ]
  },
  {
   "cell_type": "code",
   "execution_count": 15,
   "id": "6b7b664a-d9ca-4f33-b4e5-dcd62816da59",
   "metadata": {},
   "outputs": [
    {
     "name": "stdout",
     "output_type": "stream",
     "text": [
      "this block will execute once try block will execute itself without exception \n"
     ]
    }
   ],
   "source": [
    "try:\n",
    "    f=open('test.txt','w')\n",
    "    f.write('this is my msg')\n",
    "    #f.close()\n",
    "except Exception as e:\n",
    "    print('there is some issue with my code ',e)\n",
    "    \n",
    "else :\n",
    "    f.close()\n",
    "    print('this block will execute once try block will execute itself without exception ')"
   ]
  },
  {
   "cell_type": "code",
   "execution_count": 17,
   "id": "713e4741-c33a-4312-81e5-3b0b75452867",
   "metadata": {},
   "outputs": [
    {
     "name": "stdout",
     "output_type": "stream",
     "text": [
      "there is some issue with my code  --------- [Errno 2] No such file or directory: 'test1.txt'\n"
     ]
    }
   ],
   "source": [
    "try:\n",
    "    f=open('test1.txt','r')\n",
    "    f.write('this is my msg')\n",
    "    #f.close()\n",
    "except Exception as e:\n",
    "    print('there is some issue with my code ','---------',e)\n",
    "    \n",
    "else :\n",
    "    f.close()\n",
    "    print('this block will execute once try block will execute itself without exception ')"
   ]
  },
  {
   "cell_type": "code",
   "execution_count": 18,
   "id": "21de56f5-0274-496f-8743-44983cffdb2a",
   "metadata": {},
   "outputs": [
    {
     "name": "stdout",
     "output_type": "stream",
     "text": [
      "this will always execute\n"
     ]
    },
    {
     "ename": "FileNotFoundError",
     "evalue": "[Errno 2] No such file or directory: 'test1.txt'",
     "output_type": "error",
     "traceback": [
      "\u001b[0;31m---------------------------------------------------------------------------\u001b[0m",
      "\u001b[0;31mFileNotFoundError\u001b[0m                         Traceback (most recent call last)",
      "Cell \u001b[0;32mIn[18], line 2\u001b[0m\n\u001b[1;32m      1\u001b[0m \u001b[38;5;28;01mtry\u001b[39;00m:\n\u001b[0;32m----> 2\u001b[0m     f\u001b[38;5;241m=\u001b[39m\u001b[38;5;28;43mopen\u001b[39;49m\u001b[43m(\u001b[49m\u001b[38;5;124;43m'\u001b[39;49m\u001b[38;5;124;43mtest1.txt\u001b[39;49m\u001b[38;5;124;43m'\u001b[39;49m\u001b[43m,\u001b[49m\u001b[38;5;124;43m'\u001b[39;49m\u001b[38;5;124;43mr\u001b[39;49m\u001b[38;5;124;43m'\u001b[39;49m\u001b[43m)\u001b[49m\n\u001b[1;32m      3\u001b[0m     f\u001b[38;5;241m.\u001b[39mwrite(\u001b[38;5;124m'\u001b[39m\u001b[38;5;124mthis is my msg\u001b[39m\u001b[38;5;124m'\u001b[39m)\n\u001b[1;32m      4\u001b[0m \u001b[38;5;28;01mfinally\u001b[39;00m:\n",
      "File \u001b[0;32m/opt/conda/lib/python3.10/site-packages/IPython/core/interactiveshell.py:282\u001b[0m, in \u001b[0;36m_modified_open\u001b[0;34m(file, *args, **kwargs)\u001b[0m\n\u001b[1;32m    275\u001b[0m \u001b[38;5;28;01mif\u001b[39;00m file \u001b[38;5;129;01min\u001b[39;00m {\u001b[38;5;241m0\u001b[39m, \u001b[38;5;241m1\u001b[39m, \u001b[38;5;241m2\u001b[39m}:\n\u001b[1;32m    276\u001b[0m     \u001b[38;5;28;01mraise\u001b[39;00m \u001b[38;5;167;01mValueError\u001b[39;00m(\n\u001b[1;32m    277\u001b[0m         \u001b[38;5;124mf\u001b[39m\u001b[38;5;124m\"\u001b[39m\u001b[38;5;124mIPython won\u001b[39m\u001b[38;5;124m'\u001b[39m\u001b[38;5;124mt let you open fd=\u001b[39m\u001b[38;5;132;01m{\u001b[39;00mfile\u001b[38;5;132;01m}\u001b[39;00m\u001b[38;5;124m by default \u001b[39m\u001b[38;5;124m\"\u001b[39m\n\u001b[1;32m    278\u001b[0m         \u001b[38;5;124m\"\u001b[39m\u001b[38;5;124mas it is likely to crash IPython. If you know what you are doing, \u001b[39m\u001b[38;5;124m\"\u001b[39m\n\u001b[1;32m    279\u001b[0m         \u001b[38;5;124m\"\u001b[39m\u001b[38;5;124myou can use builtins\u001b[39m\u001b[38;5;124m'\u001b[39m\u001b[38;5;124m open.\u001b[39m\u001b[38;5;124m\"\u001b[39m\n\u001b[1;32m    280\u001b[0m     )\n\u001b[0;32m--> 282\u001b[0m \u001b[38;5;28;01mreturn\u001b[39;00m \u001b[43mio_open\u001b[49m\u001b[43m(\u001b[49m\u001b[43mfile\u001b[49m\u001b[43m,\u001b[49m\u001b[43m \u001b[49m\u001b[38;5;241;43m*\u001b[39;49m\u001b[43margs\u001b[49m\u001b[43m,\u001b[49m\u001b[43m \u001b[49m\u001b[38;5;241;43m*\u001b[39;49m\u001b[38;5;241;43m*\u001b[39;49m\u001b[43mkwargs\u001b[49m\u001b[43m)\u001b[49m\n",
      "\u001b[0;31mFileNotFoundError\u001b[0m: [Errno 2] No such file or directory: 'test1.txt'"
     ]
    }
   ],
   "source": [
    "try:\n",
    "    f=open('test1.txt','r')\n",
    "    f.write('this is my msg')\n",
    "finally:\n",
    "    print('this will always execute')"
   ]
  },
  {
   "cell_type": "code",
   "execution_count": 19,
   "id": "25789893-cc48-4083-8206-3acbf15c7937",
   "metadata": {},
   "outputs": [
    {
     "name": "stdout",
     "output_type": "stream",
     "text": [
      "there is some issue with my code  --------- [Errno 2] No such file or directory: 'test1.txt'\n",
      "i will execute always \n"
     ]
    }
   ],
   "source": [
    "try:\n",
    "    f=open('test1.txt','r')\n",
    "    f.write('this is my msg')\n",
    "    #f.close()\n",
    "except Exception as e:\n",
    "    print('there is some issue with my code ','---------',e)\n",
    "    \n",
    "else :\n",
    "    f.close()\n",
    "    print('this block will execute once try block will execute itself without exception ')\n",
    "finally:\n",
    "    print('i will execute always ')"
   ]
  },
  {
   "cell_type": "code",
   "execution_count": 20,
   "id": "b04b1493-9a74-4a9b-bd2a-071b3ef611fe",
   "metadata": {},
   "outputs": [
    {
     "name": "stdout",
     "output_type": "stream",
     "text": [
      "this block will execute once try block will execute itself without exception \n",
      "i will execute always \n"
     ]
    }
   ],
   "source": [
    "try:\n",
    "    f=open('test1.txt','w')\n",
    "    f.write('this is my msg')\n",
    "    #f.close()\n",
    "except Exception as e:\n",
    "    print('there is some issue with my code ','---------',e)\n",
    "    \n",
    "else :\n",
    "    f.close()\n",
    "    print('this block will execute once try block will execute itself without exception ')\n",
    "finally:\n",
    "    print('i will execute always ')"
   ]
  },
  {
   "cell_type": "code",
   "execution_count": null,
   "id": "7db1e6be-1b17-4dd3-9984-f0bf09a50742",
   "metadata": {},
   "outputs": [],
   "source": []
  },
  {
   "cell_type": "code",
   "execution_count": 21,
   "id": "11c8a01e-23ff-4e6d-8178-63a43a4e05cc",
   "metadata": {},
   "outputs": [],
   "source": [
    "#import os\n",
    "#os.remove('test.txt')\n",
    "#os.remove('test1.txt')"
   ]
  },
  {
   "cell_type": "markdown",
   "id": "da80e1ad-ac33-48d0-a7cb-3c1082b2307b",
   "metadata": {},
   "source": [
    "# Custom exception handling"
   ]
  },
  {
   "cell_type": "code",
   "execution_count": 24,
   "id": "e0f1b3ad-9c16-4f85-b914-d83193524e4b",
   "metadata": {},
   "outputs": [
    {
     "name": "stdin",
     "output_type": "stream",
     "text": [
      "enter your age  -215\n"
     ]
    }
   ],
   "source": [
    "age=int(input('enter your age '))"
   ]
  },
  {
   "cell_type": "code",
   "execution_count": 25,
   "id": "70985e03-421f-41f3-9e91-7265cef3f2fd",
   "metadata": {},
   "outputs": [],
   "source": [
    "class validateage(Exception):\n",
    "    def __init__(self,msg):\n",
    "        self.msg=msg"
   ]
  },
  {
   "cell_type": "code",
   "execution_count": 29,
   "id": "927fa2f4-21da-43bc-ae07-1010a8b3bef0",
   "metadata": {},
   "outputs": [],
   "source": [
    "def validate_age(age):\n",
    "    if age <0:\n",
    "        raise validateage('age should not be less than 0')\n",
    "    elif age > 200:\n",
    "        raise validateage('age is too high')\n",
    "    else:\n",
    "        raise validateage('age is valid')"
   ]
  },
  {
   "cell_type": "code",
   "execution_count": 30,
   "id": "c55c6ab5-cc1a-418c-84e5-20929805ccb6",
   "metadata": {},
   "outputs": [
    {
     "ename": "validateage",
     "evalue": "age should not be less than 0",
     "output_type": "error",
     "traceback": [
      "\u001b[0;31m---------------------------------------------------------------------------\u001b[0m",
      "\u001b[0;31mvalidateage\u001b[0m                               Traceback (most recent call last)",
      "Cell \u001b[0;32mIn[30], line 1\u001b[0m\n\u001b[0;32m----> 1\u001b[0m \u001b[43mvalidate_age\u001b[49m\u001b[43m(\u001b[49m\u001b[38;5;241;43m-\u001b[39;49m\u001b[38;5;241;43m54\u001b[39;49m\u001b[43m)\u001b[49m\n",
      "Cell \u001b[0;32mIn[29], line 3\u001b[0m, in \u001b[0;36mvalidate_age\u001b[0;34m(age)\u001b[0m\n\u001b[1;32m      1\u001b[0m \u001b[38;5;28;01mdef\u001b[39;00m \u001b[38;5;21mvalidate_age\u001b[39m(age):\n\u001b[1;32m      2\u001b[0m     \u001b[38;5;28;01mif\u001b[39;00m age \u001b[38;5;241m<\u001b[39m\u001b[38;5;241m0\u001b[39m:\n\u001b[0;32m----> 3\u001b[0m         \u001b[38;5;28;01mraise\u001b[39;00m validateage(\u001b[38;5;124m'\u001b[39m\u001b[38;5;124mage should not be less than 0\u001b[39m\u001b[38;5;124m'\u001b[39m)\n\u001b[1;32m      4\u001b[0m     \u001b[38;5;28;01melif\u001b[39;00m age \u001b[38;5;241m>\u001b[39m \u001b[38;5;241m200\u001b[39m:\n\u001b[1;32m      5\u001b[0m         \u001b[38;5;28;01mraise\u001b[39;00m validateage(\u001b[38;5;124m'\u001b[39m\u001b[38;5;124mage is too high\u001b[39m\u001b[38;5;124m'\u001b[39m)\n",
      "\u001b[0;31mvalidateage\u001b[0m: age should not be less than 0"
     ]
    }
   ],
   "source": [
    "validate_age(-54)"
   ]
  },
  {
   "cell_type": "code",
   "execution_count": 31,
   "id": "4a2bb915-0f46-4cbc-922d-63c9d7d2bdca",
   "metadata": {},
   "outputs": [
    {
     "ename": "validateage",
     "evalue": "age is valid",
     "output_type": "error",
     "traceback": [
      "\u001b[0;31m---------------------------------------------------------------------------\u001b[0m",
      "\u001b[0;31mvalidateage\u001b[0m                               Traceback (most recent call last)",
      "Cell \u001b[0;32mIn[31], line 1\u001b[0m\n\u001b[0;32m----> 1\u001b[0m \u001b[43mvalidate_age\u001b[49m\u001b[43m(\u001b[49m\u001b[38;5;241;43m54\u001b[39;49m\u001b[43m)\u001b[49m\n",
      "Cell \u001b[0;32mIn[29], line 7\u001b[0m, in \u001b[0;36mvalidate_age\u001b[0;34m(age)\u001b[0m\n\u001b[1;32m      5\u001b[0m     \u001b[38;5;28;01mraise\u001b[39;00m validateage(\u001b[38;5;124m'\u001b[39m\u001b[38;5;124mage is too high\u001b[39m\u001b[38;5;124m'\u001b[39m)\n\u001b[1;32m      6\u001b[0m \u001b[38;5;28;01melse\u001b[39;00m:\n\u001b[0;32m----> 7\u001b[0m     \u001b[38;5;28;01mraise\u001b[39;00m validateage(\u001b[38;5;124m'\u001b[39m\u001b[38;5;124mage is valid\u001b[39m\u001b[38;5;124m'\u001b[39m)\n",
      "\u001b[0;31mvalidateage\u001b[0m: age is valid"
     ]
    }
   ],
   "source": [
    "validate_age(54)"
   ]
  },
  {
   "cell_type": "code",
   "execution_count": 32,
   "id": "5ce4155b-18f1-4d3c-9344-b41e77a1d820",
   "metadata": {},
   "outputs": [
    {
     "ename": "validateage",
     "evalue": "age is too high",
     "output_type": "error",
     "traceback": [
      "\u001b[0;31m---------------------------------------------------------------------------\u001b[0m",
      "\u001b[0;31mvalidateage\u001b[0m                               Traceback (most recent call last)",
      "Cell \u001b[0;32mIn[32], line 1\u001b[0m\n\u001b[0;32m----> 1\u001b[0m \u001b[43mvalidate_age\u001b[49m\u001b[43m(\u001b[49m\u001b[38;5;241;43m250\u001b[39;49m\u001b[43m)\u001b[49m\n",
      "Cell \u001b[0;32mIn[29], line 5\u001b[0m, in \u001b[0;36mvalidate_age\u001b[0;34m(age)\u001b[0m\n\u001b[1;32m      3\u001b[0m     \u001b[38;5;28;01mraise\u001b[39;00m validateage(\u001b[38;5;124m'\u001b[39m\u001b[38;5;124mage should not be less than 0\u001b[39m\u001b[38;5;124m'\u001b[39m)\n\u001b[1;32m      4\u001b[0m \u001b[38;5;28;01melif\u001b[39;00m age \u001b[38;5;241m>\u001b[39m \u001b[38;5;241m200\u001b[39m:\n\u001b[0;32m----> 5\u001b[0m     \u001b[38;5;28;01mraise\u001b[39;00m validateage(\u001b[38;5;124m'\u001b[39m\u001b[38;5;124mage is too high\u001b[39m\u001b[38;5;124m'\u001b[39m)\n\u001b[1;32m      6\u001b[0m \u001b[38;5;28;01melse\u001b[39;00m:\n\u001b[1;32m      7\u001b[0m     \u001b[38;5;28;01mraise\u001b[39;00m validateage(\u001b[38;5;124m'\u001b[39m\u001b[38;5;124mage is valid\u001b[39m\u001b[38;5;124m'\u001b[39m)\n",
      "\u001b[0;31mvalidateage\u001b[0m: age is too high"
     ]
    }
   ],
   "source": [
    "validate_age(250)"
   ]
  },
  {
   "cell_type": "code",
   "execution_count": 33,
   "id": "91b5d916-8f02-455b-9e71-2811aad94742",
   "metadata": {},
   "outputs": [
    {
     "name": "stdin",
     "output_type": "stream",
     "text": [
      "enter your age -52\n"
     ]
    },
    {
     "name": "stdout",
     "output_type": "stream",
     "text": [
      "age should not be less than 0\n"
     ]
    }
   ],
   "source": [
    "try:\n",
    "    age=int(input('enter your age'))\n",
    "    validate_age(age)\n",
    "except validateage as e:\n",
    "    print(e)"
   ]
  },
  {
   "cell_type": "code",
   "execution_count": 34,
   "id": "7c4f240f-d5e6-4e86-bd9c-a5ac4adaac6d",
   "metadata": {},
   "outputs": [
    {
     "name": "stdin",
     "output_type": "stream",
     "text": [
      "enter your age 50\n"
     ]
    },
    {
     "name": "stdout",
     "output_type": "stream",
     "text": [
      "age is valid\n"
     ]
    }
   ],
   "source": [
    "try:\n",
    "    age=int(input('enter your age'))\n",
    "    validate_age(age)\n",
    "except validateage as e:\n",
    "    print(e)"
   ]
  },
  {
   "cell_type": "code",
   "execution_count": 35,
   "id": "2c536512-6d1d-440c-9ed1-ee6e803b8cd1",
   "metadata": {},
   "outputs": [
    {
     "name": "stdin",
     "output_type": "stream",
     "text": [
      "enter your age 250\n"
     ]
    },
    {
     "name": "stdout",
     "output_type": "stream",
     "text": [
      "age is too high\n"
     ]
    }
   ],
   "source": [
    "try:\n",
    "    age=int(input('enter your age'))\n",
    "    validate_age(age)\n",
    "except validateage as e:\n",
    "    print(e)"
   ]
  },
  {
   "cell_type": "markdown",
   "id": "de8b6c5e-9ccb-4d36-bb9a-f7ad366e4b64",
   "metadata": {},
   "source": [
    "# list of general exceptions"
   ]
  },
  {
   "cell_type": "code",
   "execution_count": 37,
   "id": "050c8629-b528-41f9-a318-ffb2466ba417",
   "metadata": {},
   "outputs": [
    {
     "name": "stdout",
     "output_type": "stream",
     "text": [
      "division by zero\n"
     ]
    }
   ],
   "source": [
    "try :\n",
    "    a=10\n",
    "    10/0\n",
    "except ZeroDivisionError as e:\n",
    "    print(e)"
   ]
  },
  {
   "cell_type": "code",
   "execution_count": 38,
   "id": "6667fb12-7307-4451-a243-bd95df3bcd30",
   "metadata": {},
   "outputs": [
    {
     "name": "stdout",
     "output_type": "stream",
     "text": [
      "invalid literal for int() with base 10: 'sudh'\n"
     ]
    }
   ],
   "source": [
    "try:\n",
    "    int('sudh')\n",
    "except (ValueError,TypeError) as e:\n",
    "    print(e)"
   ]
  },
  {
   "cell_type": "code",
   "execution_count": 39,
   "id": "554ec76d-057a-4a87-80f2-2250491e1341",
   "metadata": {},
   "outputs": [
    {
     "name": "stdout",
     "output_type": "stream",
     "text": [
      "this will catch an error \n"
     ]
    }
   ],
   "source": [
    "try:\n",
    "    int('sudh')\n",
    "except:\n",
    "    print('this will catch an error ')"
   ]
  },
  {
   "cell_type": "code",
   "execution_count": 40,
   "id": "e956f031-ccac-45cc-b8b6-94f38d4e6ec5",
   "metadata": {},
   "outputs": [
    {
     "name": "stdout",
     "output_type": "stream",
     "text": [
      "No module named 'sudh'\n"
     ]
    }
   ],
   "source": [
    "try :\n",
    "    import sudh\n",
    "except ImportError as e:\n",
    "    print(e)"
   ]
  },
  {
   "cell_type": "code",
   "execution_count": 41,
   "id": "3991ecee-99ab-4476-ac58-d52ee1b27868",
   "metadata": {},
   "outputs": [
    {
     "name": "stdout",
     "output_type": "stream",
     "text": [
      "'key10'\n"
     ]
    }
   ],
   "source": [
    "try :\n",
    "    d={1:[3,4,5,6],'krey':'sudh'}\n",
    "    d['key10']\n",
    "except KeyError as e:\n",
    "    print(e)"
   ]
  },
  {
   "cell_type": "code",
   "execution_count": 43,
   "id": "ba891048-876c-4258-8dc3-a5249905c28d",
   "metadata": {},
   "outputs": [
    {
     "name": "stdout",
     "output_type": "stream",
     "text": [
      "'str' object has no attribute 'test'\n"
     ]
    }
   ],
   "source": [
    "try:\n",
    "    'sudh'.test()\n",
    "except AttributeError as e:\n",
    "    print(e)"
   ]
  },
  {
   "cell_type": "code",
   "execution_count": 45,
   "id": "99aa7dc0-46a9-4c58-8270-4637737eedc7",
   "metadata": {
    "tags": []
   },
   "outputs": [
    {
     "name": "stdout",
     "output_type": "stream",
     "text": [
      "list index out of range\n"
     ]
    }
   ],
   "source": [
    "try:\n",
    "    l=[1,2,3,4,5,5]\n",
    "    l[10]\n",
    "except IndexError as e:\n",
    "    print(e)"
   ]
  },
  {
   "cell_type": "code",
   "execution_count": 46,
   "id": "d6b3f711-5b91-4ec9-b5be-97af60a2c56f",
   "metadata": {},
   "outputs": [
    {
     "name": "stdout",
     "output_type": "stream",
     "text": [
      "unsupported operand type(s) for +: 'int' and 'str'\n"
     ]
    }
   ],
   "source": [
    "try:\n",
    "    123+'sudh'\n",
    "except TypeError as e:\n",
    "    print(e)"
   ]
  },
  {
   "cell_type": "code",
   "execution_count": 47,
   "id": "e892e597-a5a1-4f5b-bad9-acf44768e6d9",
   "metadata": {},
   "outputs": [
    {
     "name": "stdout",
     "output_type": "stream",
     "text": [
      "[Errno 2] No such file or directory: 'test.txt'\n"
     ]
    }
   ],
   "source": [
    "try:\n",
    "    with open ('test.txt','r') as f:\n",
    "        f.read()\n",
    "except FileNotFoundError as e:\n",
    "    print(e)"
   ]
  },
  {
   "cell_type": "code",
   "execution_count": 54,
   "id": "fa03382f-4b1c-4fcb-9bab-145538eb2c8a",
   "metadata": {},
   "outputs": [
    {
     "name": "stdout",
     "output_type": "stream",
     "text": [
      "test [Errno 2] No such file or directory: 'test.txt'\n"
     ]
    }
   ],
   "source": [
    "try:\n",
    "    with open ('test.txt','r') as f:\n",
    "        f.read()\n",
    "except Exception as e: # Exception is a superclass and gets executed first\n",
    "    print('test',e)\n",
    "except FileNotFoundError as e:\n",
    "    print('this is my file not found type error',e)"
   ]
  },
  {
   "cell_type": "code",
   "execution_count": 55,
   "id": "50336386-58f3-4577-b09b-2ea0d9db39e7",
   "metadata": {},
   "outputs": [],
   "source": [
    "def test(file):\n",
    "\n",
    "    try:\n",
    "        with open ('test.txt','r') as f:\n",
    "            f.read()\n",
    "    except Exception as e: # Exception is a superclass and gets executed first\n",
    "        print('test',e)\n",
    "    except FileNotFoundError as e:\n",
    "        print('this is my file not found type error',e)"
   ]
  },
  {
   "cell_type": "markdown",
   "id": "87cf1b23-7b88-435d-bd46-06f441086cd5",
   "metadata": {},
   "source": [
    "# Best Practise in exception handling"
   ]
  },
  {
   "cell_type": "code",
   "execution_count": 56,
   "id": "af856759-835b-4fac-a961-23f57df072f7",
   "metadata": {},
   "outputs": [
    {
     "name": "stdout",
     "output_type": "stream",
     "text": [
      "division by zero\n"
     ]
    }
   ],
   "source": [
    "### use always a specific exception \n",
    "\n",
    "try :\n",
    "    10/0\n",
    "except Exception as e:\n",
    "    print(e)"
   ]
  },
  {
   "cell_type": "code",
   "execution_count": 57,
   "id": "e20b985b-6129-48aa-9011-34d5abe5e4d6",
   "metadata": {},
   "outputs": [
    {
     "name": "stdout",
     "output_type": "stream",
     "text": [
      "division by zero\n"
     ]
    }
   ],
   "source": [
    "try :\n",
    "    10/0\n",
    "except ZeroDivisionError as e:\n",
    "    print(e)"
   ]
  },
  {
   "cell_type": "code",
   "execution_count": 58,
   "id": "751449fb-b9db-498e-90fd-a8cc257cbcf2",
   "metadata": {},
   "outputs": [
    {
     "name": "stdout",
     "output_type": "stream",
     "text": [
      "this is my zerodivision error i am handling code  division by zero\n"
     ]
    }
   ],
   "source": [
    "# print always a valid message \n",
    "\n",
    "try:\n",
    "    10/0\n",
    "except ZeroDivisionError as e:\n",
    "    print('this is my zerodivision error i am handling code ',e)"
   ]
  },
  {
   "cell_type": "code",
   "execution_count": 59,
   "id": "09fc8125-1d49-4b24-b58b-c1cc6e920f5e",
   "metadata": {},
   "outputs": [],
   "source": [
    "# Always try to log \n",
    "\n",
    "import logging\n",
    "logging.basicConfig(filename='error.log',level=logging.ERROR)\n",
    "try:\n",
    "    10/0\n",
    "except ZeroDivisionError as e:\n",
    "    logging.error('this is my zerodivision error i am handling code {}'.format(e))"
   ]
  },
  {
   "cell_type": "code",
   "execution_count": 60,
   "id": "02e26c29-3305-4562-bcd9-5d466ef66d95",
   "metadata": {},
   "outputs": [],
   "source": [
    "# always avoid to write a multiple exception handling \n",
    "\n",
    "\n",
    "import logging\n",
    "logging.basicConfig(filename='error.log',level=logging.ERROR)\n",
    "try:\n",
    "    10/0\n",
    "except FileNotFoundError as e:\n",
    "    logging.error('this is my file not found {}'.format(e))\n",
    "except AttributeError as e:\n",
    "    logging.error('this is my attribute error{}'.format(e))\n",
    "except ZeroDivisionError as e:\n",
    "    logging.error('this is my zerodivision error i am handling code {}'.format(e))\n"
   ]
  },
  {
   "cell_type": "code",
   "execution_count": 64,
   "id": "ecb73c28-f3d0-4892-a160-469ea0e4eb82",
   "metadata": {},
   "outputs": [],
   "source": [
    "# Always try to prepare proper documentation \n",
    "\n",
    "# Cleanup all the resources \n",
    "\n",
    "try:\n",
    "    with open('test.txt','w') as f:\n",
    "        f.write('this is my msg to file')\n",
    "except FileNotFoundError as e:\n",
    "    logging.error('this is my file not found {}'.format(e))\n",
    "finally:\n",
    "    f.close()"
   ]
  },
  {
   "cell_type": "code",
   "execution_count": 65,
   "id": "e40e6f6f-33c2-4ace-829b-efe2587755da",
   "metadata": {},
   "outputs": [],
   "source": [
    "#os.remove('test.txt')"
   ]
  },
  {
   "cell_type": "code",
   "execution_count": null,
   "id": "ab8db4ba-6c26-4e00-86d2-353ecc657676",
   "metadata": {},
   "outputs": [],
   "source": []
  },
  {
   "cell_type": "code",
   "execution_count": null,
   "id": "c5ea1538-d035-4979-8d9a-81170745e53f",
   "metadata": {},
   "outputs": [],
   "source": []
  },
  {
   "cell_type": "code",
   "execution_count": null,
   "id": "8d3e3c5d-603f-4185-8034-3a99f6bb372a",
   "metadata": {},
   "outputs": [],
   "source": []
  },
  {
   "cell_type": "code",
   "execution_count": null,
   "id": "e0fdd98b-3bc3-48db-a678-08335a0dad76",
   "metadata": {},
   "outputs": [],
   "source": []
  },
  {
   "cell_type": "code",
   "execution_count": null,
   "id": "afe66818-ad6b-424f-9839-22ef44ff1ca3",
   "metadata": {},
   "outputs": [],
   "source": []
  }
 ],
 "metadata": {
  "kernelspec": {
   "display_name": "Python 3 (ipykernel)",
   "language": "python",
   "name": "python3"
  },
  "language_info": {
   "codemirror_mode": {
    "name": "ipython",
    "version": 3
   },
   "file_extension": ".py",
   "mimetype": "text/x-python",
   "name": "python",
   "nbconvert_exporter": "python",
   "pygments_lexer": "ipython3",
   "version": "3.10.8"
  }
 },
 "nbformat": 4,
 "nbformat_minor": 5
}
