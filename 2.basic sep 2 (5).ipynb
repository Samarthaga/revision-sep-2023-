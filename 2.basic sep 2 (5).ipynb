{
 "cells": [
  {
   "cell_type": "markdown",
   "id": "6e35d59d-ffef-48d0-9f4a-698b49beec37",
   "metadata": {},
   "source": [
    "# OOPS"
   ]
  },
  {
   "cell_type": "code",
   "execution_count": 2,
   "id": "9f4e518d-400e-45d0-9a4a-63276ef41640",
   "metadata": {},
   "outputs": [
    {
     "name": "stdout",
     "output_type": "stream",
     "text": [
      "<class 'int'>\n"
     ]
    }
   ],
   "source": [
    "a=1\n",
    "print(type(a))"
   ]
  },
  {
   "cell_type": "code",
   "execution_count": 3,
   "id": "157dd73d-3203-421e-9b88-6d7206a4b197",
   "metadata": {},
   "outputs": [
    {
     "name": "stdout",
     "output_type": "stream",
     "text": [
      "<class 'str'>\n"
     ]
    }
   ],
   "source": [
    "print(type('samarth'))"
   ]
  },
  {
   "cell_type": "code",
   "execution_count": 4,
   "id": "328963d2-f858-4829-82c5-59f0b44e0780",
   "metadata": {},
   "outputs": [],
   "source": [
    "class test:\n",
    "    pass"
   ]
  },
  {
   "cell_type": "code",
   "execution_count": 5,
   "id": "3b6ab6d4-9668-4a7a-a9cd-ef2839004054",
   "metadata": {},
   "outputs": [
    {
     "data": {
      "text/plain": [
       "type"
      ]
     },
     "execution_count": 5,
     "metadata": {},
     "output_type": "execute_result"
    }
   ],
   "source": [
    "type(test)"
   ]
  },
  {
   "cell_type": "code",
   "execution_count": 6,
   "id": "f40b3aae-0862-4f1e-82e5-5e65fffa2474",
   "metadata": {},
   "outputs": [],
   "source": [
    "a=test()"
   ]
  },
  {
   "cell_type": "code",
   "execution_count": 9,
   "id": "573d4ee3-c340-4292-8446-545080192862",
   "metadata": {},
   "outputs": [
    {
     "name": "stdout",
     "output_type": "stream",
     "text": [
      "<class '__main__.test'>\n"
     ]
    }
   ],
   "source": [
    "print(type(a))"
   ]
  },
  {
   "cell_type": "code",
   "execution_count": 15,
   "id": "00c6e702-f435-4a21-84ee-77e5aacf5b8d",
   "metadata": {},
   "outputs": [],
   "source": [
    "class pwskills:\n",
    "    def welcome_msg(self):\n",
    "        print('welcome to pw skills')"
   ]
  },
  {
   "cell_type": "code",
   "execution_count": 12,
   "id": "2dddb9da-6f05-4529-a4cf-dc78bb11eccd",
   "metadata": {},
   "outputs": [
    {
     "name": "stdout",
     "output_type": "stream",
     "text": [
      "<class '__main__.pwskills'>\n"
     ]
    }
   ],
   "source": [
    "print(pwskills)"
   ]
  },
  {
   "cell_type": "code",
   "execution_count": 16,
   "id": "9cbede59-698a-4902-984e-046d2a0fef0e",
   "metadata": {},
   "outputs": [],
   "source": [
    "rohan=pwskills()"
   ]
  },
  {
   "cell_type": "code",
   "execution_count": 17,
   "id": "28805fd5-5154-4e64-b31d-97776685e741",
   "metadata": {},
   "outputs": [
    {
     "name": "stdout",
     "output_type": "stream",
     "text": [
      "welcome to pw skills\n"
     ]
    }
   ],
   "source": [
    "rohan.welcome_msg()"
   ]
  },
  {
   "cell_type": "code",
   "execution_count": 18,
   "id": "53bbb25d-213f-4d0c-b860-749c1b216412",
   "metadata": {},
   "outputs": [],
   "source": [
    "sohan=pwskills()"
   ]
  },
  {
   "cell_type": "code",
   "execution_count": 20,
   "id": "c48577b9-73c7-478a-aef4-e30e4c01f051",
   "metadata": {},
   "outputs": [
    {
     "name": "stdout",
     "output_type": "stream",
     "text": [
      "welcome to pw skills\n"
     ]
    }
   ],
   "source": [
    "sohan.welcome_msg()"
   ]
  },
  {
   "cell_type": "code",
   "execution_count": 51,
   "id": "8b613925-1976-451b-8ab2-a715f99cd864",
   "metadata": {},
   "outputs": [],
   "source": [
    "class pwskills1:\n",
    "    def  __init__(self,phone_no,email_id,stud_id):\n",
    "        self.phone_no=phone_no\n",
    "        self.email_id=email_id\n",
    "        self.stud_id=stud_id\n",
    "        \n",
    "    def return_student_details(self):\n",
    "        return self.phone_no,self.email_id,self.stud_id\n",
    "        \n"
   ]
  },
  {
   "cell_type": "code",
   "execution_count": 52,
   "id": "c8563a1d-f18d-403b-a5ea-17dd42769677",
   "metadata": {},
   "outputs": [],
   "source": [
    "rohan=pwskills1(6262,'hvfjvjsh',62)"
   ]
  },
  {
   "cell_type": "code",
   "execution_count": 53,
   "id": "ae828ea0-fe8e-49ed-9db6-249ebd38853f",
   "metadata": {},
   "outputs": [
    {
     "data": {
      "text/plain": [
       "62"
      ]
     },
     "execution_count": 53,
     "metadata": {},
     "output_type": "execute_result"
    }
   ],
   "source": [
    "rohan.stud_id"
   ]
  },
  {
   "cell_type": "code",
   "execution_count": 54,
   "id": "ae9a127e-451c-4475-8c2f-664f83f40c9a",
   "metadata": {},
   "outputs": [
    {
     "data": {
      "text/plain": [
       "'hvfjvjsh'"
      ]
     },
     "execution_count": 54,
     "metadata": {},
     "output_type": "execute_result"
    }
   ],
   "source": [
    "rohan.email_id"
   ]
  },
  {
   "cell_type": "code",
   "execution_count": 55,
   "id": "51496c40-12d6-40f5-94bf-e2d8d7f42550",
   "metadata": {},
   "outputs": [
    {
     "data": {
      "text/plain": [
       "6262"
      ]
     },
     "execution_count": 55,
     "metadata": {},
     "output_type": "execute_result"
    }
   ],
   "source": [
    "rohan.phone_no"
   ]
  },
  {
   "cell_type": "code",
   "execution_count": 56,
   "id": "3501e885-f7a7-4bd8-bcd4-1ae920355714",
   "metadata": {},
   "outputs": [
    {
     "data": {
      "text/plain": [
       "(6262, 'hvfjvjsh', 62)"
      ]
     },
     "execution_count": 56,
     "metadata": {},
     "output_type": "execute_result"
    }
   ],
   "source": [
    "rohan.return_student_details()"
   ]
  },
  {
   "cell_type": "code",
   "execution_count": 57,
   "id": "a5ecf381-2e94-4d59-9a73-c3960e741cce",
   "metadata": {},
   "outputs": [],
   "source": [
    "sohan=pwskills1(6516113281,'hdshvjvcue',321)"
   ]
  },
  {
   "cell_type": "code",
   "execution_count": 58,
   "id": "74a0c180-f6d0-4daa-bc02-7d0a38467bdb",
   "metadata": {},
   "outputs": [
    {
     "data": {
      "text/plain": [
       "(6516113281, 'hdshvjvcue', 321)"
      ]
     },
     "execution_count": 58,
     "metadata": {},
     "output_type": "execute_result"
    }
   ],
   "source": [
    "sohan.return_student_details()"
   ]
  },
  {
   "cell_type": "code",
   "execution_count": 64,
   "id": "979b9482-bf74-480d-8c28-fd5a6327b23a",
   "metadata": {},
   "outputs": [],
   "source": [
    "class pwskills1:\n",
    "    def  __init__(samarth,phone_no,email_id,stud_id):\n",
    "        samarth.phone_no=phone_no\n",
    "        samarth.email_id=email_id\n",
    "        samarth.stud_id=stud_id\n",
    "        \n",
    "    def return_student_details(samarth):\n",
    "        return samarth.phone_no,samarth.email_id,samarth.stud_id"
   ]
  },
  {
   "cell_type": "code",
   "execution_count": 66,
   "id": "f46fb84f-c277-42d6-938f-6e30ba8edfc2",
   "metadata": {},
   "outputs": [],
   "source": [
    "pramit=pwskills1(216461,'jfebdjcbj',26)"
   ]
  },
  {
   "cell_type": "code",
   "execution_count": 67,
   "id": "c91a9adc-d34a-4d92-9587-31c87d5523ef",
   "metadata": {},
   "outputs": [
    {
     "data": {
      "text/plain": [
       "'jfebdjcbj'"
      ]
     },
     "execution_count": 67,
     "metadata": {},
     "output_type": "execute_result"
    }
   ],
   "source": [
    "pramit.email_id"
   ]
  },
  {
   "cell_type": "code",
   "execution_count": 68,
   "id": "d00e97a5-5f8a-4dc7-a15d-55492673b7af",
   "metadata": {},
   "outputs": [
    {
     "data": {
      "text/plain": [
       "(216461, 'jfebdjcbj', 26)"
      ]
     },
     "execution_count": 68,
     "metadata": {},
     "output_type": "execute_result"
    }
   ],
   "source": [
    "pramit.return_student_details()"
   ]
  },
  {
   "cell_type": "markdown",
   "id": "a8356933-91c3-47f1-9db6-9d449f33d9f6",
   "metadata": {},
   "source": [
    "# Polymorphism"
   ]
  },
  {
   "cell_type": "code",
   "execution_count": 69,
   "id": "34da3775-33d8-4123-8e0a-2d54ef28e337",
   "metadata": {},
   "outputs": [],
   "source": [
    "def test(a,b):\n",
    "    return a+b"
   ]
  },
  {
   "cell_type": "code",
   "execution_count": 70,
   "id": "09a17871-cb6d-4ce6-a049-f3c768192f74",
   "metadata": {},
   "outputs": [
    {
     "data": {
      "text/plain": [
       "55"
      ]
     },
     "execution_count": 70,
     "metadata": {},
     "output_type": "execute_result"
    }
   ],
   "source": [
    "test(4,51)"
   ]
  },
  {
   "cell_type": "code",
   "execution_count": 71,
   "id": "4a9e3908-ab6e-4d4c-9761-3cf39d5aa116",
   "metadata": {},
   "outputs": [
    {
     "data": {
      "text/plain": [
       "'samarthagarwal'"
      ]
     },
     "execution_count": 71,
     "metadata": {},
     "output_type": "execute_result"
    }
   ],
   "source": [
    "test('samarth','agarwal')"
   ]
  },
  {
   "cell_type": "code",
   "execution_count": 72,
   "id": "80979010-6ad1-4190-ab14-26004a0b8735",
   "metadata": {},
   "outputs": [],
   "source": [
    "class data_science:\n",
    "    def syllabus(self):\n",
    "        print('this is my method for data science syllabus')"
   ]
  },
  {
   "cell_type": "code",
   "execution_count": 73,
   "id": "4a06a070-0cfd-4faa-b4fc-870d8794e845",
   "metadata": {},
   "outputs": [],
   "source": [
    "class web_dev:\n",
    "    def syllabus(self):\n",
    "        print('this is my method for web_dev')"
   ]
  },
  {
   "cell_type": "code",
   "execution_count": 74,
   "id": "dd33ea45-3c04-4ff3-9993-0aad94b7a98e",
   "metadata": {},
   "outputs": [],
   "source": [
    "def class_parser(class_obj):\n",
    "    for i in class_obj:\n",
    "        i.syllabus()"
   ]
  },
  {
   "cell_type": "code",
   "execution_count": 75,
   "id": "cb53692b-c2f6-4046-82cc-932e0e853dad",
   "metadata": {},
   "outputs": [],
   "source": [
    "obj_data_science=data_science()\n",
    "obj_web_dev=web_dev()"
   ]
  },
  {
   "cell_type": "code",
   "execution_count": 76,
   "id": "deb79de2-b640-4632-a847-0bb13e0d1c32",
   "metadata": {},
   "outputs": [],
   "source": [
    "class_obj=[obj_data_science,obj_web_dev]"
   ]
  },
  {
   "cell_type": "code",
   "execution_count": 77,
   "id": "e6bedaa6-a937-4899-98ac-3252a823fe53",
   "metadata": {},
   "outputs": [
    {
     "name": "stdout",
     "output_type": "stream",
     "text": [
      "this is my method for data science syllabus\n",
      "this is my method for web_dev\n"
     ]
    }
   ],
   "source": [
    "class_parser(class_obj)"
   ]
  },
  {
   "cell_type": "code",
   "execution_count": 1,
   "id": "ac5254e2-07dc-477e-a96f-28e89d2967e1",
   "metadata": {},
   "outputs": [],
   "source": [
    "class car:\n",
    "    \n",
    "    def __init__(self,year,make,model,speed):\n",
    "        self.__year=year\n",
    "        self.__make=make\n",
    "        self.__model=model\n",
    "        self.__speed=0"
   ]
  },
  {
   "cell_type": "code",
   "execution_count": 20,
   "id": "fbaa330b-965f-4477-8255-f6e4ac7c559d",
   "metadata": {},
   "outputs": [],
   "source": [
    "obj_car=car(2154,'toyota','innova',326)"
   ]
  },
  {
   "cell_type": "code",
   "execution_count": 3,
   "id": "2f905f5c-c8c3-4066-9d4a-ee3c2192985d",
   "metadata": {},
   "outputs": [
    {
     "data": {
      "text/plain": [
       "2154"
      ]
     },
     "execution_count": 3,
     "metadata": {},
     "output_type": "execute_result"
    }
   ],
   "source": [
    "obj_car._car__year"
   ]
  },
  {
   "cell_type": "code",
   "execution_count": 4,
   "id": "505adb82-3b2a-4214-9717-e3464eb813d5",
   "metadata": {},
   "outputs": [],
   "source": [
    "obj_car._car__year=2873"
   ]
  },
  {
   "cell_type": "code",
   "execution_count": 5,
   "id": "b48e39eb-6d05-48f9-a7d7-135a3e283ad6",
   "metadata": {},
   "outputs": [
    {
     "data": {
      "text/plain": [
       "2873"
      ]
     },
     "execution_count": 5,
     "metadata": {},
     "output_type": "execute_result"
    }
   ],
   "source": [
    "obj_car._car__year"
   ]
  },
  {
   "cell_type": "code",
   "execution_count": 27,
   "id": "eec4c59e-4c52-46c6-adda-8bdd62b8ca23",
   "metadata": {},
   "outputs": [],
   "source": [
    "class car:\n",
    "    \n",
    "    def __init__(self,year,make,model,speed):\n",
    "        self.__year=year\n",
    "        self.__make=make\n",
    "        self.__model=model\n",
    "        self.__speed=0\n",
    "        \n",
    "    def set_speed(self,speed):\n",
    "        self.__speed=0 if speed < 0 else speed\n",
    "        \n",
    "    def get_speed(self):\n",
    "        return self.__speed"
   ]
  },
  {
   "cell_type": "code",
   "execution_count": 28,
   "id": "55a80860-0618-4c00-833d-f3c2b0064cbb",
   "metadata": {},
   "outputs": [
    {
     "data": {
      "text/plain": [
       "0"
      ]
     },
     "execution_count": 28,
     "metadata": {},
     "output_type": "execute_result"
    }
   ],
   "source": [
    "obj_car.get_speed()"
   ]
  },
  {
   "cell_type": "code",
   "execution_count": 29,
   "id": "f4b4e8ff-188e-4576-809e-2998017a208b",
   "metadata": {},
   "outputs": [],
   "source": [
    "obj_car.set_speed(865)"
   ]
  },
  {
   "cell_type": "code",
   "execution_count": 31,
   "id": "ebc1a996-e33c-4abb-9509-39dc4ccef993",
   "metadata": {},
   "outputs": [
    {
     "data": {
      "text/plain": [
       "0"
      ]
     },
     "execution_count": 31,
     "metadata": {},
     "output_type": "execute_result"
    }
   ],
   "source": [
    "obj_car.get_speed()"
   ]
  },
  {
   "cell_type": "code",
   "execution_count": 34,
   "id": "463dc32d-ca7f-47e0-beb7-6b29045b2cb8",
   "metadata": {},
   "outputs": [],
   "source": [
    "class bank_account:\n",
    "    def __init__(self,balance):\n",
    "        self.__balance=balance\n",
    "        \n",
    "    def deposit(self,amount):\n",
    "        self.__balance=self.__balance + amount\n",
    "        \n",
    "    def withdraw(self,amount):\n",
    "        if self.__balance >=amount:\n",
    "            self.__balance=self.__balance - amount"
   ]
  },
  {
   "cell_type": "code",
   "execution_count": 3,
   "id": "dfd12e12-881c-437f-b28b-a480dae7629c",
   "metadata": {},
   "outputs": [],
   "source": [
    "class bank_account():\n",
    "    \n",
    "    def __init__(self,balance):\n",
    "        self.__balance=balance\n",
    "        \n",
    "    def deposit(self,amount):\n",
    "        self.__balance=self.__balance + amount\n",
    "        \n",
    "    def withdraw(self,amount):\n",
    "        if self.__balance >= amount:\n",
    "            self.__balance=self.__balance - amount\n",
    "            \n",
    "            return True\n",
    "        else :\n",
    "            return False\n",
    "        \n",
    "    def get_balance(self):\n",
    "        return self.__balance"
   ]
  },
  {
   "cell_type": "code",
   "execution_count": 4,
   "id": "64947260-ed98-402d-943d-8bc80b042b23",
   "metadata": {},
   "outputs": [],
   "source": [
    "obj_bankaccount=bank_account(1000)"
   ]
  },
  {
   "cell_type": "code",
   "execution_count": 5,
   "id": "e646b0c4-e8da-46ac-822e-8f83fb71bf6b",
   "metadata": {},
   "outputs": [],
   "source": [
    "obj_bankaccount.deposit(2000)"
   ]
  },
  {
   "cell_type": "code",
   "execution_count": 6,
   "id": "39666230-a8f1-4c0d-9cc0-2138d2fbdd1d",
   "metadata": {},
   "outputs": [
    {
     "data": {
      "text/plain": [
       "3000"
      ]
     },
     "execution_count": 6,
     "metadata": {},
     "output_type": "execute_result"
    }
   ],
   "source": [
    "obj_bankaccount.get_balance()"
   ]
  },
  {
   "cell_type": "code",
   "execution_count": 7,
   "id": "4c73ecdc-fe92-45e2-83f8-8b18eaba5262",
   "metadata": {},
   "outputs": [
    {
     "data": {
      "text/plain": [
       "True"
      ]
     },
     "execution_count": 7,
     "metadata": {},
     "output_type": "execute_result"
    }
   ],
   "source": [
    "obj_bankaccount.withdraw(500)"
   ]
  },
  {
   "cell_type": "code",
   "execution_count": 8,
   "id": "abf9d89b-accc-4322-8ad0-ada2c9a32536",
   "metadata": {},
   "outputs": [
    {
     "data": {
      "text/plain": [
       "2500"
      ]
     },
     "execution_count": 8,
     "metadata": {},
     "output_type": "execute_result"
    }
   ],
   "source": [
    "obj_bankaccount.get_balance()"
   ]
  },
  {
   "cell_type": "markdown",
   "id": "3054165d-ef8a-4c36-8446-a48f3b70d99d",
   "metadata": {},
   "source": [
    "# Inheritance"
   ]
  },
  {
   "cell_type": "code",
   "execution_count": 9,
   "id": "6b1b19fb-1d89-4826-96eb-f61e96431d7c",
   "metadata": {},
   "outputs": [],
   "source": [
    "class parent:\n",
    "    \n",
    "    def test_parent(self):\n",
    "        print('this is my parent class')"
   ]
  },
  {
   "cell_type": "code",
   "execution_count": 10,
   "id": "879ffa46-a292-4009-955a-3901eec006f8",
   "metadata": {},
   "outputs": [],
   "source": [
    "class child(parent):\n",
    "    pass\n",
    "    "
   ]
  },
  {
   "cell_type": "code",
   "execution_count": 11,
   "id": "d39d4e7f-49fc-42e0-816c-9dc2db0a79ca",
   "metadata": {},
   "outputs": [],
   "source": [
    "child_obj=child()"
   ]
  },
  {
   "cell_type": "code",
   "execution_count": 12,
   "id": "23578274-5afe-4982-8a2a-fc3b7dfe1397",
   "metadata": {},
   "outputs": [
    {
     "name": "stdout",
     "output_type": "stream",
     "text": [
      "this is my parent class\n"
     ]
    }
   ],
   "source": [
    "child_obj.test_parent()"
   ]
  },
  {
   "cell_type": "code",
   "execution_count": 13,
   "id": "7532897a-c84c-4f44-8607-8b4d96856447",
   "metadata": {},
   "outputs": [],
   "source": [
    "class class1:\n",
    "    def test_class1(self):\n",
    "        print('this is my class 1')"
   ]
  },
  {
   "cell_type": "code",
   "execution_count": 14,
   "id": "e15806bc-7acb-45ad-8850-52093c0a1fe9",
   "metadata": {},
   "outputs": [],
   "source": [
    "class class2(class1):\n",
    "    def test_class2(self):\n",
    "        print('this is my class 2')"
   ]
  },
  {
   "cell_type": "code",
   "execution_count": 21,
   "id": "e4be55c5-8e07-4bd9-bd40-581fee7094b8",
   "metadata": {},
   "outputs": [],
   "source": [
    "class class3(class2):\n",
    "    def test_class3(self):\n",
    "        print('this is my class 3')"
   ]
  },
  {
   "cell_type": "code",
   "execution_count": 22,
   "id": "78293ec9-a15d-4bd3-b138-41d110859e6b",
   "metadata": {},
   "outputs": [],
   "source": [
    "obj_class3=class3()"
   ]
  },
  {
   "cell_type": "code",
   "execution_count": 23,
   "id": "4db6273b-ee3e-4ec0-9783-6a1fbdc2d194",
   "metadata": {},
   "outputs": [
    {
     "name": "stdout",
     "output_type": "stream",
     "text": [
      "this is my class 1\n"
     ]
    }
   ],
   "source": [
    "obj_class3.test_class1()"
   ]
  },
  {
   "cell_type": "code",
   "execution_count": 27,
   "id": "6cd4455d-5d0c-4af8-b37f-dcc4da8e0df0",
   "metadata": {},
   "outputs": [
    {
     "name": "stdout",
     "output_type": "stream",
     "text": [
      "this is my class 2\n"
     ]
    }
   ],
   "source": [
    "obj_class3.test_class2()"
   ]
  },
  {
   "cell_type": "code",
   "execution_count": 26,
   "id": "15643e4d-18d3-4593-b538-119368f5b1f1",
   "metadata": {},
   "outputs": [
    {
     "name": "stdout",
     "output_type": "stream",
     "text": [
      "this is my class 3\n"
     ]
    }
   ],
   "source": [
    "obj_class3.test_class3()"
   ]
  },
  {
   "cell_type": "code",
   "execution_count": 29,
   "id": "a528baaf-e8d5-48ad-8328-c7f9c09d9805",
   "metadata": {},
   "outputs": [],
   "source": [
    "class class1:\n",
    "    def test_class1(self):\n",
    "        print('this is my class 1')"
   ]
  },
  {
   "cell_type": "code",
   "execution_count": 31,
   "id": "e8bb6262-d60d-47f7-bd50-84181c8450a2",
   "metadata": {},
   "outputs": [],
   "source": [
    "class class2:\n",
    "    def test_class2(self):\n",
    "        print('this is my class 2')\n",
    "    "
   ]
  },
  {
   "cell_type": "code",
   "execution_count": 32,
   "id": "59617daf-9a88-4f23-bb83-bdfc690bee90",
   "metadata": {},
   "outputs": [],
   "source": [
    "class class3(class1,class2):\n",
    "    pass"
   ]
  },
  {
   "cell_type": "code",
   "execution_count": 33,
   "id": "0912e633-14f3-4911-b8c4-5fb56b212fb6",
   "metadata": {},
   "outputs": [],
   "source": [
    "obj_class_3=class3()"
   ]
  },
  {
   "cell_type": "code",
   "execution_count": 34,
   "id": "8795ba61-b868-49fa-930e-df8521366210",
   "metadata": {},
   "outputs": [
    {
     "name": "stdout",
     "output_type": "stream",
     "text": [
      "this is my class 2\n"
     ]
    }
   ],
   "source": [
    "obj_class_3.test_class2()"
   ]
  },
  {
   "cell_type": "code",
   "execution_count": 35,
   "id": "a12927e7-7648-4830-908c-46060ec3948c",
   "metadata": {},
   "outputs": [
    {
     "name": "stdout",
     "output_type": "stream",
     "text": [
      "this is my class 2\n"
     ]
    }
   ],
   "source": [
    "obj_class_3.test_class2()"
   ]
  },
  {
   "cell_type": "markdown",
   "id": "eed2c9d3-ff2f-4be0-9dbe-a4ebcfec5ee6",
   "metadata": {},
   "source": [
    "# Abstract Class "
   ]
  },
  {
   "cell_type": "code",
   "execution_count": 2,
   "id": "23989bef-3fb8-48e1-9ab4-21f39458557d",
   "metadata": {},
   "outputs": [],
   "source": [
    "import abc\n",
    "\n",
    "class pwskills :\n",
    "    \n",
    "    @abc.abstractmethod\n",
    "    def students_details(self):\n",
    "        pass\n",
    "    @abc.abstractmethod\n",
    "    def student_assignment(self):\n",
    "        pass\n",
    "    \n",
    "    @abc.abstractmethod\n",
    "    def student_marks(self):\n",
    "        pass"
   ]
  },
  {
   "cell_type": "code",
   "execution_count": 3,
   "id": "a7025d17-c51e-4390-8e7c-3cb9511aa46f",
   "metadata": {},
   "outputs": [],
   "source": [
    "class datascience(pwskills):\n",
    "    \n",
    "    def student_details(self):\n",
    "        return ('it will try to return details of data svciene maters ')\n",
    "    \n",
    "    def student_assignment (self):\n",
    "        return ('details of student assignmnet for data science masters ')\n",
    "    "
   ]
  },
  {
   "cell_type": "code",
   "execution_count": 4,
   "id": "04a51f24-5ccf-47cc-a7e0-0bab63309f24",
   "metadata": {},
   "outputs": [],
   "source": [
    "class web_dev(pwskills):\n",
    "    def student_details(self):\n",
    "        return ('this will return thr details of wwb _dev')\n",
    "    \n",
    "    def student_marks(self):\n",
    "        return ('marks of student')"
   ]
  },
  {
   "cell_type": "code",
   "execution_count": 5,
   "id": "c69143a9-312b-4c92-b77b-dbbb594b764d",
   "metadata": {},
   "outputs": [
    {
     "data": {
      "text/plain": [
       "'it will try to return details of data svciene maters '"
      ]
     },
     "execution_count": 5,
     "metadata": {},
     "output_type": "execute_result"
    }
   ],
   "source": [
    "ds=datascience()\n",
    "ds.student_details()"
   ]
  },
  {
   "cell_type": "code",
   "execution_count": 7,
   "id": "42eebb06-9c26-4e3b-bd60-59ea67113b37",
   "metadata": {},
   "outputs": [
    {
     "data": {
      "text/plain": [
       "'this will return thr details of wwb _dev'"
      ]
     },
     "execution_count": 7,
     "metadata": {},
     "output_type": "execute_result"
    }
   ],
   "source": [
    "wb=web_dev()\n",
    "wb.student_details()"
   ]
  },
  {
   "cell_type": "markdown",
   "id": "7807ea26-aa19-442d-a11a-e67cad0f3366",
   "metadata": {},
   "source": [
    "# Decoraters"
   ]
  },
  {
   "cell_type": "code",
   "execution_count": 11,
   "id": "9ee3700a-4417-452a-8c2e-45f43496af7b",
   "metadata": {},
   "outputs": [],
   "source": [
    "def test():\n",
    "    print('this is the start of my dunction')\n",
    "    print(4+5)\n",
    "    print('this is thge endf of the funct.')"
   ]
  },
  {
   "cell_type": "code",
   "execution_count": 12,
   "id": "3894d4ec-7c12-4b5a-97ed-ba2dbacfd788",
   "metadata": {},
   "outputs": [
    {
     "name": "stdout",
     "output_type": "stream",
     "text": [
      "this is the start of my dunction\n",
      "9\n",
      "this is thge endf of the funct.\n"
     ]
    }
   ],
   "source": [
    "test()"
   ]
  },
  {
   "cell_type": "code",
   "execution_count": 17,
   "id": "e29912ed-cf6e-4964-9a88-8a2f4da3acc6",
   "metadata": {},
   "outputs": [],
   "source": [
    "def deco(func):\n",
    "    def inner_deco():\n",
    "        print('this is the start of my function')\n",
    "        func()\n",
    "        print('this is the endf of the funct.') \n",
    "    return inner_deco\n",
    "    "
   ]
  },
  {
   "cell_type": "code",
   "execution_count": 18,
   "id": "36ec1c5a-8f32-4aac-a642-e2bfaaf24f41",
   "metadata": {},
   "outputs": [],
   "source": [
    "@deco\n",
    "def test():\n",
    "    print(4+5)"
   ]
  },
  {
   "cell_type": "code",
   "execution_count": 19,
   "id": "53726f5f-4b6c-4142-a3c8-149f79efc86c",
   "metadata": {},
   "outputs": [
    {
     "name": "stdout",
     "output_type": "stream",
     "text": [
      "this is the start of my function\n",
      "9\n",
      "this is the endf of the funct.\n"
     ]
    }
   ],
   "source": [
    "test()"
   ]
  },
  {
   "cell_type": "code",
   "execution_count": 1,
   "id": "c52057eb-4ad5-4d25-b2b9-592dc5a7b86f",
   "metadata": {},
   "outputs": [],
   "source": [
    "import time \n",
    "\n",
    "def timer_test(func):\n",
    "    def timmer_test_innew():\n",
    "        start=time.time()\n",
    "        func()\n",
    "        end=time.time()\n",
    "        print(end-start)\n",
    "    return timmer_test_innew"
   ]
  },
  {
   "cell_type": "code",
   "execution_count": 26,
   "id": "df27c9e5-6e50-44bf-b169-ba0ac7d5100e",
   "metadata": {},
   "outputs": [],
   "source": [
    "@timer_test\n",
    "def test2():\n",
    "    print(65+75)"
   ]
  },
  {
   "cell_type": "code",
   "execution_count": 29,
   "id": "5b7d120a-2cfa-410c-9b21-2d885a8411d1",
   "metadata": {},
   "outputs": [
    {
     "name": "stdout",
     "output_type": "stream",
     "text": [
      "140\n",
      "5.269050598144531e-05\n"
     ]
    }
   ],
   "source": [
    "test2()"
   ]
  },
  {
   "cell_type": "code",
   "execution_count": 15,
   "id": "300dcbce-07d1-4e88-b0e6-66ce19c90402",
   "metadata": {},
   "outputs": [],
   "source": [
    "@timer_test\n",
    "def test3():\n",
    "    \n",
    "    for i in range(1000000):\n",
    "        pass\n",
    "        #print (i,end='')"
   ]
  },
  {
   "cell_type": "code",
   "execution_count": 16,
   "id": "4181501c-6d34-4a4f-9a7c-4231462827ed",
   "metadata": {},
   "outputs": [
    {
     "name": "stdout",
     "output_type": "stream",
     "text": [
      "0.025698184967041016\n"
     ]
    }
   ],
   "source": [
    "test3()"
   ]
  },
  {
   "cell_type": "code",
   "execution_count": 19,
   "id": "a3a8ef0d-0682-422e-a21a-d06924ccc4e1",
   "metadata": {},
   "outputs": [],
   "source": [
    "class pwskills:\n",
    "    def __init__(self,name,email):\n",
    "        self.name=name\n",
    "        self.email=email\n",
    "        \n",
    "    def student_details(self):\n",
    "        print(self.name,self.email)"
   ]
  },
  {
   "cell_type": "code",
   "execution_count": 23,
   "id": "8b6e996c-80b5-4412-99b0-934e8a364306",
   "metadata": {},
   "outputs": [],
   "source": [
    "studen_name=pwskills('gshdgvhgf','hfejvdj')"
   ]
  },
  {
   "cell_type": "code",
   "execution_count": 27,
   "id": "7008353b-940b-443b-9c2c-76aafb3e2c54",
   "metadata": {},
   "outputs": [
    {
     "data": {
      "text/plain": [
       "list['gshdgvhgf', 'hfejvdj']"
      ]
     },
     "execution_count": 27,
     "metadata": {},
     "output_type": "execute_result"
    }
   ],
   "source": [
    "list[studen_name.name,studen_name.email]"
   ]
  },
  {
   "cell_type": "code",
   "execution_count": 29,
   "id": "8bc81aea-ebef-480b-ad9c-9b114b0a94ce",
   "metadata": {},
   "outputs": [],
   "source": [
    "class pwskills1:\n",
    "    def __init__(self,name,email):\n",
    "        self.name=name\n",
    "        self.email=email\n",
    "    \n",
    "    @classmethod\n",
    "    def details(cls,name,email):\n",
    "        return cls(name,email)\n",
    "        \n",
    "    def student_details(self):\n",
    "        print(self.name,self.email)"
   ]
  },
  {
   "cell_type": "code",
   "execution_count": 31,
   "id": "61b58d5f-a0db-4e5d-a91f-7da445240da0",
   "metadata": {},
   "outputs": [],
   "source": [
    "pw1=pwskills1.details('jvvjf','jdveufkci')"
   ]
  },
  {
   "cell_type": "code",
   "execution_count": 32,
   "id": "91860ac3-8ec8-4f31-8718-98963ae7fab7",
   "metadata": {},
   "outputs": [
    {
     "data": {
      "text/plain": [
       "'jdveufkci'"
      ]
     },
     "execution_count": 32,
     "metadata": {},
     "output_type": "execute_result"
    }
   ],
   "source": [
    "pw1.email"
   ]
  },
  {
   "cell_type": "code",
   "execution_count": 33,
   "id": "77900ac1-5362-4689-b018-25e52b2c46c7",
   "metadata": {},
   "outputs": [
    {
     "name": "stdout",
     "output_type": "stream",
     "text": [
      "jvvjf jdveufkci\n"
     ]
    }
   ],
   "source": [
    "pw1.student_details()"
   ]
  },
  {
   "cell_type": "code",
   "execution_count": 39,
   "id": "8870aec1-d3aa-4ba2-8450-b40ddcc81ef5",
   "metadata": {},
   "outputs": [],
   "source": [
    "class pwskills2:\n",
    "    \n",
    "    mobile_number=31616131635\n",
    "    \n",
    "    def __init__(self,name,email):\n",
    "        self.name=name\n",
    "        self.email=email\n",
    "    \n",
    "    @classmethod\n",
    "    def change_mobilen0(cls,mobile):\n",
    "        pwskills2.mobile_number=mobile\n",
    "    \n",
    "    @classmethod\n",
    "    def details(cls,name,email):\n",
    "        return cls(name,email)\n",
    "        \n",
    "    def student_details(self):\n",
    "        print(self.name,self.email,pwskills2.mobile_number)"
   ]
  },
  {
   "cell_type": "code",
   "execution_count": 35,
   "id": "0093ac71-ed46-4a15-bad5-5d2bd11422a3",
   "metadata": {},
   "outputs": [
    {
     "data": {
      "text/plain": [
       "31616131635"
      ]
     },
     "execution_count": 35,
     "metadata": {},
     "output_type": "execute_result"
    }
   ],
   "source": [
    "pwskills2.mobile_number"
   ]
  },
  {
   "cell_type": "code",
   "execution_count": 40,
   "id": "24936fd9-2107-4e13-ac36-6d6ec149f39f",
   "metadata": {},
   "outputs": [],
   "source": [
    "pw2=pwskills2.details('mbfjcudvc','hgasgdvv')"
   ]
  },
  {
   "cell_type": "code",
   "execution_count": 38,
   "id": "5a49dd11-eb76-48f3-918d-9f469afe3ff0",
   "metadata": {},
   "outputs": [
    {
     "name": "stdout",
     "output_type": "stream",
     "text": [
      "mbfjcudvc hgasgdvv 31616131635\n"
     ]
    }
   ],
   "source": [
    "pw2.student_details()"
   ]
  },
  {
   "cell_type": "code",
   "execution_count": 41,
   "id": "aced9d14-2295-454e-b22e-e3a3a028aed9",
   "metadata": {},
   "outputs": [],
   "source": [
    "pw2.change_mobilen0(21651621616)"
   ]
  },
  {
   "cell_type": "code",
   "execution_count": 42,
   "id": "5ec9294e-b1c4-40b0-aa8f-79a798149613",
   "metadata": {},
   "outputs": [
    {
     "data": {
      "text/plain": [
       "21651621616"
      ]
     },
     "execution_count": 42,
     "metadata": {},
     "output_type": "execute_result"
    }
   ],
   "source": [
    "pw2.mobile_number"
   ]
  },
  {
   "cell_type": "code",
   "execution_count": 43,
   "id": "5856898f-c638-4af6-aed4-ffcc0c099693",
   "metadata": {},
   "outputs": [],
   "source": [
    "class pwskills3:\n",
    "    \n",
    "    mobile_number=31616131635\n",
    "    \n",
    "    def __init__(self,name,email):\n",
    "        self.name=name\n",
    "        self.email=email\n",
    "    \n",
    "    @classmethod\n",
    "    def change_mobilen0(cls,mobile):\n",
    "        pwskills2.mobile_number=mobile\n",
    "    \n",
    "    @classmethod\n",
    "    def details(cls,name,email):\n",
    "        return cls(name,email)\n",
    "        \n",
    "    def student_details(self):\n",
    "        print(self.name,self.email,pwskills2.mobile_number)"
   ]
  },
  {
   "cell_type": "code",
   "execution_count": 44,
   "id": "0c2b84cb-f182-4436-bac0-923fe5ecbab0",
   "metadata": {},
   "outputs": [],
   "source": [
    "def course_details(cls,course_name):\n",
    "    print('coursedetails',course_name)"
   ]
  },
  {
   "cell_type": "code",
   "execution_count": 45,
   "id": "e8fffa19-c606-43d2-9998-172da209c249",
   "metadata": {},
   "outputs": [],
   "source": [
    "pwskills3.course_details=classmethod(course_details)"
   ]
  },
  {
   "cell_type": "code",
   "execution_count": 47,
   "id": "8497722f-33c7-48b5-9630-6c59768670bd",
   "metadata": {},
   "outputs": [
    {
     "name": "stdout",
     "output_type": "stream",
     "text": [
      "coursedetails datascience masters\n"
     ]
    }
   ],
   "source": [
    "pwskills3.course_details('datascience masters')"
   ]
  },
  {
   "cell_type": "code",
   "execution_count": 48,
   "id": "6cc1e275-0aa5-4883-9ba6-7272896985a8",
   "metadata": {},
   "outputs": [],
   "source": [
    "pw3=pwskills3('jbwehbb','ghsjfjbvsjc')"
   ]
  },
  {
   "cell_type": "code",
   "execution_count": 49,
   "id": "08397b7c-33ff-4ff1-93d0-6a9db5629d7e",
   "metadata": {},
   "outputs": [
    {
     "name": "stdout",
     "output_type": "stream",
     "text": [
      "coursedetails web dev\n"
     ]
    }
   ],
   "source": [
    "pw3.course_details('web dev')"
   ]
  },
  {
   "cell_type": "code",
   "execution_count": 50,
   "id": "46ac863b-89f8-459e-8f35-cb60efb8c4da",
   "metadata": {},
   "outputs": [],
   "source": [
    "class pwskills4:\n",
    "    \n",
    "    mobile_number=31616131635\n",
    "    \n",
    "    def __init__(self,name,email):\n",
    "        self.name=name\n",
    "        self.email=email\n",
    "    \n",
    "    @classmethod\n",
    "    def change_mobilen0(cls,mobile):\n",
    "        pwskills2.mobile_number=mobile\n",
    "    \n",
    "    @classmethod\n",
    "    def details(cls,name,email):\n",
    "        return cls(name,email)\n",
    "        \n",
    "    def student_details(self):\n",
    "        print(self.name,self.email,pwskills2.mobile_number)"
   ]
  },
  {
   "cell_type": "code",
   "execution_count": 52,
   "id": "1754d10a-e517-4d39-a87c-3356aac9262a",
   "metadata": {},
   "outputs": [],
   "source": [
    "del pwskills4.change_mobilen0"
   ]
  },
  {
   "cell_type": "code",
   "execution_count": 53,
   "id": "0755f480-f1c6-4b17-abac-f4cfa006bf24",
   "metadata": {},
   "outputs": [
    {
     "ename": "AttributeError",
     "evalue": "type object 'pwskills4' has no attribute 'change_no'",
     "output_type": "error",
     "traceback": [
      "\u001b[0;31m---------------------------------------------------------------------------\u001b[0m",
      "\u001b[0;31mAttributeError\u001b[0m                            Traceback (most recent call last)",
      "Cell \u001b[0;32mIn[53], line 1\u001b[0m\n\u001b[0;32m----> 1\u001b[0m \u001b[43mpwskills4\u001b[49m\u001b[38;5;241;43m.\u001b[39;49m\u001b[43mchange_no\u001b[49m()\n",
      "\u001b[0;31mAttributeError\u001b[0m: type object 'pwskills4' has no attribute 'change_no'"
     ]
    }
   ],
   "source": [
    "pwskills4.change_no()"
   ]
  },
  {
   "cell_type": "code",
   "execution_count": 1,
   "id": "3c632acb-b5b3-46fc-93df-3d99bb336228",
   "metadata": {},
   "outputs": [],
   "source": [
    "class pwskills:\n",
    "    def student_details(self,name,mail_id,number):\n",
    "        print(name,mail_id,number)"
   ]
  },
  {
   "cell_type": "code",
   "execution_count": 2,
   "id": "17f50bf4-c3c0-47f4-af46-4df0d62d0465",
   "metadata": {},
   "outputs": [],
   "source": [
    "pw=pwskills()"
   ]
  },
  {
   "cell_type": "code",
   "execution_count": 3,
   "id": "a758863d-bc52-49c9-914e-9201031299c5",
   "metadata": {},
   "outputs": [
    {
     "name": "stdout",
     "output_type": "stream",
     "text": [
      "hfjvcv jbuvuvu 3666489651\n"
     ]
    }
   ],
   "source": [
    "pw.student_details('hfjvcv','jbuvuvu',3666489651)"
   ]
  },
  {
   "cell_type": "code",
   "execution_count": 6,
   "id": "6ffa36f9-c433-432e-978b-1435e092b332",
   "metadata": {},
   "outputs": [],
   "source": [
    "class pwskills1:\n",
    "    def student_details(self,name,mail_id,number):\n",
    "        print(name,mail_id,number)\n",
    "    \n",
    "    @staticmethod\n",
    "    def mentor_class(list_mentor):\n",
    "        print(list_mentor)\n",
    "        \n",
    "    def mentor(self,mentor_list):\n",
    "        print(mentor_list)"
   ]
  },
  {
   "cell_type": "code",
   "execution_count": 5,
   "id": "e9bc9cc3-ce7c-419e-a4d3-faa770d451a9",
   "metadata": {},
   "outputs": [
    {
     "name": "stdout",
     "output_type": "stream",
     "text": [
      "['uvsuvuv', 'jfsduyfuyv']\n"
     ]
    }
   ],
   "source": [
    "pwskills1.mentor_class(['uvsuvuv','jfsduyfuyv'])"
   ]
  },
  {
   "cell_type": "code",
   "execution_count": 7,
   "id": "6479dd1b-bbbe-4ad2-a966-2add328b75a6",
   "metadata": {},
   "outputs": [],
   "source": [
    "pw1=pwskills1()"
   ]
  },
  {
   "cell_type": "code",
   "execution_count": 9,
   "id": "2cc3d501-97b2-4d23-b18e-11a75f6fb2a2",
   "metadata": {},
   "outputs": [
    {
     "name": "stdout",
     "output_type": "stream",
     "text": [
      "jgusygucg\n"
     ]
    }
   ],
   "source": [
    "pw1.mentor('jgusygucg')"
   ]
  },
  {
   "cell_type": "code",
   "execution_count": 14,
   "id": "5ee21390-543c-4c8f-9f4c-ff2c036b5169",
   "metadata": {},
   "outputs": [
    {
     "name": "stdout",
     "output_type": "stream",
     "text": [
      "['khsfsbc', 'jsjdvjvsjc', 'hdfuyfcus']\n"
     ]
    }
   ],
   "source": [
    "pwskills1.mentor_class(['khsfsbc','jsjdvjvsjc','hdfuyfcus'])"
   ]
  },
  {
   "cell_type": "markdown",
   "id": "8e285c2c-5f6c-4f4a-a46c-7847e8b7c396",
   "metadata": {},
   "source": [
    "# Magic Dunder Method"
   ]
  },
  {
   "cell_type": "code",
   "execution_count": 1,
   "id": "6b18ad07-d777-4eb9-b30f-549d5dae6610",
   "metadata": {},
   "outputs": [
    {
     "data": {
      "text/plain": [
       "['__abs__',\n",
       " '__add__',\n",
       " '__and__',\n",
       " '__bool__',\n",
       " '__ceil__',\n",
       " '__class__',\n",
       " '__delattr__',\n",
       " '__dir__',\n",
       " '__divmod__',\n",
       " '__doc__',\n",
       " '__eq__',\n",
       " '__float__',\n",
       " '__floor__',\n",
       " '__floordiv__',\n",
       " '__format__',\n",
       " '__ge__',\n",
       " '__getattribute__',\n",
       " '__getnewargs__',\n",
       " '__gt__',\n",
       " '__hash__',\n",
       " '__index__',\n",
       " '__init__',\n",
       " '__init_subclass__',\n",
       " '__int__',\n",
       " '__invert__',\n",
       " '__le__',\n",
       " '__lshift__',\n",
       " '__lt__',\n",
       " '__mod__',\n",
       " '__mul__',\n",
       " '__ne__',\n",
       " '__neg__',\n",
       " '__new__',\n",
       " '__or__',\n",
       " '__pos__',\n",
       " '__pow__',\n",
       " '__radd__',\n",
       " '__rand__',\n",
       " '__rdivmod__',\n",
       " '__reduce__',\n",
       " '__reduce_ex__',\n",
       " '__repr__',\n",
       " '__rfloordiv__',\n",
       " '__rlshift__',\n",
       " '__rmod__',\n",
       " '__rmul__',\n",
       " '__ror__',\n",
       " '__round__',\n",
       " '__rpow__',\n",
       " '__rrshift__',\n",
       " '__rshift__',\n",
       " '__rsub__',\n",
       " '__rtruediv__',\n",
       " '__rxor__',\n",
       " '__setattr__',\n",
       " '__sizeof__',\n",
       " '__str__',\n",
       " '__sub__',\n",
       " '__subclasshook__',\n",
       " '__truediv__',\n",
       " '__trunc__',\n",
       " '__xor__',\n",
       " 'as_integer_ratio',\n",
       " 'bit_count',\n",
       " 'bit_length',\n",
       " 'conjugate',\n",
       " 'denominator',\n",
       " 'from_bytes',\n",
       " 'imag',\n",
       " 'numerator',\n",
       " 'real',\n",
       " 'to_bytes']"
      ]
     },
     "execution_count": 1,
     "metadata": {},
     "output_type": "execute_result"
    }
   ],
   "source": [
    "dir(int)"
   ]
  },
  {
   "cell_type": "code",
   "execution_count": 2,
   "id": "214d0e8a-6f24-4db7-a6be-c81181863b45",
   "metadata": {},
   "outputs": [
    {
     "data": {
      "text/plain": [
       "16"
      ]
     },
     "execution_count": 2,
     "metadata": {},
     "output_type": "execute_result"
    }
   ],
   "source": [
    "a=10\n",
    "\n",
    "a+6"
   ]
  },
  {
   "cell_type": "code",
   "execution_count": 3,
   "id": "0f9ebc12-9abb-4632-9b86-7bc48518c85b",
   "metadata": {},
   "outputs": [
    {
     "data": {
      "text/plain": [
       "16"
      ]
     },
     "execution_count": 3,
     "metadata": {},
     "output_type": "execute_result"
    }
   ],
   "source": [
    "a.__add__(6)"
   ]
  },
  {
   "cell_type": "code",
   "execution_count": 6,
   "id": "dcb1ad02-b72b-476c-9093-8a495b2c4125",
   "metadata": {},
   "outputs": [
    {
     "data": {
      "text/plain": [
       "['__add__',\n",
       " '__class__',\n",
       " '__contains__',\n",
       " '__delattr__',\n",
       " '__dir__',\n",
       " '__doc__',\n",
       " '__eq__',\n",
       " '__format__',\n",
       " '__ge__',\n",
       " '__getattribute__',\n",
       " '__getitem__',\n",
       " '__getnewargs__',\n",
       " '__gt__',\n",
       " '__hash__',\n",
       " '__init__',\n",
       " '__init_subclass__',\n",
       " '__iter__',\n",
       " '__le__',\n",
       " '__len__',\n",
       " '__lt__',\n",
       " '__mod__',\n",
       " '__mul__',\n",
       " '__ne__',\n",
       " '__new__',\n",
       " '__reduce__',\n",
       " '__reduce_ex__',\n",
       " '__repr__',\n",
       " '__rmod__',\n",
       " '__rmul__',\n",
       " '__setattr__',\n",
       " '__sizeof__',\n",
       " '__str__',\n",
       " '__subclasshook__',\n",
       " 'capitalize',\n",
       " 'casefold',\n",
       " 'center',\n",
       " 'count',\n",
       " 'encode',\n",
       " 'endswith',\n",
       " 'expandtabs',\n",
       " 'find',\n",
       " 'format',\n",
       " 'format_map',\n",
       " 'index',\n",
       " 'isalnum',\n",
       " 'isalpha',\n",
       " 'isascii',\n",
       " 'isdecimal',\n",
       " 'isdigit',\n",
       " 'isidentifier',\n",
       " 'islower',\n",
       " 'isnumeric',\n",
       " 'isprintable',\n",
       " 'isspace',\n",
       " 'istitle',\n",
       " 'isupper',\n",
       " 'join',\n",
       " 'ljust',\n",
       " 'lower',\n",
       " 'lstrip',\n",
       " 'maketrans',\n",
       " 'partition',\n",
       " 'removeprefix',\n",
       " 'removesuffix',\n",
       " 'replace',\n",
       " 'rfind',\n",
       " 'rindex',\n",
       " 'rjust',\n",
       " 'rpartition',\n",
       " 'rsplit',\n",
       " 'rstrip',\n",
       " 'split',\n",
       " 'splitlines',\n",
       " 'startswith',\n",
       " 'strip',\n",
       " 'swapcase',\n",
       " 'title',\n",
       " 'translate',\n",
       " 'upper',\n",
       " 'zfill']"
      ]
     },
     "execution_count": 6,
     "metadata": {},
     "output_type": "execute_result"
    }
   ],
   "source": [
    "dir(str)"
   ]
  },
  {
   "cell_type": "code",
   "execution_count": 7,
   "id": "d2a4a977-c96a-4f22-8106-2e69df8cd8de",
   "metadata": {},
   "outputs": [],
   "source": [
    "class pwskills:\n",
    "    \n",
    "    def __new__(cls):\n",
    "        print('this is my new')\n",
    "    \n",
    "    def __init__(self):\n",
    "        print('this is my init')"
   ]
  },
  {
   "cell_type": "code",
   "execution_count": 8,
   "id": "5ffbedd7-376e-47cf-a04b-30f001dd11fa",
   "metadata": {},
   "outputs": [
    {
     "name": "stdout",
     "output_type": "stream",
     "text": [
      "this is my new\n"
     ]
    }
   ],
   "source": [
    "pw=pwskills()"
   ]
  },
  {
   "cell_type": "code",
   "execution_count": 14,
   "id": "3f0b87e4-2580-4682-9d93-b69d4c862ccc",
   "metadata": {},
   "outputs": [],
   "source": [
    "class pwskills1:\n",
    "    \n",
    "    def __init__(self):\n",
    "        self.mobile_num=6325651\n",
    "        \n",
    "    def __str__(self):\n",
    "        return ('this is my magic method ')"
   ]
  },
  {
   "cell_type": "code",
   "execution_count": 15,
   "id": "3f64fcc6-1a9c-411f-b19b-57f1386ba95c",
   "metadata": {},
   "outputs": [],
   "source": [
    "pw=pwskills1()"
   ]
  },
  {
   "cell_type": "code",
   "execution_count": 16,
   "id": "fe318e1c-2b66-478f-9d6a-6534da35f754",
   "metadata": {},
   "outputs": [
    {
     "data": {
      "text/plain": [
       "<__main__.pwskills1 at 0x7f2e45e91b10>"
      ]
     },
     "execution_count": 16,
     "metadata": {},
     "output_type": "execute_result"
    }
   ],
   "source": [
    "pw"
   ]
  },
  {
   "cell_type": "code",
   "execution_count": 17,
   "id": "91695dcf-bc1d-4b5c-a860-1168507455fb",
   "metadata": {},
   "outputs": [
    {
     "name": "stdout",
     "output_type": "stream",
     "text": [
      "this is my magic method \n"
     ]
    }
   ],
   "source": [
    "print(pw)"
   ]
  },
  {
   "cell_type": "code",
   "execution_count": 46,
   "id": "354a7047-b58d-4c08-8c3f-7e2a6ac285ac",
   "metadata": {},
   "outputs": [],
   "source": [
    "class pwskills:\n",
    "    \n",
    "    def __init__(self,course_price,course_name):\n",
    "        self.__course_price=course_price\n",
    "        self.course_name=course_name\n",
    "        \n",
    "    @property\n",
    "    def course_price_access(self):\n",
    "        return self.__course_price\n",
    "    \n",
    "    @course_price_access.setter\n",
    "    def course_price_set(self,price):\n",
    "        if price <=3500:\n",
    "            pass\n",
    "        else:\n",
    "            self.__course_price=price\n",
    "            \n",
    "    @course_price_access.deleter\n",
    "    def course_price_del(self):\n",
    "        del self.__course_price"
   ]
  },
  {
   "cell_type": "code",
   "execution_count": 47,
   "id": "2ed26dd6-aba0-44a4-b51a-7e5770c5a0fd",
   "metadata": {},
   "outputs": [],
   "source": [
    "pw=pwskills(3500,'coursenmame')"
   ]
  },
  {
   "cell_type": "code",
   "execution_count": 34,
   "id": "9dbaf37f-21fa-4c88-855e-268b113d9fda",
   "metadata": {},
   "outputs": [
    {
     "data": {
      "text/plain": [
       "'coursenmame'"
      ]
     },
     "execution_count": 34,
     "metadata": {},
     "output_type": "execute_result"
    }
   ],
   "source": [
    "pw.course_name"
   ]
  },
  {
   "cell_type": "code",
   "execution_count": 25,
   "id": "725fcfbe-8367-4b31-8934-3ba171810787",
   "metadata": {},
   "outputs": [
    {
     "data": {
      "text/plain": [
       "3500"
      ]
     },
     "execution_count": 25,
     "metadata": {},
     "output_type": "execute_result"
    }
   ],
   "source": [
    "pw._pwskills__course_price"
   ]
  },
  {
   "cell_type": "code",
   "execution_count": 27,
   "id": "6b67ada8-4d78-45c8-8e10-7070bd884206",
   "metadata": {},
   "outputs": [
    {
     "data": {
      "text/plain": [
       "3500"
      ]
     },
     "execution_count": 27,
     "metadata": {},
     "output_type": "execute_result"
    }
   ],
   "source": [
    "pw.course_price_access"
   ]
  },
  {
   "cell_type": "code",
   "execution_count": 42,
   "id": "9f1b0ef1-7722-4eea-a1cd-4e5fc211eb34",
   "metadata": {},
   "outputs": [],
   "source": [
    "pw._pwskills__course_price=9000"
   ]
  },
  {
   "cell_type": "code",
   "execution_count": 43,
   "id": "dad9bdae-5428-4757-a31b-851ff8e3bffd",
   "metadata": {},
   "outputs": [
    {
     "data": {
      "text/plain": [
       "9000"
      ]
     },
     "execution_count": 43,
     "metadata": {},
     "output_type": "execute_result"
    }
   ],
   "source": [
    "pw.course_price_access"
   ]
  },
  {
   "cell_type": "code",
   "execution_count": 44,
   "id": "621332f5-00bf-4ce2-92e0-761f3acd2d8a",
   "metadata": {},
   "outputs": [],
   "source": [
    "pw.course_price_set=5000"
   ]
  },
  {
   "cell_type": "code",
   "execution_count": 45,
   "id": "71d91530-9beb-4d6c-bbf9-3f610d03c546",
   "metadata": {},
   "outputs": [
    {
     "data": {
      "text/plain": [
       "5000"
      ]
     },
     "execution_count": 45,
     "metadata": {},
     "output_type": "execute_result"
    }
   ],
   "source": [
    "pw.course_price_access"
   ]
  },
  {
   "cell_type": "code",
   "execution_count": 50,
   "id": "76ebcb8f-90c7-42c9-a9f9-3f1ad2890866",
   "metadata": {},
   "outputs": [
    {
     "data": {
      "text/plain": [
       "3500"
      ]
     },
     "execution_count": 50,
     "metadata": {},
     "output_type": "execute_result"
    }
   ],
   "source": [
    "pw.course_price_del"
   ]
  },
  {
   "cell_type": "code",
   "execution_count": 51,
   "id": "f6178934-55f0-4663-8df9-f6f3dd7e5f5b",
   "metadata": {},
   "outputs": [
    {
     "data": {
      "text/plain": [
       "3500"
      ]
     },
     "execution_count": 51,
     "metadata": {},
     "output_type": "execute_result"
    }
   ],
   "source": [
    "pw.course_price_access"
   ]
  },
  {
   "cell_type": "markdown",
   "id": "cc84a3f2-a0ec-4f03-8727-21e1d4f327e4",
   "metadata": {},
   "source": [
    "## File"
   ]
  },
  {
   "cell_type": "code",
   "execution_count": 62,
   "id": "26b8de9f-b901-48a8-b424-15fa235b60a7",
   "metadata": {},
   "outputs": [],
   "source": [
    "f=open('text.txt','w')"
   ]
  },
  {
   "cell_type": "code",
   "execution_count": 57,
   "id": "d68b31c4-efaf-481e-bb83-203945f75c2c",
   "metadata": {},
   "outputs": [
    {
     "name": "stdout",
     "output_type": "stream",
     "text": [
      "'1.Basic sep 2023.ipynb'  '2.basic sep 2.ipynb'   text.txt\n"
     ]
    }
   ],
   "source": [
    "ls"
   ]
  },
  {
   "cell_type": "code",
   "execution_count": 58,
   "id": "bfa401c8-5401-4078-83ba-b59788e476d5",
   "metadata": {},
   "outputs": [
    {
     "data": {
      "text/plain": [
       "'/home/jovyan/work/Revision '"
      ]
     },
     "execution_count": 58,
     "metadata": {},
     "output_type": "execute_result"
    }
   ],
   "source": [
    "pwd"
   ]
  },
  {
   "cell_type": "code",
   "execution_count": 59,
   "id": "ddf0fb0b-a912-4292-aa06-d440788f9311",
   "metadata": {},
   "outputs": [
    {
     "data": {
      "text/plain": [
       "27"
      ]
     },
     "execution_count": 59,
     "metadata": {},
     "output_type": "execute_result"
    }
   ],
   "source": [
    "f.write('this is my first operation ')"
   ]
  },
  {
   "cell_type": "code",
   "execution_count": 60,
   "id": "1adaf76c-da96-48a2-9b22-f3bbce91bd45",
   "metadata": {},
   "outputs": [],
   "source": [
    "f.close()"
   ]
  },
  {
   "cell_type": "code",
   "execution_count": 63,
   "id": "aa8ac25e-5c4c-44e2-9b86-20fce65efd25",
   "metadata": {},
   "outputs": [
    {
     "data": {
      "text/plain": [
       "563"
      ]
     },
     "execution_count": 63,
     "metadata": {},
     "output_type": "execute_result"
    }
   ],
   "source": [
    "f.write('The coolest, most prestigious, and certainly the most rewarding competition in Asia! The Legends Cup is for those elite athletes for whom one race a season is certainly not enough. Participate in at least 6 editions through the year, get to finish in the top 10 and have points allotted for each finish. At the end of the year, the leader board will show cumulative points earned by each runner and rank the top 10 for the Season. The top male and female athlete will win themselves a brand new Maruti Suzuki Swift each. The top 5 in each category win cash prizes')"
   ]
  },
  {
   "cell_type": "code",
   "execution_count": 64,
   "id": "1e6f71ed-e0a2-4818-b5c3-4ca4fdff2470",
   "metadata": {},
   "outputs": [],
   "source": [
    "f.close()"
   ]
  },
  {
   "cell_type": "code",
   "execution_count": 67,
   "id": "7fd11749-a117-4363-9e0f-172a22992604",
   "metadata": {},
   "outputs": [],
   "source": [
    "data=open('text.txt','r')"
   ]
  },
  {
   "cell_type": "code",
   "execution_count": 68,
   "id": "b07bd459-46d9-41b9-93be-302bc69546a4",
   "metadata": {},
   "outputs": [
    {
     "data": {
      "text/plain": [
       "'The coolest, most prestigious, and certainly the most rewarding competition in Asia! The Legends Cup is for those elite athletes for whom one race a season is certainly not enough. Participate in at least 6 editions through the year, get to finish in the top 10 and have points allotted for each finish. At the end of the year, the leader board will show cumulative points earned by each runner and rank the top 10 for the Season. The top male and female athlete will win themselves a brand new Maruti Suzuki Swift each. The top 5 in each category win cash prizes'"
      ]
     },
     "execution_count": 68,
     "metadata": {},
     "output_type": "execute_result"
    }
   ],
   "source": [
    "data.read()"
   ]
  },
  {
   "cell_type": "code",
   "execution_count": 69,
   "id": "6441fabe-7294-489b-be61-d5499636f526",
   "metadata": {},
   "outputs": [
    {
     "data": {
      "text/plain": [
       "''"
      ]
     },
     "execution_count": 69,
     "metadata": {},
     "output_type": "execute_result"
    }
   ],
   "source": [
    "data.read()"
   ]
  },
  {
   "cell_type": "code",
   "execution_count": 70,
   "id": "861eb35c-4081-43af-8ef7-d32f021e9b8d",
   "metadata": {},
   "outputs": [
    {
     "data": {
      "text/plain": [
       "0"
      ]
     },
     "execution_count": 70,
     "metadata": {},
     "output_type": "execute_result"
    }
   ],
   "source": [
    "data.seek(0)"
   ]
  },
  {
   "cell_type": "code",
   "execution_count": 71,
   "id": "56ad65b6-f845-4289-bd3d-82b405ba6e0b",
   "metadata": {},
   "outputs": [
    {
     "data": {
      "text/plain": [
       "'The coolest, most prestigious, and certainly the most rewarding competition in Asia! The Legends Cup is for those elite athletes for whom one race a season is certainly not enough. Participate in at least 6 editions through the year, get to finish in the top 10 and have points allotted for each finish. At the end of the year, the leader board will show cumulative points earned by each runner and rank the top 10 for the Season. The top male and female athlete will win themselves a brand new Maruti Suzuki Swift each. The top 5 in each category win cash prizes'"
      ]
     },
     "execution_count": 71,
     "metadata": {},
     "output_type": "execute_result"
    }
   ],
   "source": [
    "data.read()"
   ]
  },
  {
   "cell_type": "code",
   "execution_count": 72,
   "id": "fa621f22-743d-462a-8535-77fd6be1f080",
   "metadata": {},
   "outputs": [
    {
     "data": {
      "text/plain": [
       "56"
      ]
     },
     "execution_count": 72,
     "metadata": {},
     "output_type": "execute_result"
    }
   ],
   "source": [
    "data.seek(56)"
   ]
  },
  {
   "cell_type": "code",
   "execution_count": 73,
   "id": "a65e1e51-e018-4411-b491-bc906e95686b",
   "metadata": {},
   "outputs": [
    {
     "data": {
      "text/plain": [
       "'warding competition in Asia! The Legends Cup is for those elite athletes for whom one race a season is certainly not enough. Participate in at least 6 editions through the year, get to finish in the top 10 and have points allotted for each finish. At the end of the year, the leader board will show cumulative points earned by each runner and rank the top 10 for the Season. The top male and female athlete will win themselves a brand new Maruti Suzuki Swift each. The top 5 in each category win cash prizes'"
      ]
     },
     "execution_count": 73,
     "metadata": {},
     "output_type": "execute_result"
    }
   ],
   "source": [
    "data.read()"
   ]
  },
  {
   "cell_type": "code",
   "execution_count": 76,
   "id": "b97dc216-3775-4870-9458-0b92f9e25600",
   "metadata": {},
   "outputs": [],
   "source": [
    "data1= open('text.txt','r')"
   ]
  },
  {
   "cell_type": "code",
   "execution_count": 77,
   "id": "d4212e04-4c14-4d02-8c80-004aef2372de",
   "metadata": {},
   "outputs": [
    {
     "name": "stdout",
     "output_type": "stream",
     "text": [
      "The coolest, most prestigious, and certainly the most rewarding competition in Asia! The Legends Cup is for those elite athletes for whom one race a season is certainly not enough. Participate in at least 6 editions through the year, get to finish in the top 10 and have points allotted for each finish. At the end of the year, the leader board will show cumulative points earned by each runner and rank the top 10 for the Season. The top male and female athlete will win themselves a brand new Maruti Suzuki Swift each. The top 5 in each category win cash prizes\n"
     ]
    }
   ],
   "source": [
    "for i in data1:\n",
    "    print(i)"
   ]
  },
  {
   "cell_type": "code",
   "execution_count": 80,
   "id": "cb496685-7a86-426f-ad3b-7520fe2927d0",
   "metadata": {},
   "outputs": [
    {
     "name": "stdout",
     "output_type": "stream",
     "text": [
      "The coolest, most prestigious, and certainly the most rewarding competition in Asia! The Legends Cup is for those elite athletes for whom one race a season is certainly not enough. Participate in at least 6 editions through the year, get to finish in the top 10 and have points allotted for each finish. At the end of the year, the leader board will show cumulative points earned by each runner and rank the top 10 for the Season. The top male and female athlete will win themselves a brand new Maruti Suzuki Swift each. The top 5 in each category win cash prizes\n"
     ]
    }
   ],
   "source": [
    "for i in list(data1):\n",
    "    print(i)"
   ]
  },
  {
   "cell_type": "code",
   "execution_count": 79,
   "id": "98f6262f-4046-4c9a-9535-f6cb79583df5",
   "metadata": {},
   "outputs": [
    {
     "data": {
      "text/plain": [
       "0"
      ]
     },
     "execution_count": 79,
     "metadata": {},
     "output_type": "execute_result"
    }
   ],
   "source": [
    "data1.seek(0)"
   ]
  },
  {
   "cell_type": "code",
   "execution_count": 81,
   "id": "536409db-5216-4c8e-8325-d0cee06414f5",
   "metadata": {},
   "outputs": [],
   "source": [
    "import os"
   ]
  },
  {
   "cell_type": "code",
   "execution_count": 82,
   "id": "772f8dd5-795a-4ee0-b230-7ef0db2a0e3d",
   "metadata": {},
   "outputs": [
    {
     "data": {
      "text/plain": [
       "563"
      ]
     },
     "execution_count": 82,
     "metadata": {},
     "output_type": "execute_result"
    }
   ],
   "source": [
    "os.path.getsize('text.txt')"
   ]
  },
  {
   "cell_type": "code",
   "execution_count": 83,
   "id": "5762d06d-10ef-4b5f-8454-93073bbf1ab0",
   "metadata": {},
   "outputs": [],
   "source": [
    "import shutil"
   ]
  },
  {
   "cell_type": "code",
   "execution_count": 84,
   "id": "32733e42-3ee3-4ad8-bf95-eb5f1df3cfde",
   "metadata": {},
   "outputs": [
    {
     "data": {
      "text/plain": [
       "'newtest_txt'"
      ]
     },
     "execution_count": 84,
     "metadata": {},
     "output_type": "execute_result"
    }
   ],
   "source": [
    "shutil.copy('text.txt','newtest_txt')"
   ]
  },
  {
   "cell_type": "code",
   "execution_count": 85,
   "id": "b11896b8-65f7-41bb-a55e-560743abbe8d",
   "metadata": {},
   "outputs": [],
   "source": [
    "os.remove('text.txt')"
   ]
  },
  {
   "cell_type": "code",
   "execution_count": 87,
   "id": "0302e4e3-ecf2-4ddf-aaa5-e43767a8ccb3",
   "metadata": {},
   "outputs": [
    {
     "name": "stdout",
     "output_type": "stream",
     "text": [
      "The coolest, most prestigious, and certainly the most rewarding competition in Asia! The Legends Cup is for those elite athletes for whom one race a season is certainly not enough. Participate in at least 6 editions through the year, get to finish in the top 10 and have points allotted for each finish. At the end of the year, the leader board will show cumulative points earned by each runner and rank the top 10 for the Season. The top male and female athlete will win themselves a brand new Maruti Suzuki Swift each. The top 5 in each category win cash prizes\n"
     ]
    }
   ],
   "source": [
    "with open ('newtest_txt','r') as f:\n",
    "    print(f.read())"
   ]
  },
  {
   "cell_type": "code",
   "execution_count": 88,
   "id": "83ab6e5f-c6a9-4322-a4db-62a4097bc5df",
   "metadata": {},
   "outputs": [],
   "source": [
    "os.rename('newtest_txt','new_test.txt')"
   ]
  },
  {
   "cell_type": "code",
   "execution_count": 89,
   "id": "02487db9-ba04-46cc-bd8d-a885d702ccd1",
   "metadata": {},
   "outputs": [],
   "source": [
    "os.remove('new_test.txt')"
   ]
  },
  {
   "cell_type": "code",
   "execution_count": 1,
   "id": "ca394ed1-7232-44e3-bdf5-8e4822f1c43c",
   "metadata": {},
   "outputs": [],
   "source": [
    "data={'name':'samarth','mail\"id':'samarth_ag','phone_number':2351165131,'subject':['site_works','valuation','analytics']}"
   ]
  },
  {
   "cell_type": "code",
   "execution_count": 2,
   "id": "e8a61bcd-6342-4921-9879-6f8b42f55753",
   "metadata": {},
   "outputs": [
    {
     "data": {
      "text/plain": [
       "{'name': 'samarth',\n",
       " 'mail\"id': 'samarth_ag',\n",
       " 'phone_number': 2351165131,\n",
       " 'subject': ['site_works', 'valuation', 'analytics']}"
      ]
     },
     "execution_count": 2,
     "metadata": {},
     "output_type": "execute_result"
    }
   ],
   "source": [
    "data"
   ]
  },
  {
   "cell_type": "code",
   "execution_count": 3,
   "id": "5549816f-a25a-4f1f-8bcf-f9acf6fe2027",
   "metadata": {},
   "outputs": [],
   "source": [
    "import json"
   ]
  },
  {
   "cell_type": "code",
   "execution_count": 7,
   "id": "e0a240d1-32fe-4772-8a30-d4da99387e83",
   "metadata": {},
   "outputs": [],
   "source": [
    "with open('test1.json','w') as f:\n",
    "    json.dump(data,f)"
   ]
  },
  {
   "cell_type": "code",
   "execution_count": 5,
   "id": "60532281-f529-4004-a3d8-16a4b5818d5a",
   "metadata": {},
   "outputs": [],
   "source": [
    "import os"
   ]
  },
  {
   "cell_type": "code",
   "execution_count": 6,
   "id": "fd4333ab-3ed6-4601-bc05-9e9a20a541a6",
   "metadata": {},
   "outputs": [],
   "source": [
    "os.remove('test1.json')"
   ]
  },
  {
   "cell_type": "code",
   "execution_count": 9,
   "id": "217569b0-7488-48f4-b539-4e7e199c1bdf",
   "metadata": {},
   "outputs": [],
   "source": [
    "with open ('test1.json','r') as f:\n",
    "    data1=json.load(f)"
   ]
  },
  {
   "cell_type": "code",
   "execution_count": 10,
   "id": "535381ac-974f-4a18-86a7-ec370b15a32e",
   "metadata": {},
   "outputs": [
    {
     "data": {
      "text/plain": [
       "{'name': 'samarth',\n",
       " 'mail\"id': 'samarth_ag',\n",
       " 'phone_number': 2351165131,\n",
       " 'subject': ['site_works', 'valuation', 'analytics']}"
      ]
     },
     "execution_count": 10,
     "metadata": {},
     "output_type": "execute_result"
    }
   ],
   "source": [
    "data1"
   ]
  },
  {
   "cell_type": "code",
   "execution_count": 12,
   "id": "86b6a34d-972d-44e5-a004-624e5877d6b7",
   "metadata": {},
   "outputs": [
    {
     "data": {
      "text/plain": [
       "'valuation'"
      ]
     },
     "execution_count": 12,
     "metadata": {},
     "output_type": "execute_result"
    }
   ],
   "source": [
    "data1['subject'][1]"
   ]
  },
  {
   "cell_type": "code",
   "execution_count": 13,
   "id": "632a4ee6-14c1-4e77-8756-25e2e25b4d03",
   "metadata": {},
   "outputs": [],
   "source": [
    "data=[['name','email','number'],\n",
    "      ['samarth','jgafjduvbwefu',6166516416],\n",
    "      ['krish','jferjfu',3121316461]\n",
    "     ]\n"
   ]
  },
  {
   "cell_type": "code",
   "execution_count": 14,
   "id": "086fabf1-73d7-42de-98af-95a2c55e4553",
   "metadata": {},
   "outputs": [],
   "source": [
    "import csv"
   ]
  },
  {
   "cell_type": "code",
   "execution_count": 15,
   "id": "8c036ee0-e670-4b77-b7c5-8da0d01c3e36",
   "metadata": {},
   "outputs": [],
   "source": [
    "with open('test3.csv','w') as f:\n",
    "    w= csv.writer(f)\n",
    "    for i in data :\n",
    "        w.writerow(i)"
   ]
  },
  {
   "cell_type": "code",
   "execution_count": 16,
   "id": "919a1f5f-1f1d-46a6-b822-d3a4cc726aaa",
   "metadata": {},
   "outputs": [
    {
     "name": "stdout",
     "output_type": "stream",
     "text": [
      "['name', 'email', 'number']\n",
      "['samarth', 'jgafjduvbwefu', '6166516416']\n",
      "['krish', 'jferjfu', '3121316461']\n"
     ]
    }
   ],
   "source": [
    "with open('test3.csv','r') as f:\n",
    "    read=csv.reader(f)\n",
    "    for i in read:\n",
    "        print(i)"
   ]
  },
  {
   "cell_type": "code",
   "execution_count": 17,
   "id": "9225f9c3-7354-404c-9f9e-4169d9d5ce63",
   "metadata": {},
   "outputs": [],
   "source": [
    "with open('test4.bin','wb') as f:\n",
    "    f.write(b'\\x01\\x02\\x03')"
   ]
  },
  {
   "cell_type": "code",
   "execution_count": 19,
   "id": "e58ef666-2017-49c0-b0ca-68144be81b58",
   "metadata": {},
   "outputs": [
    {
     "name": "stdout",
     "output_type": "stream",
     "text": [
      "b'\\x01\\x02\\x03'\n"
     ]
    }
   ],
   "source": [
    "with open('test4.bin','rb') as f:\n",
    "    print(f.read())"
   ]
  },
  {
   "cell_type": "code",
   "execution_count": 22,
   "id": "824b6129-14cf-4f98-a09c-0ba4de641a3b",
   "metadata": {},
   "outputs": [],
   "source": [
    "os.remove('test4.bin')"
   ]
  },
  {
   "cell_type": "code",
   "execution_count": 25,
   "id": "809d62c1-b12a-4977-b050-24926789b5b9",
   "metadata": {},
   "outputs": [
    {
     "name": "stdout",
     "output_type": "stream",
     "text": [
      "jfjjdf\n"
     ]
    }
   ],
   "source": [
    "print('jfjjdf')"
   ]
  },
  {
   "cell_type": "markdown",
   "id": "05d27802-8c2b-4b32-b089-4a191c89d0c1",
   "metadata": {},
   "source": [
    "# Buffer read and write operation "
   ]
  },
  {
   "cell_type": "code",
   "execution_count": 30,
   "id": "605d2cbd-aac0-4d6b-bd38-1ba77b80e270",
   "metadata": {},
   "outputs": [],
   "source": [
    "import io"
   ]
  },
  {
   "cell_type": "code",
   "execution_count": 40,
   "id": "1917c655-4441-4206-9e61-6420590d1878",
   "metadata": {},
   "outputs": [],
   "source": [
    "with open ('test.txt','wb') as f:\n",
    "    file = io.BufferedWriter(f)\n",
    "    file.write(b'this is my buffer write\\n')\n",
    "    file.write(b'this is my 2nd line')\n",
    "    file.flush()"
   ]
  },
  {
   "cell_type": "code",
   "execution_count": 44,
   "id": "234b171d-5b55-4148-bcdd-bf88076021a1",
   "metadata": {},
   "outputs": [
    {
     "name": "stdout",
     "output_type": "stream",
     "text": [
      "b'this is my buffer write\\nthis is my 2nd line'\n"
     ]
    }
   ],
   "source": [
    "with open('test.txt','rb') as f:\n",
    "    file=io.BufferedReader(f)\n",
    "    data=file.read(87)\n",
    "    print(data)"
   ]
  },
  {
   "cell_type": "code",
   "execution_count": 46,
   "id": "6056c9e0-5f3e-43da-8771-4eeed3ef3f38",
   "metadata": {},
   "outputs": [
    {
     "name": "stdout",
     "output_type": "stream",
     "text": [
      "this is my print statement\n"
     ]
    }
   ],
   "source": [
    "print('this is my print statement')"
   ]
  },
  {
   "cell_type": "code",
   "execution_count": 47,
   "id": "c1ef8546-f41e-4e77-b428-702674d27dfc",
   "metadata": {},
   "outputs": [],
   "source": [
    "os.remove('test.txt')"
   ]
  },
  {
   "cell_type": "code",
   "execution_count": 73,
   "id": "a260f7d1-cfff-47c3-8ae4-2ccfdb237087",
   "metadata": {},
   "outputs": [],
   "source": [
    "import logging"
   ]
  },
  {
   "cell_type": "code",
   "execution_count": 49,
   "id": "155fed65-ba97-4377-b89a-0b208de03641",
   "metadata": {},
   "outputs": [],
   "source": [
    "logging.basicConfig(filename='test.log',level=logging.INFO)"
   ]
  },
  {
   "cell_type": "code",
   "execution_count": 50,
   "id": "ccb5f3bb-a277-414b-965d-cd52d52b0de4",
   "metadata": {},
   "outputs": [],
   "source": [
    "logging.info('this is my line of execution')"
   ]
  },
  {
   "cell_type": "code",
   "execution_count": 52,
   "id": "bd3bba16-f8db-498f-add9-f8865eb13eff",
   "metadata": {},
   "outputs": [],
   "source": [
    "logging.error('thios is my error')"
   ]
  },
  {
   "cell_type": "code",
   "execution_count": 51,
   "id": "f545d903-2836-4702-ba77-f072a42804c9",
   "metadata": {},
   "outputs": [],
   "source": [
    "logging.critical('this is my critical ')"
   ]
  },
  {
   "cell_type": "code",
   "execution_count": 53,
   "id": "2cd0a4b1-bb66-4224-af3d-845eb7c28e97",
   "metadata": {},
   "outputs": [],
   "source": [
    "logging.warning('this is my warning')"
   ]
  },
  {
   "cell_type": "code",
   "execution_count": 55,
   "id": "5e1fb4be-0171-4e5b-86fd-1f04221f463c",
   "metadata": {},
   "outputs": [],
   "source": [
    "logging.debug('thios is my info relATED TO MY DEBUG')"
   ]
  },
  {
   "cell_type": "code",
   "execution_count": 66,
   "id": "19122b20-725b-4f3d-88c4-b2b0ecb1ab2e",
   "metadata": {},
   "outputs": [],
   "source": [
    "logging.shutdown()"
   ]
  },
  {
   "cell_type": "code",
   "execution_count": 74,
   "id": "fccce7e2-5134-456e-a9e7-b5e817ab2cd7",
   "metadata": {},
   "outputs": [],
   "source": [
    "logging.basicConfig(filename ='test1.log', level=logging.DEBUG,format='%(asctime)s %(message)s ')"
   ]
  },
  {
   "cell_type": "code",
   "execution_count": 75,
   "id": "8d55cc42-45f0-4260-8f00-4af59e657a73",
   "metadata": {},
   "outputs": [],
   "source": [
    "logging.info('this is my info log')"
   ]
  },
  {
   "cell_type": "code",
   "execution_count": 76,
   "id": "7963e086-c5b8-471f-b86d-508ce1a41bbb",
   "metadata": {},
   "outputs": [],
   "source": [
    "logging.basicConfig(filename='test3.log', level=logging.DEBUG, format='%(asctime)s%(name)s %(message)s ')"
   ]
  },
  {
   "cell_type": "code",
   "execution_count": 77,
   "id": "78dc661c-871b-4dbf-bf82-9bd87a82121f",
   "metadata": {},
   "outputs": [],
   "source": [
    "logging.info('this os my info')"
   ]
  },
  {
   "cell_type": "code",
   "execution_count": 78,
   "id": "4c1992cd-a816-4143-a570-ffc87157be54",
   "metadata": {},
   "outputs": [],
   "source": [
    "l=[1,2,3,4,[4,5,6],'samarth','kumar']"
   ]
  },
  {
   "cell_type": "code",
   "execution_count": 79,
   "id": "fd822348-3644-40d8-83a8-887a455becb5",
   "metadata": {},
   "outputs": [
    {
     "data": {
      "text/plain": [
       "[1, 2, 3, 4, [4, 5, 6], 'samarth', 'kumar']"
      ]
     },
     "execution_count": 79,
     "metadata": {},
     "output_type": "execute_result"
    }
   ],
   "source": [
    "l"
   ]
  },
  {
   "cell_type": "code",
   "execution_count": 81,
   "id": "7d99160d-9a82-448e-bf4d-b6bde9e704a6",
   "metadata": {},
   "outputs": [],
   "source": [
    "l1_int=[]\n",
    "l2_str=[]\n",
    "\n",
    "for i  in l:\n",
    "    if type (i)==list:\n",
    "        for j in i:\n",
    "            if type(j)==int:\n",
    "                l1_int.append(j)\n",
    "    elif type (i)==int:\n",
    "        l1_int.append(i)\n",
    "    else:\n",
    "        if type (i)==str:\n",
    "            l2_str.append(i)"
   ]
  },
  {
   "cell_type": "code",
   "execution_count": 82,
   "id": "c9d3223b-2de2-4b22-b93b-fa554d909343",
   "metadata": {},
   "outputs": [
    {
     "data": {
      "text/plain": [
       "[1, 2, 3, 4, 4, 5, 6]"
      ]
     },
     "execution_count": 82,
     "metadata": {},
     "output_type": "execute_result"
    }
   ],
   "source": [
    "l1_int"
   ]
  },
  {
   "cell_type": "code",
   "execution_count": 83,
   "id": "a0f72ae7-75cb-417b-a0f4-139406fad6f9",
   "metadata": {},
   "outputs": [
    {
     "data": {
      "text/plain": [
       "['samarth', 'kumar']"
      ]
     },
     "execution_count": 83,
     "metadata": {},
     "output_type": "execute_result"
    }
   ],
   "source": [
    "l2_str"
   ]
  },
  {
   "cell_type": "code",
   "execution_count": 92,
   "id": "438417cd-fe23-49c1-951b-282981c9f0aa",
   "metadata": {},
   "outputs": [],
   "source": [
    "l1_int=[]\n",
    "l2_str=[]\n",
    "\n",
    "for i  in l:\n",
    "    logging.info('this is the start of my first loop{}'.format(l))\n",
    "    logging.info('this is the value of i am logging{}'.format(i))\n",
    "    if type (i)==list:\n",
    "        for j in i:\n",
    "            logging.info('logging my j{j} and i{i}'.format(i=i,j=j))\n",
    "            if type(j)==int:\n",
    "                l1_int.append(j)\n",
    "    elif type (i)==int:\n",
    "        l1_int.append(i)\n",
    "    else:\n",
    "        if type (i)==str:\n",
    "            l2_str.append(i)\n",
    "logging.info('thois is my final result with all int{l1} , with all str with {l2}'.format(l1=l1_int,l2=l2_str))"
   ]
  },
  {
   "cell_type": "code",
   "execution_count": null,
   "id": "acfb81a4-110c-4ce9-a3c7-d86b3b8d4af4",
   "metadata": {},
   "outputs": [],
   "source": []
  },
  {
   "cell_type": "code",
   "execution_count": null,
   "id": "0f390091-de9b-48b1-a753-c872112cc251",
   "metadata": {},
   "outputs": [],
   "source": []
  },
  {
   "cell_type": "code",
   "execution_count": null,
   "id": "ccd380e8-0272-477f-a796-60d25615e0a5",
   "metadata": {},
   "outputs": [],
   "source": []
  },
  {
   "cell_type": "code",
   "execution_count": null,
   "id": "78e52d17-6857-40ca-8a2f-2784ecfb4236",
   "metadata": {},
   "outputs": [],
   "source": []
  },
  {
   "cell_type": "code",
   "execution_count": null,
   "id": "6b476b7d-5828-445b-9e93-235491b662bd",
   "metadata": {},
   "outputs": [],
   "source": []
  },
  {
   "cell_type": "code",
   "execution_count": null,
   "id": "1560f123-d085-4b34-a2bd-30b6be18abef",
   "metadata": {},
   "outputs": [],
   "source": []
  },
  {
   "cell_type": "code",
   "execution_count": null,
   "id": "4e603637-ac91-41bc-b154-f3afd4d5db5b",
   "metadata": {},
   "outputs": [],
   "source": []
  },
  {
   "cell_type": "code",
   "execution_count": null,
   "id": "f744b35f-47e8-46a4-bdd2-9ab209c18600",
   "metadata": {},
   "outputs": [],
   "source": []
  },
  {
   "cell_type": "code",
   "execution_count": null,
   "id": "421b3d70-ab3c-4b66-add8-a2a7fc6d850b",
   "metadata": {},
   "outputs": [],
   "source": []
  }
 ],
 "metadata": {
  "kernelspec": {
   "display_name": "Python 3 (ipykernel)",
   "language": "python",
   "name": "python3"
  },
  "language_info": {
   "codemirror_mode": {
    "name": "ipython",
    "version": 3
   },
   "file_extension": ".py",
   "mimetype": "text/x-python",
   "name": "python",
   "nbconvert_exporter": "python",
   "pygments_lexer": "ipython3",
   "version": "3.10.8"
  }
 },
 "nbformat": 4,
 "nbformat_minor": 5
}
